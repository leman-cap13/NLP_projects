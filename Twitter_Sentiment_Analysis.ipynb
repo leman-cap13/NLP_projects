{
  "nbformat": 4,
  "nbformat_minor": 0,
  "metadata": {
    "colab": {
      "provenance": [],
      "authorship_tag": "ABX9TyNZa51RuAb/VkWr8Q6XM8Xx",
      "include_colab_link": true
    },
    "kernelspec": {
      "name": "python3",
      "display_name": "Python 3"
    },
    "language_info": {
      "name": "python"
    }
  },
  "cells": [
    {
      "cell_type": "markdown",
      "metadata": {
        "id": "view-in-github",
        "colab_type": "text"
      },
      "source": [
        "<a href=\"https://colab.research.google.com/github/leman-cap13/my_projects/blob/main/Twitter_Sentiment_Analysis.ipynb\" target=\"_parent\"><img src=\"https://colab.research.google.com/assets/colab-badge.svg\" alt=\"Open In Colab\"/></a>"
      ]
    },
    {
      "cell_type": "code",
      "execution_count": null,
      "metadata": {
        "id": "wG4ePwIFwcXj"
      },
      "outputs": [],
      "source": [
        "from google.colab import files\n",
        "files.upload()"
      ]
    },
    {
      "cell_type": "code",
      "source": [
        "!mkdir -p ~/.kaggle\n",
        "!cp kaggle.json ~/.kaggle/\n",
        "!chmod 600 ~/.kaggle/kaggle.json"
      ],
      "metadata": {
        "id": "a0gscvGe1UU9"
      },
      "execution_count": null,
      "outputs": []
    },
    {
      "cell_type": "code",
      "source": [
        "!kaggle datasets download jp797498e/twitter-entity-sentiment-analysis"
      ],
      "metadata": {
        "id": "eD0cSLmb1Wrn"
      },
      "execution_count": null,
      "outputs": []
    },
    {
      "cell_type": "code",
      "source": [
        "import zipfile\n",
        "with zipfile.ZipFile('/content/twitter-entity-sentiment-analysis.zip','r') as zip_ref:\n",
        "  zip_ref.extractall()"
      ],
      "metadata": {
        "id": "DsViWUFa1jgE"
      },
      "execution_count": null,
      "outputs": []
    },
    {
      "cell_type": "code",
      "source": [
        "import pandas as pd"
      ],
      "metadata": {
        "id": "XNwJ92lj10We"
      },
      "execution_count": null,
      "outputs": []
    },
    {
      "cell_type": "code",
      "source": [
        "columns =[\"ID\",\"Entity\",\"Label\",\"Text\"]\n",
        "df=pd.read_csv('/content/twitter_training.csv',names=columns)\n",
        "df"
      ],
      "metadata": {
        "id": "6j-ammVY2fa2"
      },
      "execution_count": null,
      "outputs": []
    },
    {
      "cell_type": "code",
      "source": [
        "df['Label'].value_counts().plot(kind='bar');"
      ],
      "metadata": {
        "id": "0PXpVLrp2p1L"
      },
      "execution_count": null,
      "outputs": []
    },
    {
      "cell_type": "code",
      "source": [
        "df['Entity'].value_counts()"
      ],
      "metadata": {
        "id": "op2K0hJM2tNG"
      },
      "execution_count": null,
      "outputs": []
    },
    {
      "cell_type": "code",
      "source": [
        "df.isna().sum()"
      ],
      "metadata": {
        "id": "heD0c_Sn26n_"
      },
      "execution_count": null,
      "outputs": []
    },
    {
      "cell_type": "code",
      "source": [
        "df.duplicated().sum()"
      ],
      "metadata": {
        "id": "ifJjm7WD3By6"
      },
      "execution_count": null,
      "outputs": []
    },
    {
      "cell_type": "code",
      "source": [
        "df.drop_duplicates(inplace=True)"
      ],
      "metadata": {
        "id": "zV68F-uS3EjW"
      },
      "execution_count": null,
      "outputs": []
    },
    {
      "cell_type": "code",
      "source": [
        "df.dropna(inplace=True)"
      ],
      "metadata": {
        "id": "HXcRdhiM3Hvy"
      },
      "execution_count": null,
      "outputs": []
    },
    {
      "cell_type": "code",
      "source": [
        "import re\n",
        "\n",
        "def clean_text(text):\n",
        "    text = re.sub(r'@[A-Za-z0-9_]+', '', text)\n",
        "    text = re.sub(r'#', '', text)\n",
        "    text = re.sub(r'RT[\\s]+', '', text)\n",
        "    text = re.sub(r'https?://\\S+', '', text)\n",
        "    text = re.sub(r'[^\\w\\s]', '', text)\n",
        "    return text.lower()\n",
        "\n",
        "df['clean_text'] = df['Text'].apply(clean_text)\n"
      ],
      "metadata": {
        "id": "xj2-OQWU6lD-"
      },
      "execution_count": null,
      "outputs": []
    },
    {
      "cell_type": "code",
      "source": [
        "df"
      ],
      "metadata": {
        "id": "01mz4iDI7TZf"
      },
      "execution_count": null,
      "outputs": []
    },
    {
      "cell_type": "code",
      "source": [
        "df.drop('Text',axis=1,inplace=True)"
      ],
      "metadata": {
        "id": "N5P1K2qp7Uwx"
      },
      "execution_count": null,
      "outputs": []
    },
    {
      "cell_type": "code",
      "source": [
        "df.head()"
      ],
      "metadata": {
        "id": "Q9prtdvQ7dFB"
      },
      "execution_count": null,
      "outputs": []
    },
    {
      "cell_type": "code",
      "source": [
        "import nltk\n",
        "nltk.download('wordnet')\n",
        "from nltk.stem import WordNetLemmatizer\n",
        "lemmatizer=WordNetLemmatizer()\n",
        "\n",
        "def lemmatize_text(text):\n",
        "    words = text.split()\n",
        "    lemmatized_words = [lemmatizer.lemmatize(word,pos=\"v\") for word in words]\n",
        "    return ' '.join(lemmatized_words)"
      ],
      "metadata": {
        "id": "YFtzPu9N7ejk"
      },
      "execution_count": null,
      "outputs": []
    },
    {
      "cell_type": "code",
      "source": [
        "df['clean_text'] = df['clean_text'].apply(lemmatize_text)"
      ],
      "metadata": {
        "id": "T1Kz4r6l8X-m"
      },
      "execution_count": null,
      "outputs": []
    },
    {
      "cell_type": "code",
      "source": [
        "df['clean_text'][1]"
      ],
      "metadata": {
        "id": "jaggwxch8faL"
      },
      "execution_count": null,
      "outputs": []
    },
    {
      "cell_type": "code",
      "source": [
        "df['Label']=df['Label'].map({'Neutral':0,'Positive':1,'Negative':2,'Irrelevant':3})"
      ],
      "metadata": {
        "id": "eGow8Wu68snI"
      },
      "execution_count": null,
      "outputs": []
    },
    {
      "cell_type": "code",
      "source": [
        "df.head()"
      ],
      "metadata": {
        "id": "Uc2w4pl6-24F"
      },
      "execution_count": null,
      "outputs": []
    },
    {
      "cell_type": "code",
      "source": [
        "import tensorflow as tf"
      ],
      "metadata": {
        "id": "Cy5jfgBM-54O"
      },
      "execution_count": null,
      "outputs": []
    },
    {
      "cell_type": "code",
      "source": [
        "tf.random.set_seed(42)\n",
        "text_vector_layer=tf.keras.layers.TextVectorization(max_tokens=10000,output_sequence_length=50)\n",
        "text_vector_layer.adapt(df['clean_text'])"
      ],
      "metadata": {
        "id": "6y-z9QDE_EO6"
      },
      "execution_count": null,
      "outputs": []
    },
    {
      "cell_type": "code",
      "source": [
        "text_vector_layer.get_vocabulary()"
      ],
      "metadata": {
        "id": "SNgDtt7PFDNa"
      },
      "execution_count": null,
      "outputs": []
    },
    {
      "cell_type": "code",
      "source": [
        "texts=df['clean_text'].values\n",
        "labels=df['Label'].values"
      ],
      "metadata": {
        "id": "crLLAZKW_81w"
      },
      "execution_count": null,
      "outputs": []
    },
    {
      "cell_type": "code",
      "source": [
        "labels"
      ],
      "metadata": {
        "id": "5xvrvQQFAV_I"
      },
      "execution_count": null,
      "outputs": []
    },
    {
      "cell_type": "code",
      "source": [
        "vectorized_text=text_vector_layer(texts)\n",
        "vectorized_text"
      ],
      "metadata": {
        "id": "9Su4LYQ1AWqU"
      },
      "execution_count": null,
      "outputs": []
    },
    {
      "cell_type": "code",
      "source": [
        "# dataset=tf.data.Dataset.from_tensor_slices((vectorized_text,labels))"
      ],
      "metadata": {
        "id": "29-rdb7dBgzx"
      },
      "execution_count": null,
      "outputs": []
    },
    {
      "cell_type": "code",
      "source": [
        "vocab_size=len(text_vector_layer.get_vocabulary())\n",
        "vocab_size"
      ],
      "metadata": {
        "id": "JQR4AXKNGazv"
      },
      "execution_count": null,
      "outputs": []
    },
    {
      "cell_type": "code",
      "source": [
        "from sklearn.model_selection import train_test_split"
      ],
      "metadata": {
        "id": "y4xfdZhmKrlT"
      },
      "execution_count": null,
      "outputs": []
    },
    {
      "cell_type": "code",
      "source": [
        "labels = tf.keras.utils.to_categorical(labels, num_classes=4)\n",
        "\n",
        "X_train, X_test, y_train, y_test = train_test_split(texts, labels, test_size=0.2, random_state=42)\n",
        "\n",
        "\n",
        "train_data = tf.data.Dataset.from_tensor_slices((X_train, y_train))\n",
        "test_data = tf.data.Dataset.from_tensor_slices((X_test, y_test))\n",
        "\n",
        "train = train_data.shuffle(1000, seed=13).batch(32).prefetch(1)\n",
        "test = test_data.batch(32).prefetch(1)"
      ],
      "metadata": {
        "id": "evsinA1NKnHZ"
      },
      "execution_count": null,
      "outputs": []
    },
    {
      "cell_type": "code",
      "source": [
        "model=tf.keras.models.Sequential([\n",
        "    text_vector_layer,\n",
        "    tf.keras.layers.Embedding(input_dim=vocab_size,output_dim=64,mask_zero=True),\n",
        "    tf.keras.layers.LSTM(128,return_sequences=False),\n",
        "    tf.keras.layers.Dense(4,activation='softmax')\n",
        "])\n",
        "\n",
        "model.compile(loss='categorical_crossentropy', optimizer='adam', metrics=['accuracy'])\n",
        "\n",
        "model.fit(train,epochs=10,validation_data=test)\n"
      ],
      "metadata": {
        "id": "nqwXvPLPFHzc"
      },
      "execution_count": null,
      "outputs": []
    },
    {
      "cell_type": "code",
      "source": [
        "example_sentence='Now the President is slapping Americans in the face that he really did commit an unlawful act'\n",
        "\n",
        "example_tensor = tf.constant([example_sentence])\n",
        "\n",
        "prediction = model.predict(example_tensor)\n",
        "\n",
        "predicted_class = prediction.argmax(axis=-1)"
      ],
      "metadata": {
        "id": "fPMp5SzvNfFD"
      },
      "execution_count": null,
      "outputs": []
    },
    {
      "cell_type": "code",
      "source": [
        "predicted_class"
      ],
      "metadata": {
        "id": "989fE-7uToTN"
      },
      "execution_count": null,
      "outputs": []
    },
    {
      "cell_type": "code",
      "source": [
        "class_labels = ['Neutral', 'Positive', 'Negative', 'Irrelevant']\n",
        "print(f\"Predicted Class: {class_labels[predicted_class[0]]}\")"
      ],
      "metadata": {
        "id": "zvcVKDq6S_7x"
      },
      "execution_count": null,
      "outputs": []
    },
    {
      "cell_type": "code",
      "source": [
        "example_second_sentence='how beautiful application we have'\n",
        "example_tensor=tf.constant([example_second_sentence])\n",
        "prediction=model.predict(example_tensor)\n",
        "pred=prediction.argmax(axis=-1)"
      ],
      "metadata": {
        "id": "u2WSCISMTjQ5"
      },
      "execution_count": null,
      "outputs": []
    },
    {
      "cell_type": "code",
      "source": [
        "pred"
      ],
      "metadata": {
        "id": "mwc04M38USTl"
      },
      "execution_count": null,
      "outputs": []
    },
    {
      "cell_type": "code",
      "source": [
        "class_labels[pred[0]]"
      ],
      "metadata": {
        "id": "h5mIkDHAUdY6"
      },
      "execution_count": null,
      "outputs": []
    },
    {
      "cell_type": "code",
      "source": [
        "example_sentence_3='@Microsoft Why do I pay for WORD when it functions so poorly on my @SamsungUS Chromebook? 🙄'\n",
        "\n",
        "exm_tensor=tf.constant([example_sentence_3])\n",
        "pred=model.predict(exm_tensor)\n",
        "pred_1=pred.argmax(axis=-1)\n"
      ],
      "metadata": {
        "id": "TGidHdI1UkpP"
      },
      "execution_count": null,
      "outputs": []
    },
    {
      "cell_type": "code",
      "source": [
        "pred_1"
      ],
      "metadata": {
        "id": "jFPpTBgQVuSl"
      },
      "execution_count": null,
      "outputs": []
    },
    {
      "cell_type": "code",
      "source": [
        "class_labels[pred_1[0]]"
      ],
      "metadata": {
        "id": "5PB_n75iVut_"
      },
      "execution_count": null,
      "outputs": []
    }
  ]
}