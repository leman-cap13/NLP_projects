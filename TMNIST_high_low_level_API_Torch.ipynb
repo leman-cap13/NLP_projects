{
  "nbformat": 4,
  "nbformat_minor": 0,
  "metadata": {
    "colab": {
      "provenance": [],
      "gpuType": "T4",
      "authorship_tag": "ABX9TyMpV8q3hS/V+X9ov7JxgVCq",
      "include_colab_link": true
    },
    "kernelspec": {
      "name": "python3",
      "display_name": "Python 3"
    },
    "language_info": {
      "name": "python"
    },
    "accelerator": "GPU"
  },
  "cells": [
    {
      "cell_type": "markdown",
      "metadata": {
        "id": "view-in-github",
        "colab_type": "text"
      },
      "source": [
        "<a href=\"https://colab.research.google.com/github/leman-cap13/my_projects/blob/main/TMNIST_high_low_level_API_Torch.ipynb\" target=\"_parent\"><img src=\"https://colab.research.google.com/assets/colab-badge.svg\" alt=\"Open In Colab\"/></a>"
      ]
    },
    {
      "cell_type": "markdown",
      "source": [
        "#High Level API"
      ],
      "metadata": {
        "id": "DuktZHYw2DNn"
      }
    },
    {
      "cell_type": "code",
      "execution_count": null,
      "metadata": {
        "id": "zyzSW70CwfVU"
      },
      "outputs": [],
      "source": [
        "from google.colab import files\n",
        "files.upload()"
      ]
    },
    {
      "cell_type": "code",
      "source": [
        "!mkdir -p ~/.kaggle\n",
        "!cp kaggle.json ~/.kaggle/\n",
        "!chmod 600 ~/.kaggle/kaggle.json"
      ],
      "metadata": {
        "id": "4kUhmB9iwhuY"
      },
      "execution_count": null,
      "outputs": []
    },
    {
      "cell_type": "code",
      "source": [
        "import zipfile"
      ],
      "metadata": {
        "id": "aBHTQAUwwhrE"
      },
      "execution_count": null,
      "outputs": []
    },
    {
      "cell_type": "code",
      "source": [
        "!kaggle datasets download nimishmagre/tmnist-typeface-mnist"
      ],
      "metadata": {
        "id": "cGcLNm07w4Bw"
      },
      "execution_count": null,
      "outputs": []
    },
    {
      "cell_type": "code",
      "source": [
        "with zipfile.ZipFile('/content/tmnist-typeface-mnist.zip','r') as zip_ref:\n",
        "  zip_ref.extractall()"
      ],
      "metadata": {
        "id": "hDayBgT6w3-e"
      },
      "execution_count": null,
      "outputs": []
    },
    {
      "cell_type": "code",
      "source": [
        "import pandas as pd\n",
        "df=pd.read_csv('/content/TMNIST_Data.csv')\n",
        "df"
      ],
      "metadata": {
        "id": "0MWwvPLbzxZp"
      },
      "execution_count": null,
      "outputs": []
    },
    {
      "cell_type": "code",
      "source": [
        "# it's just flattened for CSV storage."
      ],
      "metadata": {
        "id": "NikB9lnq2pUs"
      },
      "execution_count": null,
      "outputs": []
    },
    {
      "cell_type": "code",
      "source": [
        "print(df.shape)"
      ],
      "metadata": {
        "id": "btgM2xNA2cV9"
      },
      "execution_count": null,
      "outputs": []
    },
    {
      "cell_type": "code",
      "source": [
        "fonts = df.iloc[:, 0].values\n",
        "fonts"
      ],
      "metadata": {
        "id": "u6ovFQ_J3wzr"
      },
      "execution_count": null,
      "outputs": []
    },
    {
      "cell_type": "code",
      "source": [
        "import numpy as np\n",
        "y = df.iloc[:, 1].values.astype(np.int32)\n",
        "y"
      ],
      "metadata": {
        "id": "L-lwwc9N3wwZ"
      },
      "execution_count": null,
      "outputs": []
    },
    {
      "cell_type": "code",
      "source": [
        "# Extract and normalize pixel values\n",
        "X = df.iloc[:, 2:].values.astype(np.float32) / 255.0"
      ],
      "metadata": {
        "id": "6I2vXOFS37l5"
      },
      "execution_count": null,
      "outputs": []
    },
    {
      "cell_type": "markdown",
      "source": [
        "the first element represents the font name (ex-Chivo-Italic, Sen-Bold), the second element represents the label (a number from 0-9) and the remaining 784 elements represent the grayscale pixel values (from 0-255) for the 28x28 pixel image."
      ],
      "metadata": {
        "id": "fTjKNRdv5g_l"
      }
    },
    {
      "cell_type": "code",
      "source": [
        "X_images=X.reshape(-1,28,28,1)"
      ],
      "metadata": {
        "id": "NwX5O6T54dUS"
      },
      "execution_count": null,
      "outputs": []
    },
    {
      "cell_type": "markdown",
      "source": [
        "-1 means calculate n_samples by yourself 28x28 shape of image and 1 indicates channel. if it is grayscale we need to use 1 , on the other hand if it is 3 means we are using RGB (red,green,blue) channel"
      ],
      "metadata": {
        "id": "fS2PSTqi4p23"
      }
    },
    {
      "cell_type": "code",
      "source": [
        "import matplotlib.pyplot as plt\n",
        "plt.figure(figsize=(10,10))\n",
        "for i in range(20):\n",
        "  plt.subplot(4,5,i+1)\n",
        "  plt.xticks()\n",
        "  plt.yticks()\n",
        "  plt.grid(False)\n",
        "  plt.imshow(X_images[i])\n",
        "  plt.xlabel(fonts[i])"
      ],
      "metadata": {
        "id": "2CNlN_xb4pDk"
      },
      "execution_count": null,
      "outputs": []
    },
    {
      "cell_type": "code",
      "source": [
        "data_path='/content/TMNIST_Data.csv'"
      ],
      "metadata": {
        "id": "WPUJ7kIgyYme"
      },
      "execution_count": null,
      "outputs": []
    },
    {
      "cell_type": "code",
      "source": [
        "import torch\n",
        "import torch.nn as nn"
      ],
      "metadata": {
        "id": "XUNnptLBzwj-"
      },
      "execution_count": null,
      "outputs": []
    },
    {
      "cell_type": "markdown",
      "source": [
        "torch.nn is equivalent to --> import tensorflow as tf"
      ],
      "metadata": {
        "id": "hRzsxV6u8OY7"
      }
    },
    {
      "cell_type": "code",
      "source": [
        "model=nn.Sequential(\n",
        "    nn.Conv2d(in_channels=1,out_channels=32,kernel_size=5,stride=1,padding=1),\n",
        "    nn.MaxPool2d(kernel_size=2),\n",
        "    nn.Conv2d(in_channels=32,out_channels=64,kernel_size=3,stride=2,padding=1),\n",
        "    nn.Conv2d(in_channels=64,out_channels=128,kernel_size=3,stride=1,padding=1),\n",
        "    nn.MaxPool2d(kernel_size=2),\n",
        "    nn.Conv2d(in_channels=128,out_channels=256,kernel_size=3,stride=2,padding=1),\n",
        "    nn.Conv2d(in_channels=256,out_channels=512,kernel_size=3,stride=1,padding=1),\n",
        "    nn.MaxPool2d(kernel_size=2),\n",
        "    nn.Flatten(),\n",
        "    nn.Linear(in_features=512,out_features=128),\n",
        "    nn.ReLU(),\n",
        "    nn.Dropout(0.3),\n",
        "    nn.Linear(in_features=128,out_features=64),\n",
        "    nn.ReLU(),\n",
        "    nn.Dropout(0.3),\n",
        "    nn.Linear(in_features=64,out_features=32),\n",
        "    nn.Linear(in_features=32, out_features=10)\n",
        "\n",
        ")"
      ],
      "metadata": {
        "id": "OG2sO0G_7gvx"
      },
      "execution_count": null,
      "outputs": []
    },
    {
      "cell_type": "markdown",
      "source": [
        "PyTorch nn.Linear and nn.Conv2d don’t accept a kernel_initializer argument directly"
      ],
      "metadata": {
        "id": "Z5QLXEKqDMR7"
      }
    },
    {
      "cell_type": "markdown",
      "source": [
        "in tensorflow when we make model we use ([]), differently in pytorch we only use() not extra[]"
      ],
      "metadata": {
        "id": "kMx8ur-wCtde"
      }
    },
    {
      "cell_type": "markdown",
      "source": [
        "nn.MaxPool2d(kernel_size=5) should take kernel_size argument as distinc from tensorflow"
      ],
      "metadata": {
        "id": "WI2Xri8aB_NS"
      }
    },
    {
      "cell_type": "markdown",
      "source": [
        "nn.Conv2d(in_channels, out_channels, kernel_size, stride=1, padding=0)\n",
        "Conv2d doest have filters agrument as tensor has"
      ],
      "metadata": {
        "id": "60NtvOA2BQjC"
      }
    },
    {
      "cell_type": "markdown",
      "source": [
        "in PyTorch we cannot directly specify activation functions or kernel initializers inside nn.Linear"
      ],
      "metadata": {
        "id": "ffW0PcFZ-0Zm"
      }
    },
    {
      "cell_type": "markdown",
      "source": [
        "nn.Linear(in_features, out_features)"
      ],
      "metadata": {
        "id": "ScFTmP_M-_qt"
      }
    },
    {
      "cell_type": "markdown",
      "source": [
        "PyTorch: layers as separate positional args inside ()\n",
        "\n",
        "Keras: layers inside a list [] passed as a single argument inside ()"
      ],
      "metadata": {
        "id": "Wdfy-93AEgbs"
      }
    },
    {
      "cell_type": "code",
      "source": [
        "loss=nn.CrossEntropyLoss()\n"
      ],
      "metadata": {
        "id": "-wG5yFHN-z0H"
      },
      "execution_count": null,
      "outputs": []
    },
    {
      "cell_type": "code",
      "source": [
        "import torch.optim as optim\n",
        "optimization=optim.Adam(model.parameters(), lr=0.001)"
      ],
      "metadata": {
        "id": "qmKUShyBakm4"
      },
      "execution_count": null,
      "outputs": []
    },
    {
      "cell_type": "markdown",
      "source": [
        "** in PyTorch, there is no .compile() step**"
      ],
      "metadata": {
        "id": "bc9YgG8rGNiX"
      }
    },
    {
      "cell_type": "markdown",
      "source": [
        "need to define three key components manually:\n",
        "1. Loss function\n",
        "2. Optimizer\n",
        "3. Metrics"
      ],
      "metadata": {
        "id": "bBDU7fEgaOAw"
      }
    },
    {
      "cell_type": "code",
      "source": [
        "!pip install torchkeras\n"
      ],
      "metadata": {
        "id": "B2tIIcEuTT6_"
      },
      "execution_count": null,
      "outputs": []
    },
    {
      "cell_type": "code",
      "source": [
        "from torchkeras import KerasModel\n",
        "final_model=KerasModel(model,loss_fn=loss,optimizer=optimization,metrics=['accuracy'])\n"
      ],
      "metadata": {
        "id": "b4B-97-ea9Li"
      },
      "execution_count": null,
      "outputs": []
    },
    {
      "cell_type": "markdown",
      "source": [
        "PyTorch doesn’t track metrics automatically. we need to calculate them manually during training:"
      ],
      "metadata": {
        "id": "YVGvM2Qba9t7"
      }
    },
    {
      "cell_type": "markdown",
      "source": [
        "torchkeras is a wrapper built on top of PyTorch.\n",
        "\n",
        "It borrows the syntax and convenience of Keras (e.g., compile(), fit(), evaluate()), but under the hood, it still runs pure PyTorch code"
      ],
      "metadata": {
        "id": "sKFH9_PYTegd"
      }
    },
    {
      "cell_type": "markdown",
      "source": [
        " still writing a PyTorch model, but using a Keras-like interface to simplify training and evaluation"
      ],
      "metadata": {
        "id": "y14n0b2yTmZ4"
      }
    },
    {
      "cell_type": "code",
      "source": [
        "#DataLoader for train and val dataset\n",
        "from torch.utils.data import DataLoader,TensorDataset\n",
        "import torch\n",
        "\n",
        "device = torch.device(\"cuda\" if torch.cuda.is_available() else \"cpu\")\n",
        "model = model.to(device)\n",
        "#first convert data to tensors\n",
        "\n",
        "X_tensor=torch.tensor(X_images).permute(0,3,1,2)\n",
        "y_tensor=torch.tensor(y).long()\n",
        "\n",
        "# Original X_images is a NumPy array of shape:[batch, height, width, channels] ,\n",
        "#but PyTorch expects images in this shape:[batch,channels, height, width],\n",
        "#need to convert from [N, H, W, C] → [N, C, H, W]\n",
        "#permute(0, 3, 1, 2) it does dimension rearrangement\n",
        "#nn.CrossEntropyLoss expects class labels as integers that represent class indices (e.g., 0,1,2,...).\n",
        "#These indices must be integers, but not just any integer — specifically int64 (long) in PyTorch.\n",
        "#torch.long ≡ torch.int64     int64 aka long\n",
        "X_tensor = X_tensor.to(device)\n",
        "y_tensor = y_tensor.to(device)\n",
        "\n",
        "\n",
        "#Now split train test\n",
        "from sklearn.model_selection import train_test_split\n",
        "X_train,X_val,y_train,y_val=train_test_split(X_tensor,y_tensor,test_size=0.2, random_state=42)\n",
        "\n",
        "\n",
        "#Convert TensorDataset\n",
        "train_data=TensorDataset(X_train,y_train)\n",
        "val_data=TensorDataset(X_val,y_val)\n",
        "\n",
        "#Create DataLoader\n",
        "train_loader=DataLoader(train_data,batch_size=32,shuffle=True)\n",
        "val_loader=DataLoader(val_data,batch_size=32,shuffle=False)\n"
      ],
      "metadata": {
        "id": "xiqZLSvJTd09"
      },
      "execution_count": null,
      "outputs": []
    },
    {
      "cell_type": "markdown",
      "source": [
        "Even though you're using a high-level API, PyTorch still expects DataLoader objects for train_data and val_data"
      ],
      "metadata": {
        "id": "Np0ZagpKUGLp"
      }
    },
    {
      "cell_type": "markdown",
      "source": [
        "Purpose of shuffling: Prevent the model from learning the order of the data.\n",
        "Shuffling introduces randomness, helping the model generalize better and reducing overfitting.\n",
        "Validation is for measurement, not learning"
      ],
      "metadata": {
        "id": "DvW7xiYeXa7r"
      }
    },
    {
      "cell_type": "code",
      "source": [
        "#Train the model\n",
        "final_model.fit(train_loader,val_data=val_loader, epochs=5)"
      ],
      "metadata": {
        "id": "2lkg1gvWXjXu"
      },
      "execution_count": null,
      "outputs": []
    },
    {
      "cell_type": "code",
      "source": [
        "final_model.evaluate(val_loader)"
      ],
      "metadata": {
        "id": "jufkjSGhhzNv"
      },
      "execution_count": null,
      "outputs": []
    },
    {
      "cell_type": "code",
      "source": [
        "sample = X_val[0].unsqueeze(0)\n",
        "logits = final_model.net(sample)\n",
        "prediction = torch.argmax(logits, dim=1)\n",
        "\n",
        "print(\"Predicted label:\", prediction.item())\n"
      ],
      "metadata": {
        "id": "4BS-vnIUhzvS"
      },
      "execution_count": null,
      "outputs": []
    },
    {
      "cell_type": "markdown",
      "source": [
        "tensor.unsqueeze(dim) returns a new tensor with a dimension of size 1 inserted at the specified position.\n",
        "unsqueeze() is dumb — it just inserts a dimension of size 1 at the index you specify.\n",
        "It doesn’t know about:\n",
        "batches\n",
        "channels\n",
        "images"
      ],
      "metadata": {
        "id": "3TufpoRgjWqd"
      }
    },
    {
      "cell_type": "markdown",
      "source": [
        "x = torch.randn(3, 28, 28)   # shape: [3, 28, 28]\n",
        "x.unsqueeze(0).shape         # → [1, 3, 28, 28]\n",
        "x.unsqueeze(1).shape         # → [3, 1, 28, 28]\n",
        "x.unsqueeze(2).shape         # → [3, 28, 1, 28]"
      ],
      "metadata": {
        "id": "Y-2DrV9mjlZs"
      }
    },
    {
      "cell_type": "code",
      "source": [
        "import matplotlib.pyplot as plt\n",
        "import torch\n",
        "\n",
        "# Select a sample image and label\n",
        "sample = X_val[7]                      # Shape: [1, 28, 28]\n",
        "label = y_val[7].item()\n",
        "\n",
        "# Add batch dimension for model input\n",
        "input_tensor = sample.unsqueeze(0)    # Shape: [1, 1, 28, 28]\n",
        "\n",
        "# Run through the model\n",
        "logits = final_model.net(input_tensor)\n",
        "prediction = torch.argmax(logits, dim=1).item()\n",
        "\n",
        "# Plot the image\n",
        "plt.imshow(sample.cpu().squeeze(0).numpy(), cmap='gray')\n",
        "plt.title(f\"Predicted: {prediction} | True: {label}\")\n",
        "plt.axis('off')\n",
        "plt.show()\n"
      ],
      "metadata": {
        "id": "q_TRuNtYjXQJ"
      },
      "execution_count": null,
      "outputs": []
    },
    {
      "cell_type": "code",
      "source": [
        "import matplotlib.pyplot as plt\n",
        "\n",
        "fig, axes = plt.subplots(3, 4, figsize=(12, 9))\n",
        "fig.suptitle(\"Model Predictions on Validation Samples\", fontsize=16)\n",
        "\n",
        "for i in range(12):\n",
        "    sample = X_val[i]\n",
        "    label = y_val[i].item()\n",
        "    input_tensor = sample.unsqueeze(0)\n",
        "    logits = final_model.net(input_tensor)\n",
        "    prediction = torch.argmax(logits, dim=1).item()\n",
        "\n",
        "    ax = axes[i // 4, i % 4]\n",
        "    ax.imshow(sample.squeeze(0).cpu().numpy(), cmap='gray')\n",
        "    ax.set_title(f\"Pred: {prediction} | True: {label}\")\n",
        "    ax.axis('off')\n",
        "\n",
        "plt.tight_layout(rect=[0, 0.03, 1, 0.95])\n",
        "plt.show()\n"
      ],
      "metadata": {
        "id": "SJRPGhlTkTV2"
      },
      "execution_count": null,
      "outputs": []
    },
    {
      "cell_type": "code",
      "source": [
        "plt.figure(figsize=(10,10))\n",
        "for i in range(12):\n",
        "    sample = X_val[i]\n",
        "    label = y_val[i].item()\n",
        "    input_tensor = sample.unsqueeze(0)\n",
        "    logits = final_model.net(input_tensor)\n",
        "    prediction = torch.argmax(logits, dim=1).item()\n",
        "\n",
        "    plt.subplot(3,4,i+1)\n",
        "    plt.grid(False)\n",
        "    plt.imshow(X_val[i].squeeze(0).cpu().numpy(), cmap='gray')\n",
        "    plt.xlabel(f\"Pred: {prediction} \")"
      ],
      "metadata": {
        "id": "FFfy_gjtkmZq"
      },
      "execution_count": null,
      "outputs": []
    },
    {
      "cell_type": "code",
      "source": [
        "from sklearn.metrics import confusion_matrix, ConfusionMatrixDisplay\n",
        "\n",
        "y_true = []\n",
        "y_pred = []\n",
        "for X_batch, y_batch in val_loader:\n",
        "    logits = final_model.net(X_batch)\n",
        "    preds = torch.argmax(logits, dim=1)\n",
        "    y_true.extend(y_batch.cpu().numpy())\n",
        "    y_pred.extend(preds.cpu().numpy())\n",
        "\n",
        "cm = confusion_matrix(y_true, y_pred)\n",
        "ConfusionMatrixDisplay(cm).plot()\n"
      ],
      "metadata": {
        "id": "yXDX60g3mc4g"
      },
      "execution_count": null,
      "outputs": []
    },
    {
      "cell_type": "markdown",
      "source": [
        "#Low Level API"
      ],
      "metadata": {
        "id": "idiL-PMEmc0_"
      }
    },
    {
      "cell_type": "code",
      "source": [
        "data_path='/content/TMNIST_Data.csv'"
      ],
      "metadata": {
        "id": "a7L5OQGxsHnu"
      },
      "execution_count": null,
      "outputs": []
    },
    {
      "cell_type": "code",
      "source": [
        "import numpy as np"
      ],
      "metadata": {
        "id": "4VKgCId75dPG"
      },
      "execution_count": null,
      "outputs": []
    },
    {
      "cell_type": "code",
      "source": [
        "import pandas as pd\n",
        "data=pd.read_csv(data_path)\n",
        "data.head()"
      ],
      "metadata": {
        "id": "DEoxnF3RsHkm"
      },
      "execution_count": null,
      "outputs": []
    },
    {
      "cell_type": "code",
      "source": [
        "data=data.drop('names',axis=1)"
      ],
      "metadata": {
        "id": "d_YPy3zasHiQ"
      },
      "execution_count": null,
      "outputs": []
    },
    {
      "cell_type": "code",
      "source": [
        "labels=data['labels']\n",
        "images=data.drop('labels',axis=1)"
      ],
      "metadata": {
        "id": "rOrvmR6gsHgA"
      },
      "execution_count": null,
      "outputs": []
    },
    {
      "cell_type": "code",
      "source": [
        "labels"
      ],
      "metadata": {
        "id": "6M8pnhoU35ht"
      },
      "execution_count": null,
      "outputs": []
    },
    {
      "cell_type": "code",
      "source": [
        "images"
      ],
      "metadata": {
        "id": "OvHyMqAM5FJp"
      },
      "execution_count": null,
      "outputs": []
    },
    {
      "cell_type": "code",
      "source": [
        "# first of all i need to normalize and reshape the images in order to work on it\n",
        "images=images.astype(np.float32) / 255.0\n",
        "images=images.values.reshape(-1,1,28,28)\n"
      ],
      "metadata": {
        "id": "COSEOipU5F_Z"
      },
      "execution_count": null,
      "outputs": []
    },
    {
      "cell_type": "code",
      "source": [
        "#but we need tensor so ve convert it to tensor data\n",
        "images=torch.tensor(images)\n",
        "labels=torch.tensor(labels.values, dtype=torch.long)"
      ],
      "metadata": {
        "id": "QCpWp0xX5wKk"
      },
      "execution_count": null,
      "outputs": []
    },
    {
      "cell_type": "code",
      "source": [
        "import matplotlib.pyplot as plt\n",
        "plt.figure(figsize=(10,10))\n",
        "for i in range(12):\n",
        "  plt.subplot(3,4,i+1)\n",
        "  plt.grid(False)\n",
        "  plt.imshow(images[i].squeeze(0), cmap='gray')\n",
        "  plt.xlabel(labels[i].item())\n"
      ],
      "metadata": {
        "id": "5yQZPZbZ6G8Z"
      },
      "execution_count": null,
      "outputs": []
    },
    {
      "cell_type": "code",
      "source": [
        "#now split train validation\n",
        "from sklearn.model_selection import train_test_split\n",
        "X_train,X_val,y_train,y_val=train_test_split(images,labels,test_size=0.2, random_state=42, stratify=labels)"
      ],
      "metadata": {
        "id": "HtiCPYLU6seT"
      },
      "execution_count": null,
      "outputs": []
    },
    {
      "cell_type": "code",
      "source": [
        "#not i need to make train_data and validation_data to sent datacollator\n",
        "train_data=torch.utils.data.TensorDataset(X_train,y_train)\n",
        "val_data=torch.utils.data.TensorDataset(X_val,y_val)\n"
      ],
      "metadata": {
        "id": "8uvjRMYd7E4k"
      },
      "execution_count": null,
      "outputs": []
    },
    {
      "cell_type": "markdown",
      "source": [
        "A Data Collator is a function or class that takes a list of examples (from a dataset) and turns them into a batch"
      ],
      "metadata": {
        "id": "zFqw8NvA8MPR"
      }
    },
    {
      "cell_type": "markdown",
      "source": [
        "A DataLoader is a tool that fetches your data in mini-batches so that you can train your model efficiently and in parallel."
      ],
      "metadata": {
        "id": "a1i0h7Lh9Fzu"
      }
    },
    {
      "cell_type": "code",
      "source": [
        "# Now use Dataloader\n",
        "import torch\n",
        "from torch.utils.data import DataLoader,TensorDataset\n",
        "train_loader=DataLoader(train_data,batch_size=32,shuffle=True)\n",
        "val_loader=DataLoader(val_data,batch_size=32,shuffle=False)\n"
      ],
      "metadata": {
        "id": "wAVGSQEY7E1D"
      },
      "execution_count": null,
      "outputs": []
    },
    {
      "cell_type": "code",
      "source": [
        "# Make Convulation model\n",
        "import torch.nn as nn\n",
        "\n",
        "torch.manual_seed(42)\n",
        "\n",
        "conv1=nn.Conv2d(in_channels=1,out_channels=32,kernel_size=5,stride=1,padding=1)\n",
        "batch_norm1=nn.BatchNorm2d(32)\n",
        "max_pool1=nn.MaxPool2d(kernel_size=2)\n",
        "\n",
        "conv2=nn.Conv2d(in_channels=32,out_channels=64,kernel_size=3,stride=2,padding=1)\n",
        "batch_norm2=nn.BatchNorm2d(64)\n",
        "conv3=nn.Conv2d(in_channels=64,out_channels=128,kernel_size=3,stride=1,padding=1)\n",
        "batch_norm3=nn.BatchNorm2d(128)\n",
        "max_pool2=nn.MaxPool2d(kernel_size=2)\n",
        "\n",
        "\n",
        "conv4=nn.Conv2d(in_channels=128,out_channels=256,kernel_size=3,stride=2,padding=1)\n",
        "batch_norm4 = nn.BatchNorm2d(256)\n",
        "conv5=nn.Conv2d(in_channels=256,out_channels=512,kernel_size=3,stride=1,padding=1)\n",
        "batch_norm5 = nn.BatchNorm2d(512)\n",
        "max_pool3=nn.MaxPool2d(kernel_size=2)\n",
        "\n",
        "flatten=nn.Flatten()\n",
        "linear1=nn.Linear(in_features=512,out_features=64)\n",
        "dropout=nn.Dropout(0.3)\n",
        "linear2=nn.Linear(in_features=64,out_features=32)\n",
        "linear3=nn.Linear(in_features=32,out_features=10)\n"
      ],
      "metadata": {
        "id": "9tmVhOdW9vY-"
      },
      "execution_count": null,
      "outputs": []
    },
    {
      "cell_type": "markdown",
      "source": [
        "in_features for linear1 must be channels * height * width."
      ],
      "metadata": {
        "id": "5PBDo5iJASpm"
      }
    },
    {
      "cell_type": "code",
      "source": [
        "#need the forward pass function that defines how the input flows through these layers.\n",
        "import torch.nn.functional as F\n",
        "\n",
        "def forward(x):\n",
        "  x=conv1(x)\n",
        "  x=batch_norm1(x)\n",
        "  x=F.relu(x)\n",
        "  x=max_pool1(x)\n",
        "\n",
        "  x=conv2(x)\n",
        "  x=batch_norm2(x)\n",
        "  x=F.relu(x)\n",
        "\n",
        "  x=conv3(x)\n",
        "  x=batch_norm3(x)\n",
        "  x=F.relu(x)\n",
        "  x=max_pool2(x)\n",
        "\n",
        "  x=conv4(x)\n",
        "  x=batch_norm4(x)\n",
        "  x=F.relu(x)\n",
        "\n",
        "  x=conv5(x)\n",
        "  x=batch_norm5(x)\n",
        "  x=F.relu(x)\n",
        "  x=max_pool3(x)\n",
        "\n",
        "  x=flatten(x)\n",
        "  x=linear1(x)\n",
        "  x=F.relu(x)\n",
        "  x=dropout(x)\n",
        "  x=linear2(x)\n",
        "  x=F.relu(x)\n",
        "  x=dropout(x)\n",
        "  x=linear3(x)\n",
        "\n",
        "  return x\n"
      ],
      "metadata": {
        "id": "7tlj37lyBIIX"
      },
      "execution_count": null,
      "outputs": []
    },
    {
      "cell_type": "code",
      "source": [
        "x_dummy = torch.randn(4, 1, 28, 28)  # batch of 4 images\n",
        "out = forward(x_dummy)\n",
        "print(out.shape)  # should be [4, 10] because we have 10 classes and 4 batch size\n"
      ],
      "metadata": {
        "id": "KJFxgy5cBIE8"
      },
      "execution_count": null,
      "outputs": []
    },
    {
      "cell_type": "code",
      "source": [
        "#  Now we need to set up our training essentials loss optimizer and metrics\n",
        "\n",
        "loss_fn=nn.CrossEntropyLoss()"
      ],
      "metadata": {
        "id": "NcjofEQuBIC7"
      },
      "execution_count": null,
      "outputs": []
    },
    {
      "cell_type": "code",
      "source": [
        "import torch.nn as nn\n",
        "import torch.nn.functional as F\n",
        "\n",
        "class MyCNN(nn.Module):\n",
        "    def __init__(self):\n",
        "        super().__init__()\n",
        "        self.conv1 = nn.Conv2d(1, 32, 5, stride=1, padding=1)\n",
        "        self.batch_norm1 = nn.BatchNorm2d(32)\n",
        "        self.max_pool1 = nn.MaxPool2d(2)\n",
        "\n",
        "        self.conv2 = nn.Conv2d(32, 64, 3, stride=2, padding=1)\n",
        "        self.batch_norm2 = nn.BatchNorm2d(64)\n",
        "        self.conv3 = nn.Conv2d(64, 128, 3, stride=1, padding=1)\n",
        "        self.batch_norm3 = nn.BatchNorm2d(128)\n",
        "        self.max_pool2 = nn.MaxPool2d(2)\n",
        "\n",
        "        self.conv4 = nn.Conv2d(128, 256, 3, stride=2, padding=1)\n",
        "        self.batch_norm4 = nn.BatchNorm2d(256)\n",
        "        self.conv5 = nn.Conv2d(256, 512, 3, stride=1, padding=1)\n",
        "        self.batch_norm5 = nn.BatchNorm2d(512)\n",
        "        self.max_pool3 = nn.MaxPool2d(2)\n",
        "\n",
        "        self.flatten = nn.Flatten()\n",
        "        self.linear1 = nn.Linear(512, 64)\n",
        "        self.dropout = nn.Dropout(0.3)\n",
        "        self.linear2 = nn.Linear(64, 32)\n",
        "        self.linear3 = nn.Linear(32, 10)\n",
        "\n",
        "    def forward(self, x):\n",
        "        x = self.conv1(x)\n",
        "        x = self.batch_norm1(x)\n",
        "        x = F.relu(x)\n",
        "        x = self.max_pool1(x)\n",
        "\n",
        "        x = self.conv2(x)\n",
        "        x = self.batch_norm2(x)\n",
        "        x = F.relu(x)\n",
        "\n",
        "        x = self.conv3(x)\n",
        "        x = self.batch_norm3(x)\n",
        "        x = F.relu(x)\n",
        "        x = self.max_pool2(x)\n",
        "\n",
        "        x = self.conv4(x)\n",
        "        x = self.batch_norm4(x)\n",
        "        x = F.relu(x)\n",
        "\n",
        "        x = self.conv5(x)\n",
        "        x = self.batch_norm5(x)\n",
        "        x = F.relu(x)\n",
        "        x = self.max_pool3(x)\n",
        "\n",
        "        x = self.flatten(x)\n",
        "        x = self.linear1(x)\n",
        "        x = F.relu(x)\n",
        "        x = self.dropout(x)\n",
        "        x = self.linear2(x)\n",
        "        x = F.relu(x)\n",
        "        x = self.dropout(x)\n",
        "        x = self.linear3(x)\n",
        "        return x\n"
      ],
      "metadata": {
        "id": "Ss2YUQ8PEUhz"
      },
      "execution_count": null,
      "outputs": []
    },
    {
      "cell_type": "code",
      "source": [
        "my_model=MyCNN()"
      ],
      "metadata": {
        "id": "QwLgkY0dE0yK"
      },
      "execution_count": null,
      "outputs": []
    },
    {
      "cell_type": "code",
      "source": [
        "#optimizer\n",
        "optimizer=torch.optim.Adam(my_model.parameters(),lr=0.001)"
      ],
      "metadata": {
        "id": "A1Ul4MvREybG"
      },
      "execution_count": null,
      "outputs": []
    },
    {
      "cell_type": "code",
      "source": [
        "# set Accelerate\n",
        "from accelerate import Accelerator\n",
        "accelerator=Accelerator()\n",
        "\n",
        "my_model,optimizer,train_loader,val_loader=accelerator.prepare(my_model,optimizer,train_loader,val_loader)"
      ],
      "metadata": {
        "id": "q4GFqKyVF0hu"
      },
      "execution_count": null,
      "outputs": []
    },
    {
      "cell_type": "code",
      "source": [
        "from transformers import get_scheduler\n",
        "num_epochs=5\n",
        "num_training_steps=len(train_loader)*num_epochs\n",
        "\n",
        "\n",
        "lr_scheduler=get_scheduler(\n",
        "    name='linear',\n",
        "    optimizer=optimizer,\n",
        "    num_warmup_steps=0,\n",
        "    num_training_steps=num_training_steps\n",
        ")"
      ],
      "metadata": {
        "id": "z5LNTC0NK9Cy"
      },
      "execution_count": null,
      "outputs": []
    },
    {
      "cell_type": "code",
      "source": [
        "#Custom training loop\n",
        "from tqdm.auto import tqdm\n",
        "\n",
        "progress_bar=tqdm(range(num_training_steps))\n",
        "\n",
        "my_model.train()\n",
        "num_epochs=5\n",
        "\n",
        "for epoch in range(num_epochs):\n",
        "  my_model.train()\n",
        "  for batch in train_loader:\n",
        "    inputs,labels=batch\n",
        "    inputs = inputs.float()\n",
        "    outputs=my_model(inputs)\n",
        "    loss=loss_fn(outputs,labels)\n",
        "    accelerator.backward(loss)\n",
        "\n",
        "    optimizer.step()\n",
        "    lr_scheduler.step()\n",
        "    optimizer.zero_grad()\n",
        "    progress_bar.update(1)\n",
        "\n",
        "\n",
        "   #evaluation data's turn\n",
        "  my_model.eval()\n",
        "  all_preds=[]\n",
        "  all_labels=[]\n",
        "  for batch in val_loader:\n",
        "    with torch.no_grad():\n",
        "      inputs,labels=batch\n",
        "      inputs = inputs.float()\n",
        "      outputs=my_model(inputs)\n",
        "      preds=torch.argmax(outputs,dim=1)\n",
        "\n",
        "      preds=accelerator.gather(preds)\n",
        "      labels=accelerator.gather(labels)\n",
        "\n",
        "      all_preds.append(preds)\n",
        "      all_labels.append(labels)\n",
        "\n",
        "  all_preds = torch.cat(all_preds).cpu()\n",
        "  all_labels = torch.cat(all_labels).cpu()\n",
        "\n",
        "\n",
        "\n",
        "\n"
      ],
      "metadata": {
        "id": "L9DXlfbPF0eU"
      },
      "execution_count": null,
      "outputs": []
    },
    {
      "cell_type": "code",
      "source": [
        "def postprocess(all_preds, all_labels):\n",
        "    preds = all_preds.cpu().numpy()\n",
        "    labels = all_labels.cpu().numpy()\n",
        "    return preds, labels\n",
        "\n",
        "\n",
        "preds, labels = postprocess(all_preds, all_labels)"
      ],
      "metadata": {
        "id": "OHOXk1GhRlRi"
      },
      "execution_count": null,
      "outputs": []
    },
    {
      "cell_type": "code",
      "source": [
        "from sklearn.metrics import accuracy_score\n",
        "\n",
        "accuracy = accuracy_score(labels, preds)\n",
        "print(f\"Epoch {epoch+1}/{num_epochs} | Val Accuracy: {accuracy:.4f}\")\n",
        "\n"
      ],
      "metadata": {
        "id": "0rg8OpqZF0bx"
      },
      "execution_count": null,
      "outputs": []
    },
    {
      "cell_type": "code",
      "source": [
        "from sklearn.metrics import accuracy_score, f1_score, classification_report\n",
        "\n",
        "accuracy = accuracy_score(labels, preds)\n",
        "f1 = f1_score(labels, preds, average='macro')\n",
        "\n",
        "print(f\"Validation Accuracy: {accuracy:.4f}\")\n",
        "print(f\"Validation F1 Score: {f1:.4f}\")\n",
        "\n",
        "print(\"Classification Report:\")\n",
        "print(classification_report(labels, preds))\n"
      ],
      "metadata": {
        "id": "2suhrNhNRpkk"
      },
      "execution_count": null,
      "outputs": []
    },
    {
      "cell_type": "code",
      "source": [
        "import matplotlib.pyplot as plt\n",
        "import torch\n",
        "\n",
        "\n",
        "my_model.eval()\n",
        "device = next(my_model.parameters()).device\n",
        "\n",
        "plt.figure(figsize=(12, 9))\n",
        "num_to_show = 12\n",
        "count = 0\n",
        "\n",
        "with torch.no_grad():\n",
        "    for batch in val_loader:\n",
        "        inputs, labels = batch\n",
        "        inputs = inputs.float().to(device)\n",
        "        labels = labels.to(device)\n",
        "\n",
        "        outputs = my_model(inputs)\n",
        "        preds = torch.argmax(outputs, dim=1)\n",
        "\n",
        "        batch_size = inputs.size(0)\n",
        "        for i in range(batch_size):\n",
        "            if count >= num_to_show:\n",
        "                break\n",
        "\n",
        "            image = inputs[i].squeeze(0).cpu().numpy()\n",
        "            pred_label = preds[i].cpu().item()\n",
        "            true_label = labels[i].cpu().item()\n",
        "\n",
        "            plt.subplot(3, 4, count + 1)\n",
        "            plt.imshow(image, cmap='gray')\n",
        "            plt.title(f\"Pred: {pred_label} | True: {true_label}\")\n",
        "            plt.axis('off')\n",
        "\n",
        "            count += 1\n",
        "\n",
        "        if count >= num_to_show:\n",
        "            break\n",
        "\n",
        "plt.tight_layout()\n",
        "plt.show()\n"
      ],
      "metadata": {
        "id": "IrdDb7GkXZPd"
      },
      "execution_count": null,
      "outputs": []
    }
  ]
}