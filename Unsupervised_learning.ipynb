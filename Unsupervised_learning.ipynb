{
  "nbformat": 4,
  "nbformat_minor": 0,
  "metadata": {
    "colab": {
      "provenance": [],
      "authorship_tag": "ABX9TyOp3UgJJJ7VTQsWwYxxhjOI",
      "include_colab_link": true
    },
    "kernelspec": {
      "name": "python3",
      "display_name": "Python 3"
    },
    "language_info": {
      "name": "python"
    }
  },
  "cells": [
    {
      "cell_type": "markdown",
      "metadata": {
        "id": "view-in-github",
        "colab_type": "text"
      },
      "source": [
        "<a href=\"https://colab.research.google.com/github/leman-cap13/my_projects/blob/main/Unsupervised_learning.ipynb\" target=\"_parent\"><img src=\"https://colab.research.google.com/assets/colab-badge.svg\" alt=\"Open In Colab\"/></a>"
      ]
    },
    {
      "cell_type": "code",
      "execution_count": null,
      "metadata": {
        "id": "aQIEMKVBNmwN"
      },
      "outputs": [],
      "source": [
        "from sklearn.cluster import KMeans\n",
        "from sklearn.datasets import make_blobs\n",
        "import numpy as np"
      ]
    },
    {
      "cell_type": "code",
      "source": [
        "blob_centers=np.array([[0.2,2.3],[-1.5,2.3],[-2.8,1.8],[-2.8,2.8],[-2.8,1.3]])\n",
        "\n",
        "blob_std=np.array([0.3,0.3,0.1,0.1,0.1])\n",
        "\n",
        "X,y =make_blobs(n_samples=2000,centers=blob_centers,cluster_std=blob_std,random_state=7)\n",
        "\n",
        "k=5\n",
        "kmeans=KMeans(n_clusters=k,random_state=42,n_init=20)\n",
        "y_pred=kmeans.fit_predict(X)\n",
        "y_pred[:5]"
      ],
      "metadata": {
        "id": "wC8LjzWEOHdf"
      },
      "execution_count": null,
      "outputs": []
    },
    {
      "cell_type": "markdown",
      "source": [
        "n_init tekrarlamani gosterir"
      ],
      "metadata": {
        "id": "abHzOOEcRRD5"
      }
    },
    {
      "cell_type": "code",
      "source": [
        "X.shape"
      ],
      "metadata": {
        "id": "rnAJXdt4PAr1"
      },
      "execution_count": null,
      "outputs": []
    },
    {
      "cell_type": "code",
      "source": [
        "import matplotlib.pyplot as plt\n",
        "\n",
        "def plot_clusters(X,y=None):\n",
        "  plt.figure(figsize=(8,4))\n",
        "  plt.scatter(X[:,0],X[:,1],c=y,s=1)\n",
        "  plt.xlabel(\"$x_1$\")\n",
        "  plt.ylabel(\"$x_2$\")\n",
        "  plt.scatter(kmeans.cluster_centers_[:,0],kmeans.cluster_centers_[:,1],marker='x')\n",
        "plot_clusters(X,y_pred)\n",
        "plt.show();"
      ],
      "metadata": {
        "id": "jFcgk2U0Pdnf"
      },
      "execution_count": null,
      "outputs": []
    },
    {
      "cell_type": "code",
      "source": [
        "kmeans.cluster_centers_"
      ],
      "metadata": {
        "id": "ngKro6D1QRnZ"
      },
      "execution_count": null,
      "outputs": []
    },
    {
      "cell_type": "code",
      "source": [
        "kmeans.labels_"
      ],
      "metadata": {
        "id": "LJ6cCrw5RrZf"
      },
      "execution_count": null,
      "outputs": []
    },
    {
      "cell_type": "code",
      "source": [
        "import numpy as np\n",
        "\n",
        "X_new=np.array([[0,2],[3,2],[-3,-3],[-3,2.5]])\n",
        "kmeans.predict(X_new)"
      ],
      "metadata": {
        "id": "DUP4WbjXTCB8"
      },
      "execution_count": null,
      "outputs": []
    },
    {
      "cell_type": "code",
      "source": [
        "y_pred is kmeans.labels_"
      ],
      "metadata": {
        "id": "ebyCknHBTgMp"
      },
      "execution_count": null,
      "outputs": []
    },
    {
      "cell_type": "markdown",
      "source": [
        "kmeans.transform(X_new)  SOFT predict"
      ],
      "metadata": {
        "id": "yVr20QxYTwOQ"
      }
    },
    {
      "cell_type": "code",
      "source": [
        "kmeans.transform(X_new)"
      ],
      "metadata": {
        "id": "cNaWDFUdTmx1"
      },
      "execution_count": null,
      "outputs": []
    },
    {
      "cell_type": "markdown",
      "source": [
        "good_init bildikde manual qeyd oluna biler bu zaman n_init tekrarlamasina ehtiyac qalmir ilk run da yaxsi netice verir"
      ],
      "metadata": {
        "id": "2iJpGdHJVIGj"
      }
    },
    {
      "cell_type": "code",
      "source": [
        "good_init=np.array([[-3,3],[-3,2],[-3,1],[-1,2],[0,2]])\n",
        "kmeans=KMeans(n_clusters=5,init=good_init,n_init=1,random_state=42)\n",
        "kmeans.fit(X)"
      ],
      "metadata": {
        "id": "VlGQUBw6TuLy"
      },
      "execution_count": null,
      "outputs": []
    },
    {
      "cell_type": "markdown",
      "source": [
        "score olcmek ucun istifade olunur"
      ],
      "metadata": {
        "id": "hsJtVwpUVeFn"
      }
    },
    {
      "cell_type": "code",
      "source": [
        "kmeans.inertia_"
      ],
      "metadata": {
        "id": "UXQZk-LsVWXE"
      },
      "execution_count": null,
      "outputs": []
    },
    {
      "cell_type": "markdown",
      "source": [
        "menfi onu gosterirki score ne qeder yuxari olsa yaxsidi amma inertia ne qeder asagi olsa yaxsidi"
      ],
      "metadata": {
        "id": "J05TaJyZV4RK"
      }
    },
    {
      "cell_type": "code",
      "source": [
        "kmeans.score(X)"
      ],
      "metadata": {
        "id": "kU-VuySeVdBs"
      },
      "execution_count": null,
      "outputs": []
    },
    {
      "cell_type": "markdown",
      "source": [
        "yaddasda cox ram tutdugu zaman data, minibatch den istifade edile biler"
      ],
      "metadata": {
        "id": "gBjpeweGWrqC"
      }
    },
    {
      "cell_type": "code",
      "source": [
        "from sklearn.cluster import MiniBatchKMeans\n",
        "minibatch_kmeans=MiniBatchKMeans(n_clusters=5,random_state=42)\n",
        "minibatch_kmeans.fit(X)"
      ],
      "metadata": {
        "id": "Wi3-z6tbV3gG"
      },
      "execution_count": null,
      "outputs": []
    },
    {
      "cell_type": "code",
      "source": [
        "minibatch_kmeans.inertia_"
      ],
      "metadata": {
        "id": "TrwJFYCpWCS2"
      },
      "execution_count": null,
      "outputs": []
    },
    {
      "cell_type": "markdown",
      "source": [
        "#Choosing the optimal number of cluster"
      ],
      "metadata": {
        "id": "TMKyTIqcWplD"
      }
    },
    {
      "cell_type": "code",
      "source": [
        "kmeans_per_k=[KMeans(n_clusters=k,random_state=42).fit(X) for k in range(1,10)]\n",
        "\n",
        "inertias=[model.inertia_ for model in kmeans_per_k]"
      ],
      "metadata": {
        "id": "Xpuea6i3XdXW"
      },
      "execution_count": null,
      "outputs": []
    },
    {
      "cell_type": "code",
      "source": [
        "plt.plot(range(1,10),inertias,'bo-')\n",
        "plt.xlabel(\"$k$\")\n",
        "plt.ylabel(\"Inertia\")\n",
        "plt.show();"
      ],
      "metadata": {
        "id": "j8RN-3CyXdUG"
      },
      "execution_count": null,
      "outputs": []
    },
    {
      "cell_type": "code",
      "source": [
        "from sklearn.metrics import silhouette_score\n",
        "\n",
        "silhouette_scores=[silhouette_score(X,model.labels_)\n",
        "for model in kmeans_per_k[1:]]"
      ],
      "metadata": {
        "id": "6J7xRItjX-ZX"
      },
      "execution_count": null,
      "outputs": []
    },
    {
      "cell_type": "markdown",
      "source": [
        "kmeans_per_k[1:] 1den baslayir cunku silhoette muqayiseli sekilde oyrenin eger 1 olsa muqayise ede bilmeyecek"
      ],
      "metadata": {
        "id": "5tiaKMj8aWiU"
      }
    },
    {
      "cell_type": "code",
      "source": [
        "plt.plot(range(2,10),silhouette_scores,'bo-')\n",
        "plt.xlabel(\"$k$\")\n",
        "plt.ylabel(\"silhouette score\")\n",
        "plt.show();"
      ],
      "metadata": {
        "id": "vw2o4wkTZ3FR"
      },
      "execution_count": null,
      "outputs": []
    },
    {
      "cell_type": "code",
      "source": [
        "import urllib.request\n",
        "from pathlib import Path\n",
        "\n",
        "IMAGES_PATH=Path()/ 'images' / 'unsupervised_learning'\n",
        "IMAGES_PATH.mkdir(parents=True, exist_ok=True)\n",
        "\n",
        "homl3_root = \"https://github.com/ageron/handson-ml3/raw/main/\"\n",
        "filename = \"ladybug.png\"\n",
        "filepath=IMAGES_PATH / filename\n",
        "if not filepath.is_file():\n",
        "  print('Downloading',filename)\n",
        "  url = f\"{homl3_root}/images/unsupervised_learning/{filename}\"\n",
        "  urllib.request.urlretrieve(url,filepath)\n"
      ],
      "metadata": {
        "id": "M8bE5sL-aJ5S"
      },
      "execution_count": null,
      "outputs": []
    },
    {
      "cell_type": "code",
      "source": [
        "filepath"
      ],
      "metadata": {
        "id": "hJ9poG4NjtE4"
      },
      "execution_count": null,
      "outputs": []
    },
    {
      "cell_type": "code",
      "source": [
        "import PIL\n",
        "image=np.asarray(PIL.Image.open(filepath))\n",
        "image.shape"
      ],
      "metadata": {
        "id": "2CqDGuW9js7S"
      },
      "execution_count": null,
      "outputs": []
    },
    {
      "cell_type": "code",
      "source": [
        "plt.imshow(image)\n",
        "plt.axis('off');"
      ],
      "metadata": {
        "id": "sE01Umkvmfau"
      },
      "execution_count": null,
      "outputs": []
    },
    {
      "cell_type": "markdown",
      "source": [
        "shape -1 3 dm 2 dm qaytaranda ozun hesabla deyir komp avtomatik hesablayir"
      ],
      "metadata": {
        "id": "lJT9NWnMn5dw"
      }
    },
    {
      "cell_type": "code",
      "source": [
        "X=image.reshape(-1,3)\n",
        "kmeans=KMeans(n_clusters=8,random_state=42).fit(X)\n",
        "segmented_img=kmeans.cluster_centers_[kmeans.labels_]\n",
        "segmented_img=segmented_img.reshape(image.shape)"
      ],
      "metadata": {
        "id": "XDb8G_bUmlE3"
      },
      "execution_count": null,
      "outputs": []
    },
    {
      "cell_type": "markdown",
      "source": [
        "kmeans.cluster_centers_ clusterin koordinantlari"
      ],
      "metadata": {
        "id": "0OJ0tMNJoozw"
      }
    },
    {
      "cell_type": "markdown",
      "source": [
        "kmeans.labels_ hansi clustere aid oldugunu bildirir"
      ],
      "metadata": {
        "id": "lztNnxjHov1f"
      }
    },
    {
      "cell_type": "code",
      "source": [
        "plt.imshow(segmented_img/255)\n",
        "plt.axis('off');"
      ],
      "metadata": {
        "id": "IervYFjomowf"
      },
      "execution_count": null,
      "outputs": []
    },
    {
      "cell_type": "code",
      "source": [
        "X.shape"
      ],
      "metadata": {
        "id": "d0LRW1YDmotJ"
      },
      "execution_count": null,
      "outputs": []
    },
    {
      "cell_type": "markdown",
      "source": [
        "#Semi Supervised learning"
      ],
      "metadata": {
        "id": "If18VgF3nzvm"
      }
    },
    {
      "cell_type": "code",
      "source": [
        "from sklearn.datasets import load_digits\n",
        "np.random.seed(42)\n",
        "X_digits,y_digits=load_digits(return_X_y=True)\n",
        "X_train,y_train=X_digits[:1400],y_digits[:1400]\n",
        "X_test,y_test=X_digits[1400:],y_digits[1400:]"
      ],
      "metadata": {
        "id": "_Yw-V16Unzf6"
      },
      "execution_count": null,
      "outputs": []
    },
    {
      "cell_type": "code",
      "source": [
        "plt.imshow(X_train[0].reshape(8,8),cmap='binary')\n",
        "plt.axis('off')\n",
        "plt.show();"
      ],
      "metadata": {
        "id": "psgvuRlPnzWW"
      },
      "execution_count": null,
      "outputs": []
    },
    {
      "cell_type": "code",
      "source": [
        "from sklearn.linear_model import LogisticRegression\n",
        "n_labeled=50\n",
        "log_reg=LogisticRegression(max_iter=10_000)\n",
        "log_reg.fit(X_train[:n_labeled],y_train[:n_labeled])\n",
        "log_reg.score(X_test,y_test)"
      ],
      "metadata": {
        "id": "o8wMn0EDqX9B"
      },
      "execution_count": null,
      "outputs": []
    },
    {
      "cell_type": "code",
      "source": [
        "log_reg_full=LogisticRegression(max_iter=10_000)\n",
        "log_reg_full.fit(X_train,y_train)\n",
        "log_reg_full.score(X_test,y_test)"
      ],
      "metadata": {
        "id": "OmFyW7Duq6mE"
      },
      "execution_count": null,
      "outputs": []
    },
    {
      "cell_type": "code",
      "source": [
        "k=50\n",
        "kmeans=KMeans(n_clusters=k,random_state=42,n_init=20)\n",
        "X_digits_dist=kmeans.fit_transform(X_train)\n",
        "representative_digit_idx=np.argmin(X_digits_dist,axis=0)\n",
        "X_representative_digits=X_train[representative_digit_idx]\n",
        "\n"
      ],
      "metadata": {
        "id": "d83RDfQGrHx3"
      },
      "execution_count": null,
      "outputs": []
    },
    {
      "cell_type": "code",
      "source": [
        "for idx , image in enumerate(X_representative_digits):\n",
        "  plt.subplot(k//5,10,idx+1)\n",
        "  plt.imshow(image.reshape(8,8),cmap='binary')\n",
        "  plt.axis('off')"
      ],
      "metadata": {
        "id": "wl_B9DuAsTln"
      },
      "execution_count": null,
      "outputs": []
    },
    {
      "cell_type": "code",
      "source": [
        "y_representative_digits=np.array([\n",
        "    8,4,0,1,2,6,8,3,6,5,\n",
        "    7,1,0,9,5,7,3,2,5,7,\n",
        "    8,1,4,2,1,4,5,7,6,0,\n",
        "    1,8,7,1,2,2,7,4,9,9,\n",
        "    3,3,4,4,2,8,9,3,9,9\n",
        "])"
      ],
      "metadata": {
        "id": "UuHrmWuTsw4Q"
      },
      "execution_count": null,
      "outputs": []
    },
    {
      "cell_type": "code",
      "source": [
        "log_reg=LogisticRegression(max_iter=10_000)\n",
        "log_reg.fit(X_representative_digits,y_representative_digits)\n",
        "log_reg.score(X_test,y_test)"
      ],
      "metadata": {
        "id": "tplXW6MBuB4r"
      },
      "execution_count": null,
      "outputs": []
    },
    {
      "cell_type": "code",
      "source": [
        "y_train_propagated=np.empty(len(X_train))\n",
        "for i in range(k):\n",
        "  y_train_propagated[kmeans.labels_==i]=y_representative_digits[i]"
      ],
      "metadata": {
        "id": "PCfgSRoYubYx"
      },
      "execution_count": null,
      "outputs": []
    },
    {
      "cell_type": "code",
      "source": [
        "log_reg=LogisticRegression(max_iter=10_000)\n",
        "log_reg.fit(X_train,y_train_propagated)\n",
        "log_reg.score(X_test,y_test)"
      ],
      "metadata": {
        "id": "RYcjdOWUuryd"
      },
      "execution_count": null,
      "outputs": []
    },
    {
      "cell_type": "code",
      "source": [
        "for idx,image in enumerate(X_train[kmeans.labels_==3][:20]):\n",
        "  plt.subplot(1,20,idx+1)\n",
        "  plt.imshow(image.reshape(8,8),cmap='binary')\n",
        "  plt.axis('off')"
      ],
      "metadata": {
        "id": "W-UAWMfQurvI"
      },
      "execution_count": null,
      "outputs": []
    },
    {
      "cell_type": "code",
      "source": [
        "percentile_closest=99\n",
        "X_cluster_dist=X_digits_dist[np.arange(len(X_train)),kmeans.labels_]\n",
        "\n",
        "for i in range(k):\n",
        "\n",
        "  in_cluster=(kmeans.labels_==i)\n",
        "  cluster_dist=X_cluster_dist[in_cluster]\n",
        "  cutoff_distance=np.percentile(cluster_dist,percentile_closest)\n",
        "  above_cutoff=(X_cluster_dist>cutoff_distance)\n",
        "  X_cluster_dist[in_cluster& above_cutoff]=-1\n",
        "\n",
        "partially_propagated=(X_cluster_dist!=-1)\n",
        "X_train_partially_propagated = X_train[partially_propagated]\n",
        "y_train_partially_propagated = y_train_propagated[partially_propagated]"
      ],
      "metadata": {
        "id": "y3mD1a7jwk_X"
      },
      "execution_count": null,
      "outputs": []
    },
    {
      "cell_type": "code",
      "source": [
        "log_reg=LogisticRegression(max_iter=10_000)\n",
        "log_reg.fit(X_train_partially_propagated,y_train_partially_propagated)\n",
        "log_reg.score(X_test,y_test)"
      ],
      "metadata": {
        "id": "W3UDGtr5z_7l"
      },
      "execution_count": null,
      "outputs": []
    },
    {
      "cell_type": "markdown",
      "source": [
        "#DBSCAN"
      ],
      "metadata": {
        "id": "NxSC3Aagwk7_"
      }
    },
    {
      "cell_type": "code",
      "source": [
        "from sklearn.cluster import DBSCAN\n",
        "from sklearn.datasets import make_moons\n",
        "\n",
        "X,y=make_moons(n_samples=1000,noise=0.05,random_state=42)\n",
        "dbscan=DBSCAN(eps=0.05,min_samples=5)\n",
        "dbscan.fit(X)"
      ],
      "metadata": {
        "id": "Aan-zo2T1CZk"
      },
      "execution_count": null,
      "outputs": []
    },
    {
      "cell_type": "markdown",
      "source": [
        "-1 show outlier"
      ],
      "metadata": {
        "id": "0D1wLndK2cex"
      }
    },
    {
      "cell_type": "code",
      "source": [
        "dbscan.labels_[:15]"
      ],
      "metadata": {
        "id": "ye_c_yas12JL"
      },
      "execution_count": null,
      "outputs": []
    },
    {
      "cell_type": "code",
      "source": [
        "dbscan.components_"
      ],
      "metadata": {
        "id": "98XoS6jm2h46"
      },
      "execution_count": null,
      "outputs": []
    },
    {
      "cell_type": "code",
      "source": [
        "from sklearn.neighbors import KNeighborsClassifier\n",
        "\n",
        "knn=KNeighborsClassifier(n_neighbors=50)\n",
        "knn.fit(dbscan.components_, dbscan.labels_[dbscan.core_sample_indices_])\n"
      ],
      "metadata": {
        "id": "U1f50uu-2u1u"
      },
      "execution_count": null,
      "outputs": []
    },
    {
      "cell_type": "code",
      "source": [
        "X_new=np.array([[-0.5,0],[0,0.5],[1,-0.1],[2,1]])\n",
        "knn.predict(X_new)"
      ],
      "metadata": {
        "id": "P411eHAC3GuC"
      },
      "execution_count": null,
      "outputs": []
    },
    {
      "cell_type": "code",
      "source": [],
      "metadata": {
        "id": "RRdWdke13Xmi"
      },
      "execution_count": null,
      "outputs": []
    }
  ]
}