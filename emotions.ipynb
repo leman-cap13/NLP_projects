{
  "nbformat": 4,
  "nbformat_minor": 0,
  "metadata": {
    "colab": {
      "provenance": [],
      "gpuType": "T4",
      "include_colab_link": true
    },
    "kernelspec": {
      "name": "python3",
      "display_name": "Python 3"
    },
    "language_info": {
      "name": "python"
    },
    "accelerator": "GPU"
  },
  "cells": [
    {
      "cell_type": "markdown",
      "metadata": {
        "id": "view-in-github",
        "colab_type": "text"
      },
      "source": [
        "<a href=\"https://colab.research.google.com/github/leman-cap13/my_projects/blob/main/emotions.ipynb\" target=\"_parent\"><img src=\"https://colab.research.google.com/assets/colab-badge.svg\" alt=\"Open In Colab\"/></a>"
      ]
    },
    {
      "cell_type": "code",
      "execution_count": null,
      "metadata": {
        "id": "xV-HFxiUjjFA"
      },
      "outputs": [],
      "source": [
        "from google.colab import files\n",
        "files.upload()"
      ]
    },
    {
      "cell_type": "code",
      "source": [
        "!mkdir -p ~/.kaggle\n",
        "!mv kaggle.json ~/.kaggle/\n",
        "!chmod 600 ~/.kaggle/kaggle.json\n"
      ],
      "metadata": {
        "id": "3IF7LPeN7c4V"
      },
      "execution_count": null,
      "outputs": []
    },
    {
      "cell_type": "code",
      "source": [
        "!kaggle datasets download -d sujaykapadnis/emotion-recognition-dataset"
      ],
      "metadata": {
        "id": "1ZnHWvzo7dmg"
      },
      "execution_count": null,
      "outputs": []
    },
    {
      "cell_type": "code",
      "source": [
        "import zipfile\n",
        "\n",
        "with zipfile.ZipFile('/content/emotion-recognition-dataset.zip','r') as zip_ref:\n",
        "  zip_ref.extractall()"
      ],
      "metadata": {
        "id": "v2vzzKVz7f33"
      },
      "execution_count": null,
      "outputs": []
    },
    {
      "cell_type": "code",
      "source": [
        "import shutil\n",
        "\n",
        "shutil.rmtree('/content/dataset/Ahegao')"
      ],
      "metadata": {
        "id": "oguoUDt-7k6q"
      },
      "execution_count": null,
      "outputs": []
    },
    {
      "cell_type": "code",
      "source": [
        "import tensorflow as tf\n",
        "img_size=(224,224)\n",
        "\n",
        "data_path='/content/dataset'\n",
        "\n",
        "\n",
        "train_data=tf.keras.preprocessing.image_dataset_from_directory(data_path,\n",
        "                                                                label_mode='categorical',\n",
        "                                                                image_size=img_size,\n",
        "                                                                subset='training',\n",
        "                                                                seed=42,\n",
        "                                                                validation_split=0.2,\n",
        "                                                                crop_to_aspect_ratio=True)\n",
        "\n",
        "\n",
        "test_data=tf.keras.preprocessing.image_dataset_from_directory(data_path,\n",
        "                                                                label_mode='categorical',\n",
        "                                                                image_size=img_size,\n",
        "                                                                subset='validation',\n",
        "                                                                seed=42,\n",
        "                                                                validation_split=0.2,\n",
        "                                                                crop_to_aspect_ratio=True)"
      ],
      "metadata": {
        "id": "L6MxT5kk7sc8"
      },
      "execution_count": null,
      "outputs": []
    },
    {
      "cell_type": "code",
      "source": [
        "class_names=train_data.class_names"
      ],
      "metadata": {
        "id": "vIkkwlpe75t7"
      },
      "execution_count": null,
      "outputs": []
    },
    {
      "cell_type": "code",
      "source": [
        "data_augmentation = tf.keras.Sequential([\n",
        "    tf.keras.layers.RandomRotation(0.2),\n",
        "    tf.keras.layers.RandomFlip(\"horizontal\"),\n",
        "    tf.keras.layers.RandomHeight(0.2),\n",
        "    tf.keras.layers.RandomWidth(0.2),\n",
        "    tf.keras.layers.RandomContrast(0.2),\n",
        "    tf.keras.layers.RandomZoom(0.2)\n",
        "])"
      ],
      "metadata": {
        "id": "YOcHP1J6Djex"
      },
      "execution_count": null,
      "outputs": []
    },
    {
      "cell_type": "code",
      "source": [
        "inputs=tf.keras.layers.Input(shape=(224,224,3))\n",
        "\n",
        "data_aug=data_augmentation(inputs)\n",
        "res=tf.keras.layers.Resizing(224,224)(data_aug)\n",
        "\n",
        "x = tf.keras.applications.xception.preprocess_input(res)\n",
        "base_model=tf.keras.applications.Xception(weights='imagenet',include_top=False, input_tensor=x)\n",
        "\n",
        "base_model.trainable=True\n",
        "for layer in base_model.layers[:100]:\n",
        "  layer.trainbale=False\n",
        "\n",
        "avg = tf.keras.layers.GlobalAveragePooling2D()(base_model.output)\n",
        "x = tf.keras.layers.Dense(256, activation='relu')(avg)\n",
        "x = tf.keras.layers.Dropout(0.5)(x)\n",
        "output = tf.keras.layers.Dense(5, activation='softmax')(x)\n",
        "\n",
        "model=tf.keras.Model(inputs,output)"
      ],
      "metadata": {
        "id": "36CH4Gi28HFq"
      },
      "execution_count": null,
      "outputs": []
    },
    {
      "cell_type": "code",
      "source": [
        "initial_learning_rate=0.0001\n",
        "lr_schedule=tf.keras.optimizers.schedules.ExponentialDecay(\n",
        "    initial_learning_rate,\n",
        "    decay_steps=596,\n",
        "    decay_rate=0.96\n",
        ")"
      ],
      "metadata": {
        "id": "1zTo4SZU83_Z"
      },
      "execution_count": null,
      "outputs": []
    },
    {
      "cell_type": "code",
      "source": [
        "early_stopping=tf.keras.callbacks.EarlyStopping(\n",
        "    monitor='val_loss',\n",
        "    patience=5,\n",
        "    restore_best_weights=True\n",
        "\n",
        ")"
      ],
      "metadata": {
        "id": "FvpOTviZbeOM"
      },
      "execution_count": null,
      "outputs": []
    },
    {
      "cell_type": "code",
      "source": [
        "model.compile(loss='categorical_crossentropy',\n",
        "              optimizer=tf.keras.optimizers.Nadam(learning_rate=lr_schedule),\n",
        "              metrics=['accuracy', 'f1_score'])"
      ],
      "metadata": {
        "id": "uUsayiXQ8Jb8"
      },
      "execution_count": null,
      "outputs": []
    },
    {
      "cell_type": "code",
      "source": [
        "checkpoint_cb=tf.keras.callbacks.ModelCheckpoint(\n",
        "    'emotions_detector.keras',\n",
        "    save_best_only=True,\n",
        ")"
      ],
      "metadata": {
        "id": "ATGWzNwIp_Mo"
      },
      "execution_count": null,
      "outputs": []
    },
    {
      "cell_type": "code",
      "source": [
        "model.fit(train_data, validation_data=test_data, epochs=10,callbacks=[early_stopping, checkpoint_cb ])"
      ],
      "metadata": {
        "id": "1J0GAH4F9Pul"
      },
      "execution_count": null,
      "outputs": []
    },
    {
      "cell_type": "code",
      "source": [
        "import tensorflow as tf"
      ],
      "metadata": {
        "id": "Ifr8j4_eTHZ5"
      },
      "execution_count": null,
      "outputs": []
    },
    {
      "cell_type": "code",
      "source": [
        "model.evaluate(train_data)"
      ],
      "metadata": {
        "id": "eoPydYqMbgQk"
      },
      "execution_count": null,
      "outputs": []
    },
    {
      "cell_type": "code",
      "source": [
        "model.evaluate(test_data)"
      ],
      "metadata": {
        "id": "ZIFQJmwjTO6q"
      },
      "execution_count": null,
      "outputs": []
    },
    {
      "cell_type": "code",
      "source": [
        "import matplotlib.pyplot as plt\n",
        "import matplotlib.image as mpimg\n",
        "import numpy as np"
      ],
      "metadata": {
        "id": "Ks8mtNHhWeqD"
      },
      "execution_count": null,
      "outputs": []
    },
    {
      "cell_type": "code",
      "source": [
        "def pred_and_plot(model,image_path):\n",
        "  img=mpimg.imread(image_path)\n",
        "  img=tf.image.resize(img,size=[224,224])\n",
        "  img=img[tf.newaxis,...]\n",
        "  pred=model.predict(img)\n",
        "\n",
        "  plt.figure(figsize=(8,5))\n",
        "  plt.subplot(1,2,1)\n",
        "  plt.imshow(img[0]/255)\n",
        "  plt.title(f\"Prediction:{class_names[np.argmax(pred)]}\")\n",
        "  plt.axis(False)\n",
        "  plt.subplot(1,2,2)\n",
        "  plt.bar(class_names,pred[0])\n",
        "  plt.title('probability')\n",
        "  plt.show()\n",
        "\n",
        "pred_and_plot(model,'/content/vvg.jpg')"
      ],
      "metadata": {
        "id": "_aa_e_cuepqm"
      },
      "execution_count": null,
      "outputs": []
    },
    {
      "cell_type": "code",
      "source": [
        "def pred_and_plot(model,image_path):\n",
        "  img=mpimg.imread(image_path)\n",
        "  img=tf.image.resize(img,size=[224,224])\n",
        "  img=img[tf.newaxis,...]\n",
        "  pred=model.predict(img)\n",
        "\n",
        "  plt.figure(figsize=(9,7))\n",
        "  plt.subplot(1,2,1)\n",
        "  plt.imshow(img[0]/255)\n",
        "  plt.title(f\"Prediction:{class_names[np.argmax(pred)]}\")\n",
        "  plt.axis(False)\n",
        "  plt.subplot(1,2,2)\n",
        "  plt.bar(class_names,pred[0])\n",
        "  plt.title('probability')\n",
        "  plt.show()\n",
        "\n",
        "pred_and_plot(model,'/content/myimg2.jpg')"
      ],
      "metadata": {
        "id": "Yhb6QTqTev0V"
      },
      "execution_count": null,
      "outputs": []
    },
    {
      "cell_type": "code",
      "source": [
        "def pred_and_plot(model,image_path):\n",
        "  img=mpimg.imread(image_path)\n",
        "  img=tf.image.resize(img,size=[224,224])\n",
        "  img=img[tf.newaxis,...]\n",
        "  pred=model.predict(img)\n",
        "\n",
        "  plt.figure(figsize=(8,5))\n",
        "  plt.subplot(1,2,1)\n",
        "  plt.imshow(img[0]/255)\n",
        "  plt.title(f\"Prediction:{class_names[np.argmax(pred)]}\")\n",
        "  plt.axis(False)\n",
        "  plt.subplot(1,2,2)\n",
        "  plt.bar(class_names,pred[0])\n",
        "  plt.title('probability')\n",
        "  plt.show()\n",
        "\n",
        "pred_and_plot(model,'/content/img3.jpg')"
      ],
      "metadata": {
        "id": "TOrFtEVNCMx3"
      },
      "execution_count": null,
      "outputs": []
    },
    {
      "cell_type": "code",
      "source": [
        "def pred_and_plot(model,image_path):\n",
        "  img=mpimg.imread(image_path)\n",
        "  img=tf.image.resize(img,size=[224,224])\n",
        "  img=img[tf.newaxis,...]\n",
        "  pred=model.predict(img)\n",
        "\n",
        "  plt.figure(figsize=(8,5))\n",
        "  plt.subplot(1,2,1)\n",
        "  plt.imshow(img[0]/255)\n",
        "  plt.title(f\"Prediction:{class_names[np.argmax(pred)]}\")\n",
        "  plt.axis(False)\n",
        "  plt.subplot(1,2,2)\n",
        "  plt.bar(class_names,pred[0])\n",
        "  plt.title('probability')\n",
        "  plt.show()\n",
        "\n",
        "pred_and_plot(model,'/content/myimg5.jpg')"
      ],
      "metadata": {
        "id": "-KsbPSmFE8fN"
      },
      "execution_count": null,
      "outputs": []
    },
    {
      "cell_type": "code",
      "source": [
        "model.save('emotions_predictions.keras')"
      ],
      "metadata": {
        "id": "-aqC_tUJfljX"
      },
      "execution_count": null,
      "outputs": []
    },
    {
      "cell_type": "code",
      "source": [
        "import zipfile\n",
        "\n",
        "\n",
        "model_file = 'emotions_predictions.keras'\n",
        "zip_file = 'emotions_predictions.keras.zip'\n",
        "\n",
        "\n",
        "with zipfile.ZipFile(zip_file, 'w', zipfile.ZIP_DEFLATED) as zipf:\n",
        "    zipf.write(model_file, arcname='emotions_predictions.keras')\n"
      ],
      "metadata": {
        "id": "kotwOB5FoSyL"
      },
      "execution_count": null,
      "outputs": []
    }
  ]
}