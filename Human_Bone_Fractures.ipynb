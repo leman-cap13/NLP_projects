{
  "nbformat": 4,
  "nbformat_minor": 0,
  "metadata": {
    "colab": {
      "provenance": [],
      "authorship_tag": "ABX9TyPy/GYfRVnbd7FeaCGiXoPM",
      "include_colab_link": true
    },
    "kernelspec": {
      "name": "python3",
      "display_name": "Python 3"
    },
    "language_info": {
      "name": "python"
    }
  },
  "cells": [
    {
      "cell_type": "markdown",
      "metadata": {
        "id": "view-in-github",
        "colab_type": "text"
      },
      "source": [
        "<a href=\"https://colab.research.google.com/github/leman-cap13/my_projects/blob/main/Human_Bone_Fractures.ipynb\" target=\"_parent\"><img src=\"https://colab.research.google.com/assets/colab-badge.svg\" alt=\"Open In Colab\"/></a>"
      ]
    },
    {
      "cell_type": "code",
      "source": [
        "import zipfile"
      ],
      "metadata": {
        "id": "etaMerEuhuWG"
      },
      "execution_count": null,
      "outputs": []
    },
    {
      "cell_type": "code",
      "source": [
        "import pandas as pd\n",
        "import numpy as np\n",
        "import matplotlib.pyplot as plt"
      ],
      "metadata": {
        "id": "A5YxtsertdXM"
      },
      "execution_count": null,
      "outputs": []
    },
    {
      "cell_type": "code",
      "source": [
        "!unzip -q '/content/human bone fracture detection.v1i.yolov7pytorch.zip' -d /content/custom_data"
      ],
      "metadata": {
        "id": "J_8NxIAIiD2L"
      },
      "execution_count": null,
      "outputs": []
    },
    {
      "cell_type": "code",
      "source": [
        "!pip install ultralytics"
      ],
      "metadata": {
        "id": "Tm4SlPy-jNA8"
      },
      "execution_count": null,
      "outputs": []
    },
    {
      "cell_type": "code",
      "source": [
        "!ls /content/runs/detect/train/weights"
      ],
      "metadata": {
        "id": "mI0UcciHuFCU"
      },
      "execution_count": null,
      "outputs": []
    },
    {
      "cell_type": "code",
      "source": [
        "!yolo detect train data=/content/custom_data/data.yaml model=yolov8s.pt epochs=10 imgsz=640"
      ],
      "metadata": {
        "id": "2Fulsx5Jm0Lk"
      },
      "execution_count": null,
      "outputs": []
    },
    {
      "cell_type": "code",
      "source": [
        "!yolo detect predict model=/content/runs/detect/train/weights/best.pt source=/content/custom_data/valid/images save=True"
      ],
      "metadata": {
        "id": "k3KrjYETuPc-"
      },
      "execution_count": null,
      "outputs": []
    },
    {
      "cell_type": "code",
      "source": [
        "from google.colab import files\n",
        "\n",
        "\n",
        "files.download('/content/runs/detect/train/weights/best.pt')"
      ],
      "metadata": {
        "id": "66bPGBiju0br"
      },
      "execution_count": null,
      "outputs": []
    },
    {
      "cell_type": "code",
      "source": [
        "!yolo task=detect mode=predict model='/content/runs/detect/train/weights/best.pt' source='/content/runs/detect/predict/17a_jpg.rf.398a1449b828ec6075cfbd7b81a26b89.jpg'\n"
      ],
      "metadata": {
        "id": "JeLE-f1Ovn4c"
      },
      "execution_count": null,
      "outputs": []
    },
    {
      "cell_type": "code",
      "source": [
        "from IPython.display import Image, display\n",
        "\n",
        "# Nəticə faylının ünvanı\n",
        "result_path = '/content/runs/detect/predict2/17a_jpg.rf.398a1449b828ec6075cfbd7b81a26b89.jpg'\n",
        "\n",
        "\n",
        "display(Image(filename=result_path))\n"
      ],
      "metadata": {
        "id": "Qv6BsH2hvyNY"
      },
      "execution_count": null,
      "outputs": []
    },
    {
      "cell_type": "code",
      "source": [
        "!yolo task=detect mode=predict model='/content/runs/detect/train/weights/best.pt' source='/content/runs/detect/predict/1a_jpg.rf.8833d0a7ce0ba6ff184cced46b76c9c2.jpg'"
      ],
      "metadata": {
        "id": "hggLsNE9v2tY"
      },
      "execution_count": null,
      "outputs": []
    },
    {
      "cell_type": "code",
      "source": [
        "result_path1 = '/content/runs/detect/predict3/1a_jpg.rf.8833d0a7ce0ba6ff184cced46b76c9c2.jpg'\n",
        "\n",
        "\n",
        "display(Image(filename=result_path))"
      ],
      "metadata": {
        "id": "DLu1SA60wLF3"
      },
      "execution_count": null,
      "outputs": []
    }
  ]
}