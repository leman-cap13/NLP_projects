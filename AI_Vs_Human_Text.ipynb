{
  "nbformat": 4,
  "nbformat_minor": 0,
  "metadata": {
    "colab": {
      "provenance": [],
      "gpuType": "T4",
      "authorship_tag": "ABX9TyN+ZOBBG/YU+tyissnXpJSp",
      "include_colab_link": true
    },
    "kernelspec": {
      "name": "python3",
      "display_name": "Python 3"
    },
    "language_info": {
      "name": "python"
    },
    "accelerator": "GPU"
  },
  "cells": [
    {
      "cell_type": "markdown",
      "metadata": {
        "id": "view-in-github",
        "colab_type": "text"
      },
      "source": [
        "<a href=\"https://colab.research.google.com/github/leman-cap13/my_projects/blob/main/AI_Vs_Human_Text.ipynb\" target=\"_parent\"><img src=\"https://colab.research.google.com/assets/colab-badge.svg\" alt=\"Open In Colab\"/></a>"
      ]
    },
    {
      "cell_type": "code",
      "execution_count": null,
      "metadata": {
        "id": "SDo_SWDkBnnj"
      },
      "outputs": [],
      "source": [
        "from google.colab import files\n",
        "files.upload()"
      ]
    },
    {
      "cell_type": "code",
      "source": [
        "\n",
        "!mkdir -p ~/.kaggle\n",
        "!cp kaggle.json ~/.kaggle/\n",
        "!chmod 600 ~/.kaggle/kaggle.json"
      ],
      "metadata": {
        "id": "moL-uJ5qBvKb"
      },
      "execution_count": null,
      "outputs": []
    },
    {
      "cell_type": "code",
      "source": [
        "!kaggle datasets download -d shanegerami/ai-vs-human-text"
      ],
      "metadata": {
        "id": "7Xv_USX6B1E2"
      },
      "execution_count": null,
      "outputs": []
    },
    {
      "cell_type": "code",
      "source": [
        "import zipfile"
      ],
      "metadata": {
        "id": "tbPyG31pB7Ji"
      },
      "execution_count": null,
      "outputs": []
    },
    {
      "cell_type": "code",
      "source": [
        "with zipfile.ZipFile('/content/ai-vs-human-text.zip','r') as zip_ref:\n",
        "  zip_ref.extractall()"
      ],
      "metadata": {
        "id": "8XJUakakCa6x"
      },
      "execution_count": null,
      "outputs": []
    },
    {
      "cell_type": "code",
      "source": [
        "import pandas as pd"
      ],
      "metadata": {
        "id": "qSElwWUaCk-6"
      },
      "execution_count": null,
      "outputs": []
    },
    {
      "cell_type": "code",
      "source": [
        "df=pd.read_csv('/content/AI_Human.csv')\n",
        "df"
      ],
      "metadata": {
        "id": "C2sb9-bbCnJF"
      },
      "execution_count": null,
      "outputs": []
    },
    {
      "cell_type": "code",
      "source": [
        "df = df.sample(20000, random_state=42)"
      ],
      "metadata": {
        "id": "hoLwoOXMimxX"
      },
      "execution_count": null,
      "outputs": []
    },
    {
      "cell_type": "code",
      "source": [
        "df['generated'].value_counts()"
      ],
      "metadata": {
        "id": "k1pgTvyICtCT"
      },
      "execution_count": null,
      "outputs": []
    },
    {
      "cell_type": "code",
      "source": [
        "# my plan\n",
        "#1.convert text into token  using AutoTokenizer\n",
        "#2.split train val dataset using  TensorDataset, DataLoader\n",
        "#3.make model using AutoModelForClassification\n",
        "#4 Use loss,optimizer and accelerator\n",
        "#5 make custom loop\n",
        "#6. Evaluate it with metrics\n",
        "#7 Do Error Analysis\n",
        "#8 return some predictions"
      ],
      "metadata": {
        "id": "k1dMwoNLC2TV"
      },
      "execution_count": null,
      "outputs": []
    },
    {
      "cell_type": "code",
      "source": [
        "from transformers import AutoTokenizer\n",
        "\n",
        "tokenizer=AutoTokenizer.from_pretrained('distilbert-base-cased')\n"
      ],
      "metadata": {
        "id": "cdTWpAuxD54E"
      },
      "execution_count": null,
      "outputs": []
    },
    {
      "cell_type": "code",
      "source": [
        "import torch"
      ],
      "metadata": {
        "id": "ZqQuz4zEFaGP"
      },
      "execution_count": null,
      "outputs": []
    },
    {
      "cell_type": "code",
      "source": [
        "def batch_tokenize(texts, labels, batch_size=512):\n",
        "    input_ids_list = []\n",
        "    attention_mask_list = []\n",
        "\n",
        "    for i in range(0, len(texts), batch_size):\n",
        "        batch_texts = texts[i:i+batch_size]\n",
        "        tokenized = tokenizer(\n",
        "            batch_texts,\n",
        "            max_length=64,\n",
        "            padding='max_length',\n",
        "            truncation=True,\n",
        "            return_tensors='pt'\n",
        "        )\n",
        "        input_ids_list.append(tokenized['input_ids'])\n",
        "        attention_mask_list.append(tokenized['attention_mask'])\n",
        "\n",
        "    input_ids = torch.cat(input_ids_list, dim=0)\n",
        "    attention_mask = torch.cat(attention_mask_list, dim=0)\n",
        "    labels_tensor = torch.tensor(labels, dtype=torch.long)\n",
        "\n",
        "    return input_ids, attention_mask, labels_tensor\n"
      ],
      "metadata": {
        "id": "k9u5_wSsXwPg"
      },
      "execution_count": null,
      "outputs": []
    },
    {
      "cell_type": "code",
      "source": [
        "# def tokenize_text(text,label):\n",
        "#   token=tokenizer(\n",
        "#       text,\n",
        "#       max_length=64,\n",
        "#       return_tensors=None,\n",
        "#       truncation=True,\n",
        "#       padding=True\n",
        "\n",
        "\n",
        "#   )\n",
        "#   input_ids=torch.tensor(token['input_ids'])\n",
        "#   attention_mask=torch.tensor(token['attention_mask'])\n",
        "#   labels=torch.tensor(label,dtype=torch.long)\n",
        "#   return input_ids,attention_mask,labels\n",
        "\n",
        "# train_tokens=tokenize_text(X_train.tolist(),y_train)\n",
        "# val_tokens=tokenize_text(X_val.tolist(),y_val)\n"
      ],
      "metadata": {
        "id": "ycw8pA7PErtu"
      },
      "execution_count": null,
      "outputs": []
    },
    {
      "cell_type": "code",
      "source": [
        "from sklearn.model_selection import train_test_split\n",
        "X_train,X_val,y_train,y_val=train_test_split(df['text'],df['generated'], test_size=0.2,random_state=42)"
      ],
      "metadata": {
        "id": "zTVAoCW9FiKG"
      },
      "execution_count": null,
      "outputs": []
    },
    {
      "cell_type": "code",
      "source": [
        "train_input_ids, train_attention_mask, train_labels = batch_tokenize(X_train.tolist(), y_train.tolist())\n",
        "val_input_ids, val_attention_mask, val_labels = batch_tokenize(X_val.tolist(), y_val.tolist())\n"
      ],
      "metadata": {
        "id": "zImjYe0gOoXP"
      },
      "execution_count": null,
      "outputs": []
    },
    {
      "cell_type": "code",
      "source": [
        "# train_input_ids, train_attention_mask, train_labels = batch_tokenize(X_train.values.tolist(), y_train.values.tolist())\n",
        "# val_input_ids, val_attention_mask, val_labels = batch_tokenize(X_val.values.tolist(), y_val.values.tolist())"
      ],
      "metadata": {
        "id": "pDPOucPYYzl-"
      },
      "execution_count": null,
      "outputs": []
    },
    {
      "cell_type": "code",
      "source": [
        "#convert train_tokens into train_dataset using DataTensor\n",
        "from torch.utils.data import TensorDataset\n",
        "\n",
        "train_dataset=TensorDataset(\n",
        "    train_input_ids,\n",
        "    train_attention_mask,\n",
        "    train_labels\n",
        "\n",
        ")\n",
        "\n",
        "val_dataset=TensorDataset(\n",
        "    val_input_ids,\n",
        "    val_attention_mask,\n",
        "    val_labels\n",
        "\n",
        ")\n"
      ],
      "metadata": {
        "id": "pPr67oWUJl21"
      },
      "execution_count": null,
      "outputs": []
    },
    {
      "cell_type": "code",
      "source": [
        "#use dataloader\n",
        "from torch.utils.data import DataLoader\n",
        "\n",
        "train_loader=DataLoader(\n",
        "    train_dataset,\n",
        "    batch_size=64,\n",
        "    shuffle=True\n",
        ")\n",
        "\n",
        "val_loader=DataLoader(\n",
        "    val_dataset,\n",
        "    batch_size=64,\n",
        "    shuffle=True\n",
        ")"
      ],
      "metadata": {
        "id": "Pw-1ezVoIEHI"
      },
      "execution_count": null,
      "outputs": []
    },
    {
      "cell_type": "code",
      "source": [
        "#make model\n",
        "from transformers import AutoModelForSequenceClassification\n",
        "\n",
        "model=AutoModelForSequenceClassification.from_pretrained(\n",
        "    'distilbert-base-cased',\n",
        "    num_labels=2\n",
        ")"
      ],
      "metadata": {
        "id": "ZQNj1AWXI4Px"
      },
      "execution_count": null,
      "outputs": []
    },
    {
      "cell_type": "code",
      "source": [
        "device = torch.device('cuda' if torch.cuda.is_available() else 'cpu')\n",
        "model.to(device)\n"
      ],
      "metadata": {
        "id": "qsAnxfdYI4KC"
      },
      "execution_count": null,
      "outputs": []
    },
    {
      "cell_type": "code",
      "source": [
        "#make loss\n",
        "import torch.nn as nn\n",
        "\n",
        "loss_fn=nn.CrossEntropyLoss()\n"
      ],
      "metadata": {
        "id": "AUiFXgQGI8kc"
      },
      "execution_count": null,
      "outputs": []
    },
    {
      "cell_type": "code",
      "source": [
        "#make optimizer\n",
        "from torch.optim import Adam\n",
        "\n",
        "optimizer=Adam(model.parameters(), lr=2e-5)"
      ],
      "metadata": {
        "id": "ZmXN6s0LkMK2"
      },
      "execution_count": null,
      "outputs": []
    },
    {
      "cell_type": "code",
      "source": [
        "# get scheduler\n",
        "from transformers import get_scheduler\n",
        "\n",
        "num_epochs=5\n",
        "num_training_steps=num_epochs*len(train_loader)\n",
        "lr_scheduler=get_scheduler(\n",
        "    name='linear',\n",
        "    optimizer=optimizer,\n",
        "    num_warmup_steps=0,\n",
        "    num_training_steps=num_training_steps\n",
        ")"
      ],
      "metadata": {
        "id": "4aRRBTSalHQi"
      },
      "execution_count": null,
      "outputs": []
    },
    {
      "cell_type": "code",
      "source": [
        "#make accelerate\n",
        "from accelerate import Accelerator\n",
        "\n",
        "accelerator=Accelerator()\n",
        "model, optimizer, train_loader, val_loader = accelerator.prepare(\n",
        "    model, optimizer, train_loader, val_loader\n",
        ")"
      ],
      "metadata": {
        "id": "JIVgBztqnIvw"
      },
      "execution_count": null,
      "outputs": []
    },
    {
      "cell_type": "code",
      "source": [
        "#train the model\n",
        "from tqdm import tqdm\n",
        "import numpy as np\n",
        "from sklearn.metrics import accuracy_score, classification_report\n",
        "progress_bar = tqdm(range(num_training_steps))\n",
        "\n",
        "model.train()\n",
        "for epoch in range(num_epochs):\n",
        "  for batch in train_loader:\n",
        "    input_ids=batch[0].to(device)\n",
        "    attention_mask=batch[1].to(device)\n",
        "    labels=batch[2].to(device)\n",
        "    outputs=model(input_ids=input_ids, attention_mask=attention_mask, labels=labels)\n",
        "    loss=outputs.loss\n",
        "    accelerator.backward(loss)\n",
        "\n",
        "    optimizer.step()\n",
        "    lr_scheduler.step()\n",
        "    optimizer.zero_grad()\n",
        "    progress_bar.update(1)\n",
        "\n",
        "  model.eval()\n",
        "  all_preds=[]\n",
        "  all_labels=[]\n",
        "  with torch.no_grad():\n",
        "    for batch in val_loader:\n",
        "      input_ids=batch[0].to(device)\n",
        "      attention_mask=batch[1].to(device)\n",
        "      labels=batch[2].to(device)\n",
        "      outputs=model(input_ids=input_ids, attention_mask=attention_mask)\n",
        "      preds=torch.argmax(outputs.logits, dim=1)\n",
        "      all_preds.extend(preds.cpu().numpy())\n",
        "      all_labels.extend(labels.cpu().numpy())\n",
        "\n",
        "\n",
        "    acc = accuracy_score(all_labels, all_preds)\n",
        "    print(f\"Validation Accuracy: {acc:.4f}\")\n",
        "    print(\"Classification Report:\")\n",
        "    print(classification_report(all_labels, all_preds))"
      ],
      "metadata": {
        "id": "iIpk2YSFl7E1"
      },
      "execution_count": null,
      "outputs": []
    },
    {
      "cell_type": "code",
      "source": [
        "def predict_text(text):\n",
        "    model.eval()\n",
        "    tokens = tokenizer(text, truncation=True, padding=True, max_length=64, return_tensors='pt')\n",
        "    tokens = {key: val.to(device) for key, val in tokens.items()}\n",
        "\n",
        "    with torch.no_grad():\n",
        "        output = model(**tokens)\n",
        "        logits = output.logits\n",
        "        prediction = torch.argmax(logits, dim=1).item()\n",
        "\n",
        "    return \"AI-Generated\" if prediction == 1 else \"Human-Written\"\n"
      ],
      "metadata": {
        "id": "05-az-mEpDJC"
      },
      "execution_count": null,
      "outputs": []
    },
    {
      "cell_type": "code",
      "source": [
        "print(predict_text(\"In the quiet village, the sun set behind the hills as children laughed.\"))\n",
        "print(predict_text(\"The rapid advancements in quantum algorithms will soon redefine cryptographic landscapes.\"))\n"
      ],
      "metadata": {
        "id": "dAl9jrRypFRw"
      },
      "execution_count": null,
      "outputs": []
    },
    {
      "cell_type": "code",
      "source": [
        "print(predict_text(\"All day i am tring to reach the best version of myself\"))"
      ],
      "metadata": {
        "id": "eExvBj4iqHP9"
      },
      "execution_count": null,
      "outputs": []
    },
    {
      "cell_type": "code",
      "source": [
        "def error_analysis(model, val_loader, tokenizer, device):\n",
        "    model.eval()\n",
        "    errors = []\n",
        "\n",
        "    with torch.no_grad():\n",
        "        for batch in val_loader:\n",
        "            input_ids, attention_mask, labels = [x.to(device) for x in batch]\n",
        "            outputs = model(input_ids=input_ids, attention_mask=attention_mask)\n",
        "            preds = torch.argmax(outputs.logits, dim=1)\n",
        "\n",
        "            for i in range(len(labels)):\n",
        "                if preds[i] != labels[i]:\n",
        "                    text_tokens = input_ids[i].cpu()\n",
        "                    text = tokenizer.decode(text_tokens, skip_special_tokens=True)\n",
        "                    errors.append({\n",
        "                        \"text\": text,\n",
        "                        \"true_label\": labels[i].item(),\n",
        "                        \"predicted_label\": preds[i].item()\n",
        "                    })\n",
        "\n",
        "    return errors\n"
      ],
      "metadata": {
        "id": "A_scTwz9qaij"
      },
      "execution_count": null,
      "outputs": []
    },
    {
      "cell_type": "code",
      "source": [
        "errors = error_analysis(model, val_loader, tokenizer, device)\n",
        "print(f\"Number of misclassified samples: {len(errors)}\")\n",
        "\n",
        "\n",
        "for i, e in enumerate(errors[:10]):\n",
        "    print(f\"Example {i+1}:\")\n",
        "    print(f\"Text: {e['text']}\")\n",
        "    print(f\"True Label: {'AI-Generated' if e['true_label'] == 1 else 'Human-Written'}\")\n",
        "    print(f\"Predicted Label: {'AI-Generated' if e['predicted_label'] == 1 else 'Human-Written'}\")\n",
        "    print(\"-\" * 50)\n"
      ],
      "metadata": {
        "id": "EdkwvdPTqafN"
      },
      "execution_count": null,
      "outputs": []
    },
    {
      "cell_type": "code",
      "source": [
        "import matplotlib.pyplot as plt\n",
        "from sklearn.metrics import confusion_matrix, ConfusionMatrixDisplay\n",
        "\n",
        "def plot_confusion_matrix(model, val_loader, device):\n",
        "    model.eval()\n",
        "    all_preds, all_labels = [], []\n",
        "\n",
        "    with torch.no_grad():\n",
        "        for batch in val_loader:\n",
        "            input_ids, attention_mask, labels = [x.to(device) for x in batch]\n",
        "            outputs = model(input_ids=input_ids, attention_mask=attention_mask)\n",
        "            preds = torch.argmax(outputs.logits, dim=1)\n",
        "\n",
        "            all_preds.extend(preds.cpu().numpy())\n",
        "            all_labels.extend(labels.cpu().numpy())\n",
        "\n",
        "    cm = confusion_matrix(all_labels, all_preds)\n",
        "    disp = ConfusionMatrixDisplay(confusion_matrix=cm, display_labels=[\"Human-Written\", \"AI-Generated\"])\n",
        "    disp.plot(cmap=plt.cm.Blues)\n",
        "    plt.title(\"Confusion Matrix\")\n",
        "    plt.show()\n",
        "\n",
        "plot_confusion_matrix(model, val_loader, device)\n"
      ],
      "metadata": {
        "id": "CvHR1skMqac8"
      },
      "execution_count": null,
      "outputs": []
    },
    {
      "cell_type": "code",
      "source": [
        "import torch.nn.functional as F\n",
        "\n",
        "def predict_with_confidence(text):\n",
        "    model.eval()\n",
        "    tokens = tokenizer(text, truncation=True, padding=True, max_length=64, return_tensors='pt')\n",
        "    tokens = {key: val.to(device) for key, val in tokens.items()}\n",
        "\n",
        "    with torch.no_grad():\n",
        "        output = model(**tokens)\n",
        "        logits = output.logits\n",
        "        probs = F.softmax(logits, dim=1)\n",
        "        conf, prediction = torch.max(probs, dim=1)\n",
        "\n",
        "    label = \"AI-Generated\" if prediction.item() == 1 else \"Human-Written\"\n",
        "    return label, conf.item()\n",
        "\n",
        "\n",
        "text = \"This is a sample text to analyze.\"\n",
        "label, confidence = predict_with_confidence(text)\n",
        "print(f\"Prediction: {label}, Confidence: {confidence:.2f}\")\n"
      ],
      "metadata": {
        "id": "N7R-jndmqkbt"
      },
      "execution_count": null,
      "outputs": []
    },
    {
      "cell_type": "code",
      "source": [
        "train_losses = []\n",
        "val_accuracies = []\n",
        "for epoch in range(num_epochs):\n",
        "    model.train()\n",
        "    total_loss = 0\n",
        "    for batch in train_loader:\n",
        "        input_ids, attention_mask, labels = batch  # no .to(device) if using accelerator\n",
        "        outputs = model(input_ids=input_ids, attention_mask=attention_mask, labels=labels)\n",
        "        loss = outputs.loss\n",
        "        accelerator.backward(loss)\n",
        "\n",
        "        optimizer.step()\n",
        "        lr_scheduler.step()\n",
        "        optimizer.zero_grad()\n",
        "\n",
        "        total_loss += loss.item()\n",
        "\n",
        "    avg_train_loss = total_loss / len(train_loader)\n",
        "    train_losses.append(avg_train_loss)\n",
        "\n",
        "    # Validation\n",
        "    model.eval()\n",
        "    all_preds = []\n",
        "    all_labels = []\n",
        "    with torch.no_grad():\n",
        "        for batch in val_loader:\n",
        "            input_ids, attention_mask, labels = batch\n",
        "            outputs = model(input_ids=input_ids, attention_mask=attention_mask)\n",
        "            preds = torch.argmax(outputs.logits, dim=1)\n",
        "\n",
        "            all_preds.extend(preds.cpu().numpy())\n",
        "            all_labels.extend(labels.cpu().numpy())\n",
        "\n",
        "    acc = accuracy_score(all_labels, all_preds)\n",
        "    val_accuracies.append(acc)\n",
        "\n",
        "    print(f\"Epoch {epoch+1}/{num_epochs} — Train Loss: {avg_train_loss:.4f} — Val Accuracy: {acc:.4f}\")\n"
      ],
      "metadata": {
        "id": "XVFCxCKfrXXk"
      },
      "execution_count": null,
      "outputs": []
    },
    {
      "cell_type": "code",
      "source": [
        "import matplotlib.pyplot as plt\n",
        "\n",
        "epochs = range(1, num_epochs + 1)\n",
        "\n",
        "plt.figure(figsize=(10,5))\n",
        "plt.plot(epochs, train_losses, label='Training Loss')\n",
        "plt.plot(epochs, val_accuracies, label='Validation Accuracy')\n",
        "plt.xlabel('Epoch')\n",
        "plt.ylabel('Value')\n",
        "plt.title('Training Loss and Validation Accuracy')\n",
        "plt.legend()\n",
        "plt.grid(True)\n",
        "plt.show()\n"
      ],
      "metadata": {
        "id": "X9dfDLdsrXUF"
      },
      "execution_count": null,
      "outputs": []
    },
    {
      "cell_type": "code",
      "source": [],
      "metadata": {
        "id": "8RWI-1S4UkFj"
      },
      "execution_count": null,
      "outputs": []
    }
  ]
}