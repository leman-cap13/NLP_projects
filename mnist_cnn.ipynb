{
  "nbformat": 4,
  "nbformat_minor": 0,
  "metadata": {
    "colab": {
      "provenance": [],
      "gpuType": "T4",
      "authorship_tag": "ABX9TyMtDjLJficceZ7o9u5TBxV2",
      "include_colab_link": true
    },
    "kernelspec": {
      "name": "python3",
      "display_name": "Python 3"
    },
    "language_info": {
      "name": "python"
    },
    "accelerator": "GPU"
  },
  "cells": [
    {
      "cell_type": "markdown",
      "metadata": {
        "id": "view-in-github",
        "colab_type": "text"
      },
      "source": [
        "<a href=\"https://colab.research.google.com/github/leman-cap13/my_projects/blob/main/mnist_cnn.ipynb\" target=\"_parent\"><img src=\"https://colab.research.google.com/assets/colab-badge.svg\" alt=\"Open In Colab\"/></a>"
      ]
    },
    {
      "cell_type": "code",
      "execution_count": null,
      "metadata": {
        "id": "ZLkDU0DY6kyO"
      },
      "outputs": [],
      "source": [
        "import tensorflow as tf"
      ]
    },
    {
      "cell_type": "code",
      "source": [
        "(x_full, y_full), (x_test, y_test) = tf.keras.datasets.mnist.load_data()"
      ],
      "metadata": {
        "id": "ykk1Ht1B6o5N"
      },
      "execution_count": null,
      "outputs": []
    },
    {
      "cell_type": "code",
      "source": [
        "from sklearn.model_selection import train_test_split\n",
        "X_train,X_valid,y_train,y_valid=train_test_split(x_full,y_full,test_size=0.2,random_state=13)"
      ],
      "metadata": {
        "id": "fi-CQsS47RZb"
      },
      "execution_count": null,
      "outputs": []
    },
    {
      "cell_type": "code",
      "source": [
        "X_train.shape"
      ],
      "metadata": {
        "id": "RRcWYOkq7wcW"
      },
      "execution_count": null,
      "outputs": []
    },
    {
      "cell_type": "code",
      "source": [
        "from functools import partial\n",
        "Conv2D=partial(\n",
        "    tf.keras.layers.Conv2D,\n",
        "    kernel_size=3,\n",
        "    filters=64,\n",
        "    padding='same',\n",
        "    strides=1,\n",
        "    activation='relu',\n",
        "    kernel_initializer='he_normal'\n",
        ")"
      ],
      "metadata": {
        "id": "IgpESKk075J_"
      },
      "execution_count": null,
      "outputs": []
    },
    {
      "cell_type": "code",
      "source": [
        "model=tf.keras.Sequential([\n",
        "    tf.keras.layers.Input(shape=(28,28,1)),\n",
        "    Conv2D(),\n",
        "    tf.keras.layers.MaxPool2D(),\n",
        "    Conv2D(filters=128),\n",
        "    Conv2D(filters=128),\n",
        "    tf.keras.layers.MaxPool2D(),\n",
        "    Conv2D(filters=256),\n",
        "    Conv2D(filters=256),\n",
        "    tf.keras.layers.MaxPool2D(),\n",
        "    tf.keras.layers.Flatten(),\n",
        "    tf.keras.layers.Dense(128, kernel_initializer='he_normal'),\n",
        "    tf.keras.layers.BatchNormalization(),\n",
        "    tf.keras.layers.Activation('relu'),\n",
        "    tf.keras.layers.Dense(64, kernel_initializer='he_normal'),\n",
        "    tf.keras.layers.BatchNormalization(),\n",
        "    tf.keras.layers.Activation('relu'),\n",
        "    tf.keras.layers.Dense(10, activation='softmax')\n",
        "\n",
        "\n",
        "])"
      ],
      "metadata": {
        "id": "DKPVTekk7yzj"
      },
      "execution_count": null,
      "outputs": []
    },
    {
      "cell_type": "code",
      "source": [
        "model.summary()"
      ],
      "metadata": {
        "id": "clI7cMmTEy4e"
      },
      "execution_count": null,
      "outputs": []
    },
    {
      "cell_type": "code",
      "source": [
        "model.compile(loss='sparse_categorical_crossentropy',\n",
        "              optimizer=tf.keras.optimizers.Nadam(learning_rate=1e-3),\n",
        "              metrics=['accuracy'])"
      ],
      "metadata": {
        "id": "qGBs-QB29fEt"
      },
      "execution_count": null,
      "outputs": []
    },
    {
      "cell_type": "code",
      "source": [
        "model.fit(X_train,y_train,epochs=10,validation_data=(X_valid,y_valid))"
      ],
      "metadata": {
        "id": "1z3a74HJ9vh_"
      },
      "execution_count": null,
      "outputs": []
    },
    {
      "cell_type": "code",
      "source": [
        "import numpy as np\n",
        "X_train = np.expand_dims(X_train, axis = -1)\n",
        "X_valid = np.expand_dims(X_valid, axis = -1)"
      ],
      "metadata": {
        "id": "K8wz-ZZTL16y"
      },
      "execution_count": null,
      "outputs": []
    },
    {
      "cell_type": "code",
      "source": [
        "model1=tf.keras.Sequential([\n",
        "    tf.keras.layers.Input(shape=(28,28, 1)),\n",
        "    Conv2D(),\n",
        "    tf.keras.layers.MaxPool2D(),\n",
        "    Conv2D(filters=128),\n",
        "    Conv2D(filters=128),\n",
        "    tf.keras.layers.MaxPool2D(),\n",
        "    Conv2D(filters=256),\n",
        "    Conv2D(filters=256),\n",
        "    tf.keras.layers.MaxPool2D(),\n",
        "    tf.keras.layers.Flatten(),\n",
        "    tf.keras.layers.Dense(128,kernel_initializer='he_normal'),\n",
        "    tf.keras.layers.BatchNormalization(),\n",
        "    tf.keras.layers.Activation('relu'),\n",
        "    tf.keras.layers.Dropout(0.2),\n",
        "    tf.keras.layers.Dense(64,kernel_initializer='he_normal'),\n",
        "    tf.keras.layers.BatchNormalization(),\n",
        "    tf.keras.layers.Activation('relu'),\n",
        "    tf.keras.layers.Dropout(0.2),\n",
        "    tf.keras.layers.Dense(10,activation='softmax')\n",
        "])\n",
        "\n"
      ],
      "metadata": {
        "id": "1skyl0GhBpNf"
      },
      "execution_count": null,
      "outputs": []
    },
    {
      "cell_type": "code",
      "source": [
        "tf.keras.backend.clear_session()\n",
        "class MonteCarlo(tf.keras.layers.Dropout):\n",
        "  def call(self,inputs):\n",
        "    return super().call(inputs,training=True)\n",
        "Dropout=tf.keras.layers.Dropout\n",
        "mc_model=tf.keras.Sequential([\n",
        "    MonteCarlo(layer.rate) if isinstance(layer,Dropout) else layer for layer in model1.layers\n",
        "])\n",
        "\n",
        "mc_model.set_weights(model1.get_weights())\n",
        "\n",
        "\n",
        "mc_model.summary()"
      ],
      "metadata": {
        "id": "jni0HKwsBo-p"
      },
      "execution_count": null,
      "outputs": []
    },
    {
      "cell_type": "code",
      "source": [
        "mc_model.compile(loss='sparse_categorical_crossentropy',\n",
        "                 optimizer=tf.keras.optimizers.SGD(learning_rate=1e-3,momentum=0.9,nesterov=True),\n",
        "                 metrics=['accuracy'])"
      ],
      "metadata": {
        "id": "VpTXtgrvDmYn"
      },
      "execution_count": null,
      "outputs": []
    },
    {
      "cell_type": "code",
      "source": [
        "mc_model.fit(X_train,y_train, epochs=7, validation_data=(X_valid,y_valid))"
      ],
      "metadata": {
        "id": "MlNcDyKuD3Lw"
      },
      "execution_count": null,
      "outputs": []
    },
    {
      "cell_type": "code",
      "source": [
        "from functools import partial\n",
        "defaulConv2D=partial(tf.keras.layers.Conv2d,kernel_size=3, strides=1,padding='same',\n",
        "                     kernel_initializer='he_normal', use_bias=False)\n",
        "\n",
        "class Residual(tf.keras.layers.Layer):\n",
        "  def __init__(self,filters,strides,**kwargs):\n",
        "    super().__init__(**kwargs)\n",
        "    self.activation=tf.keras.activations.get(activation)\n",
        "    self.main_layer=[\n",
        "        defaulConv2D(filters,strides=strides),\n",
        "        tf.keras.layers.BatchNormalization(),\n",
        "        self.activation,\n",
        "        defaulConv2D(filters),\n",
        "        tf.keras.layers.BatchNormalization()\n",
        "    ]\n",
        "\n",
        "    self.skip_layer=[]\n",
        "    if strides>1:\n",
        "      self.skip_layer=[\n",
        "          defaulConv2D(filters,kernel_size=1,strides=strides),\n",
        "          tf.keras.layers.BatchNormalization()\n",
        "      ]\n",
        "\n",
        "\n",
        "    def call(self,inputs):\n",
        "      Z=inputs\n",
        "      for layer in self.main_layer:\n",
        "        Z=layer(Z)\n",
        "      skip_Z=inputs\n",
        "      for layer in self.skip_layer:\n",
        "        skip_Z=layer(skip_Z)\n",
        "      return self.activation(Z+skip_Z)\n",
        "\n"
      ],
      "metadata": {
        "id": "_68WiFj6X5pf"
      },
      "execution_count": null,
      "outputs": []
    },
    {
      "cell_type": "code",
      "source": [],
      "metadata": {
        "id": "XhQ1inMuX5mM"
      },
      "execution_count": null,
      "outputs": []
    },
    {
      "cell_type": "code",
      "source": [],
      "metadata": {
        "id": "qxZoCUVhgpEI"
      },
      "execution_count": null,
      "outputs": []
    },
    {
      "cell_type": "code",
      "source": [
        "class Monte_Carlo(tf.keras.layers.Dropout):\n",
        "  def__init__(self,inputs,training=True):\n",
        "    return super().call(inputs, training=True)\n",
        "Dropout=tf.keras.layers.Dropout\n",
        "mc_model=tf.keras.Sequential([\n",
        "    Monte_Carlo(layer.rate) if isinstance(layer,Dropout) else layer for layer in model.layers\n",
        "])\n",
        "\n",
        "mc_model.set_weights(model.get_weights())"
      ],
      "metadata": {
        "id": "j0Msv7g8gpAx"
      },
      "execution_count": null,
      "outputs": []
    }
  ]
}