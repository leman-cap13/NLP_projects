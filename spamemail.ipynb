{
  "nbformat": 4,
  "nbformat_minor": 0,
  "metadata": {
    "colab": {
      "provenance": [],
      "include_colab_link": true
    },
    "kernelspec": {
      "name": "python3",
      "display_name": "Python 3"
    },
    "language_info": {
      "name": "python"
    }
  },
  "cells": [
    {
      "cell_type": "markdown",
      "metadata": {
        "id": "view-in-github",
        "colab_type": "text"
      },
      "source": [
        "<a href=\"https://colab.research.google.com/github/leman-cap13/my_projects/blob/main/spamemail.ipynb\" target=\"_parent\"><img src=\"https://colab.research.google.com/assets/colab-badge.svg\" alt=\"Open In Colab\"/></a>"
      ]
    },
    {
      "cell_type": "code",
      "execution_count": null,
      "metadata": {
        "id": "g0rbx6zB1FoP"
      },
      "outputs": [],
      "source": [
        "import numpy as np\n",
        "import pandas as pd\n",
        "import matplotlib.pyplot as plt"
      ]
    },
    {
      "cell_type": "code",
      "source": [
        "!kaggle datasets download zeeshanyounas001/email-spam-detection"
      ],
      "metadata": {
        "id": "Tdkk5gOc5pb4"
      },
      "execution_count": null,
      "outputs": []
    },
    {
      "cell_type": "code",
      "source": [
        "!unzip /content/email-spam-detection.zip"
      ],
      "metadata": {
        "id": "IJmNUOSW5z6h"
      },
      "execution_count": null,
      "outputs": []
    },
    {
      "cell_type": "code",
      "source": [
        "df=pd.read_csv('/content/spam mail.csv')\n",
        "df"
      ],
      "metadata": {
        "id": "ASUbQKJ76WwD"
      },
      "execution_count": null,
      "outputs": []
    },
    {
      "cell_type": "code",
      "source": [
        "df.info()"
      ],
      "metadata": {
        "id": "Os93OsBW6ofI"
      },
      "execution_count": null,
      "outputs": []
    },
    {
      "cell_type": "code",
      "source": [
        "df.isna().sum()"
      ],
      "metadata": {
        "id": "jjE8FB6E7AwB"
      },
      "execution_count": null,
      "outputs": []
    },
    {
      "cell_type": "code",
      "source": [
        "df.columns"
      ],
      "metadata": {
        "id": "xMFNRBgV7C-v"
      },
      "execution_count": null,
      "outputs": []
    },
    {
      "cell_type": "code",
      "source": [
        "X=df['Masseges']\n",
        "X"
      ],
      "metadata": {
        "id": "tHNK6RCEF5Gx"
      },
      "execution_count": null,
      "outputs": []
    },
    {
      "cell_type": "code",
      "source": [
        "y=df['Category']\n",
        "y"
      ],
      "metadata": {
        "id": "eJ9fskciGBf9"
      },
      "execution_count": null,
      "outputs": []
    },
    {
      "cell_type": "code",
      "source": [
        "y.value_counts()"
      ],
      "metadata": {
        "id": "st_mx2c5ZKul"
      },
      "execution_count": null,
      "outputs": []
    },
    {
      "cell_type": "code",
      "source": [
        "from sklearn.preprocessing import LabelEncoder\n",
        "encode=LabelEncoder()\n",
        "\n",
        "y=encode.fit_transform(y)\n",
        "y"
      ],
      "metadata": {
        "id": "YASBnlqNFcEb"
      },
      "execution_count": null,
      "outputs": []
    },
    {
      "cell_type": "code",
      "source": [
        "y.astype('int')"
      ],
      "metadata": {
        "id": "OCvZf7JaGSMZ"
      },
      "execution_count": null,
      "outputs": []
    },
    {
      "cell_type": "code",
      "source": [
        "y=pd.DataFrame(y)\n",
        "y"
      ],
      "metadata": {
        "id": "S-roBtIMGXYj"
      },
      "execution_count": null,
      "outputs": []
    },
    {
      "cell_type": "code",
      "source": [
        "y.dtypes"
      ],
      "metadata": {
        "id": "FrbWtILDGZPl"
      },
      "execution_count": null,
      "outputs": []
    },
    {
      "cell_type": "code",
      "source": [
        "from sklearn.model_selection import train_test_split\n",
        "X_train,X_test,y_train,y_test=train_test_split(X,y,test_size=0.2,random_state=13)"
      ],
      "metadata": {
        "id": "E6RNYpIGGhfj"
      },
      "execution_count": null,
      "outputs": []
    },
    {
      "cell_type": "code",
      "source": [
        "X_train.shape"
      ],
      "metadata": {
        "id": "-Ce7LHcIG_GM"
      },
      "execution_count": null,
      "outputs": []
    },
    {
      "cell_type": "code",
      "source": [
        "y_train.shape"
      ],
      "metadata": {
        "id": "LqkVPuFGHAs0"
      },
      "execution_count": null,
      "outputs": []
    },
    {
      "cell_type": "code",
      "source": [
        "from sklearn.feature_extraction.text import TfidfVectorizer\n",
        "feature_ext=TfidfVectorizer(min_df=1,stop_words='english',lowercase=True)"
      ],
      "metadata": {
        "id": "YJztjrleHE9x"
      },
      "execution_count": null,
      "outputs": []
    },
    {
      "cell_type": "code",
      "source": [
        "X_train_feature=feature_ext.fit_transform(X_train)\n",
        "X_test_feature=feature_ext.transform(X_test)"
      ],
      "metadata": {
        "id": "MTQdMJ9YHmTk"
      },
      "execution_count": null,
      "outputs": []
    },
    {
      "cell_type": "code",
      "source": [
        "X_train_feature"
      ],
      "metadata": {
        "id": "uDJsNMWQIjHH"
      },
      "execution_count": null,
      "outputs": []
    },
    {
      "cell_type": "code",
      "source": [
        "from sklearn.linear_model import LogisticRegression\n",
        "model=LogisticRegression(class_weight='balanced',random_state=13)"
      ],
      "metadata": {
        "id": "8LBIfTlkIlIu"
      },
      "execution_count": null,
      "outputs": []
    },
    {
      "cell_type": "code",
      "source": [
        "model.fit(X_train_feature,y_train)"
      ],
      "metadata": {
        "id": "saay3xY3JFbF"
      },
      "execution_count": null,
      "outputs": []
    },
    {
      "cell_type": "code",
      "source": [
        "y_pred=model.predict(X_test_feature)\n",
        "y_pred"
      ],
      "metadata": {
        "id": "dtVbFixDJK3b"
      },
      "execution_count": null,
      "outputs": []
    },
    {
      "cell_type": "code",
      "source": [
        "model.score(X_train_feature,y_train)"
      ],
      "metadata": {
        "id": "8Q07whcDJnpI"
      },
      "execution_count": null,
      "outputs": []
    },
    {
      "cell_type": "code",
      "source": [
        "model.score(X_test_feature,y_test)"
      ],
      "metadata": {
        "id": "TSj25Ji_JsHN"
      },
      "execution_count": null,
      "outputs": []
    },
    {
      "cell_type": "code",
      "source": [
        "model.predict(X_test_feature[20])[0]"
      ],
      "metadata": {
        "id": "DFuKMiVVJkTz"
      },
      "execution_count": null,
      "outputs": []
    },
    {
      "cell_type": "code",
      "source": [
        "y_test.iloc[20]"
      ],
      "metadata": {
        "id": "jZVcSm2HJ8-Q"
      },
      "execution_count": null,
      "outputs": []
    },
    {
      "cell_type": "code",
      "source": [
        "input=[\"XJS*C4JDBQADN1.NSBN3*2IDNEN*GTUBE-STANDARD-ANTI-UBE-TEST-EMAIL*C.34X\"]\n",
        "input_ext=feature_ext.transform(input)\n",
        "prediction=model.predict(input_ext)\n",
        "prediction"
      ],
      "metadata": {
        "id": "LTRbZ5n2J_zb"
      },
      "execution_count": null,
      "outputs": []
    },
    {
      "cell_type": "code",
      "source": [
        "prediction_label = encode.inverse_transform(prediction)\n",
        "prediction_label"
      ],
      "metadata": {
        "id": "MLgWp3YUM-Ev"
      },
      "execution_count": null,
      "outputs": []
    },
    {
      "cell_type": "code",
      "source": [
        "pd.DataFrame(model.predict(X_test_feature)).value_counts()"
      ],
      "metadata": {
        "id": "-R0PQJR2Qoc8"
      },
      "execution_count": null,
      "outputs": []
    },
    {
      "cell_type": "code",
      "source": [
        "from sklearn.naive_bayes import MultinomialNB"
      ],
      "metadata": {
        "id": "LxxYQPIIiO9s"
      },
      "execution_count": null,
      "outputs": []
    },
    {
      "cell_type": "code",
      "source": [
        "estimator=MultinomialNB()"
      ],
      "metadata": {
        "id": "3xowyHWBZkTx"
      },
      "execution_count": null,
      "outputs": []
    },
    {
      "cell_type": "code",
      "source": [
        "estimator.fit(X_train_feature, y_train)"
      ],
      "metadata": {
        "id": "CSpK5vf7iSVh"
      },
      "execution_count": null,
      "outputs": []
    },
    {
      "cell_type": "code",
      "source": [
        "y_prediction = estimator.predict(X_test_feature)"
      ],
      "metadata": {
        "id": "XI7aM6zcifBE"
      },
      "execution_count": null,
      "outputs": []
    },
    {
      "cell_type": "code",
      "source": [
        "estimator.score(X_test_feature,y_test)"
      ],
      "metadata": {
        "id": "jbi7yJkPim8F"
      },
      "execution_count": null,
      "outputs": []
    },
    {
      "cell_type": "code",
      "source": [
        "from sklearn.metrics import accuracy_score"
      ],
      "metadata": {
        "id": "SDvalCZIi46b"
      },
      "execution_count": null,
      "outputs": []
    },
    {
      "cell_type": "code",
      "source": [
        "accuracy_score(y_test, y_prediction)"
      ],
      "metadata": {
        "id": "rqFIo_A9iwAA"
      },
      "execution_count": null,
      "outputs": []
    },
    {
      "cell_type": "code",
      "source": [
        "new_email = [\"Congratulations, you've won a $1000 gift card! Click here to claim your prize.\"]\n",
        "new_email_ext = feature_ext.transform(new_email)\n",
        "prediction = estimator.predict(new_email_ext)\n",
        "prediction"
      ],
      "metadata": {
        "id": "ESSzNVeSi6Zy"
      },
      "execution_count": null,
      "outputs": []
    },
    {
      "cell_type": "code",
      "source": [
        "print(\"Prediction for new email:\", \"Spam\" if prediction[0] == 1 else \"Ham\")"
      ],
      "metadata": {
        "id": "ZQp1LcpsjXXr"
      },
      "execution_count": null,
      "outputs": []
    },
    {
      "cell_type": "code",
      "source": [],
      "metadata": {
        "id": "p6jmmmgBjcNy"
      },
      "execution_count": null,
      "outputs": []
    }
  ]
}