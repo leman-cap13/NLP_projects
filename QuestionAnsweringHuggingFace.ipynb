{
  "nbformat": 4,
  "nbformat_minor": 0,
  "metadata": {
    "colab": {
      "provenance": [],
      "gpuType": "T4",
      "authorship_tag": "ABX9TyPlrkVoF/xQtE8WRKzSOmll",
      "include_colab_link": true
    },
    "kernelspec": {
      "name": "python3",
      "display_name": "Python 3"
    },
    "language_info": {
      "name": "python"
    },
    "accelerator": "GPU"
  },
  "cells": [
    {
      "cell_type": "markdown",
      "metadata": {
        "id": "view-in-github",
        "colab_type": "text"
      },
      "source": [
        "<a href=\"https://colab.research.google.com/github/leman-cap13/NLP_projects/blob/main/QuestionAnsweringHuggingFace.ipynb\" target=\"_parent\"><img src=\"https://colab.research.google.com/assets/colab-badge.svg\" alt=\"Open In Colab\"/></a>"
      ]
    },
    {
      "cell_type": "code",
      "execution_count": null,
      "metadata": {
        "id": "GFuaWbevDuBO"
      },
      "outputs": [],
      "source": [
        "!pip install datasets -q --upgrade"
      ]
    },
    {
      "cell_type": "code",
      "source": [
        "from datasets import load_dataset\n",
        "raw_datasets=load_dataset('squad')"
      ],
      "metadata": {
        "id": "aioXMAyhD5MY"
      },
      "execution_count": null,
      "outputs": []
    },
    {
      "cell_type": "code",
      "source": [
        "raw_datasets"
      ],
      "metadata": {
        "id": "_cx3eThaEBMr"
      },
      "execution_count": null,
      "outputs": []
    },
    {
      "cell_type": "code",
      "source": [
        "print('Context:' , raw_datasets['train'][0]['context'])\n",
        "print('Question:' , raw_datasets['train'][0]['question'])\n",
        "print('Answer:' , raw_datasets['train'][0]['answers'])"
      ],
      "metadata": {
        "id": "wS_uVKptECup"
      },
      "execution_count": null,
      "outputs": []
    },
    {
      "cell_type": "code",
      "source": [
        "from transformers import AutoTokenizer\n",
        "\n",
        "model_checkpoint='bert-base-cased'\n",
        "tokenizer=AutoTokenizer.from_pretrained(model_checkpoint)"
      ],
      "metadata": {
        "id": "k3xQrfv-EL43"
      },
      "execution_count": null,
      "outputs": []
    },
    {
      "cell_type": "code",
      "source": [
        "context=raw_datasets['train'][0]['context']\n",
        "question=raw_datasets['train'][0]['question']\n",
        "inputs=tokenizer(question,context)\n",
        "tokenizer.decode(inputs['input_ids'])"
      ],
      "metadata": {
        "id": "0cKe20vDFCv0"
      },
      "execution_count": null,
      "outputs": []
    },
    {
      "cell_type": "code",
      "source": [
        "# her model ikili tokenizer i qebul etmir bert ve onun modelleri qebul edir iki input vermek olur tokenizer ucun"
      ],
      "metadata": {
        "id": "Ubj621uHFCsn"
      },
      "execution_count": null,
      "outputs": []
    },
    {
      "cell_type": "code",
      "source": [
        "tokenizer.is_fast"
      ],
      "metadata": {
        "id": "G7m5EUC7GNrM"
      },
      "execution_count": null,
      "outputs": []
    },
    {
      "cell_type": "code",
      "source": [
        "inputs=tokenizer(\n",
        "    question,\n",
        "    context,\n",
        "    max_length=100,\n",
        "    truncation='only_second',\n",
        "    stride=50,\n",
        "    return_overflowing_tokens=True\n",
        ")"
      ],
      "metadata": {
        "id": "SfyIBxXYGNoB"
      },
      "execution_count": null,
      "outputs": []
    },
    {
      "cell_type": "code",
      "source": [
        "#truncation='only_second', only context hisseni truncate et question yox"
      ],
      "metadata": {
        "id": "7wARk7wfGSD9"
      },
      "execution_count": null,
      "outputs": []
    },
    {
      "cell_type": "code",
      "source": [
        "for ids in inputs['input_ids']:\n",
        "  print(tokenizer.decode(ids))"
      ],
      "metadata": {
        "id": "S7sx8WIjGSAk"
      },
      "execution_count": null,
      "outputs": []
    },
    {
      "cell_type": "code",
      "source": [
        "inputs=tokenizer(\n",
        "    question,\n",
        "    context,\n",
        "    max_length=100,\n",
        "    truncation='only_second',\n",
        "    stride=50,\n",
        "    return_overflowing_tokens=True,\n",
        "    return_offsets_mapping=True\n",
        "\n",
        ")\n",
        "\n",
        "inputs\n"
      ],
      "metadata": {
        "id": "GJlRbTkhG6pj"
      },
      "execution_count": null,
      "outputs": []
    },
    {
      "cell_type": "code",
      "source": [
        "inputs=tokenizer(\n",
        "    raw_datasets['train'][2:6]['question'],\n",
        "    raw_datasets['train'][2:6]['context'],\n",
        "    max_length=100,\n",
        "    truncation='only_second',\n",
        "    stride=50,\n",
        "    return_overflowing_tokens=True,\n",
        "    return_offsets_mapping=True\n",
        ")\n",
        "\n",
        "print(f\"The  4 examples gave { len(inputs['input_ids'])} features.\")\n",
        "print(f\"Here is where each comes from: {inputs['overflow_to_sample_mapping']}\")"
      ],
      "metadata": {
        "id": "vwm5tRdAG6l-"
      },
      "execution_count": null,
      "outputs": []
    },
    {
      "cell_type": "code",
      "source": [
        "answers=raw_datasets['train'][2:6]['answers']\n",
        "start_positions=[]\n",
        "end_positions=[]\n",
        "\n",
        "for i, offset in enumerate(inputs['offset_mapping']):\n",
        "  sample_idx=inputs['overflow_to_sample_mapping'][i]\n",
        "  answer=answers[sample_idx]\n",
        "  start_char=answer['answer_start'][0]\n",
        "  end_char=answer['answer_start'][0] + len(answer['text'][0])\n",
        "  sequence_ids=inputs.sequence_ids(i)\n",
        "\n",
        "  idx=0\n",
        "  while sequence_ids[idx] !=1:\n",
        "    idx+=1\n",
        "  context_start=idx\n",
        "  while sequence_ids[idx]==1:\n",
        "    idx+=1\n",
        "  context_end=idx-1\n",
        "\n",
        "  if offset[context_start][0] > start_char or offset[context_end][1] < end_char:\n",
        "    start_positions.append(0)\n",
        "    end_positions.append(0)\n",
        "  else:\n",
        "    idx=context_start\n",
        "    while idx <= context_end and offset[idx][0] <= start_char:\n",
        "      idx+=1\n",
        "    start_positions.append(idx-1)\n",
        "\n",
        "    idx=context_end\n",
        "    while idx> context_start and offset[idx][1] >= end_char:\n",
        "      idx-=1\n",
        "    end_positions.append(idx+1)\n",
        "\n",
        "\n",
        "start_positions, end_positions"
      ],
      "metadata": {
        "id": "VVJfnt7NHUnp"
      },
      "execution_count": null,
      "outputs": []
    },
    {
      "cell_type": "code",
      "source": [
        "print(sequence_ids)"
      ],
      "metadata": {
        "id": "L28Uvv-4HUkP"
      },
      "execution_count": null,
      "outputs": []
    },
    {
      "cell_type": "code",
      "source": [
        "#none special token oldugunu gosterir sual 0 cavab 1"
      ],
      "metadata": {
        "id": "q0B6HqslJgFd"
      },
      "execution_count": null,
      "outputs": []
    },
    {
      "cell_type": "code",
      "source": [
        "idx=0\n",
        "sample_idx=inputs['overflow_to_sample_mapping'][idx]\n",
        "answer=answers[sample_idx]['text'][0]\n",
        "\n",
        "start=start_positions[0]\n",
        "end = end_positions[idx]\n",
        "labeled_answer=tokenizer.decode(inputs['input_ids'][idx][start: end+1])\n",
        "\n",
        "print(raw_datasets['train']['question'][2])\n",
        "\n",
        "print(f\"Theoretical answer : {answer}, labels give : {labeled_answer}\")"
      ],
      "metadata": {
        "id": "Xr55_Og6JgCH"
      },
      "execution_count": null,
      "outputs": []
    },
    {
      "cell_type": "code",
      "source": [
        "idx=4\n",
        "sample_idx=inputs['overflow_to_sample_mapping'][idx]\n",
        "answer=answers[sample_idx]['text'][0]\n",
        "\n",
        "decoded_example=tokenizer.decode(inputs['input_ids'][idx])\n",
        "\n",
        "print(f\"Theoretical answer : {answer}, decoded example : {decoded_example}\")"
      ],
      "metadata": {
        "id": "3MuO9WNlOqa2"
      },
      "execution_count": null,
      "outputs": []
    },
    {
      "cell_type": "code",
      "source": [
        "max_length=384\n",
        "stride=128\n",
        "\n",
        "def preprocess_training_example(examples):\n",
        "  questions=[q.strip() for q in examples['question']]\n",
        "  inputs=tokenizer(\n",
        "      questions,\n",
        "      examples['context'],\n",
        "      max_length=max_length,\n",
        "      truncation='only_second',\n",
        "      stride=stride,\n",
        "      return_overflowing_tokens=True,\n",
        "      return_offsets_mapping=True,\n",
        "      padding='max_length'\n",
        "  )\n",
        "  offset_mapping=inputs.pop('offset_mapping')\n",
        "  sample_map=inputs.pop('overflow_to_sample_mapping')\n",
        "  answers=examples['answers']\n",
        "  start_positions=[]\n",
        "  end_positions=[]\n",
        "\n",
        "\n",
        "  for i, offset in enumerate(offset_mapping):\n",
        "    sample_idx=sample_map[i]\n",
        "    answer=answers[sample_idx]\n",
        "    start_char=answer['answer_start'][0]\n",
        "    end_char=answer['answer_start'][0] + len(answer['text'][0])\n",
        "    sequence_ids=inputs.sequence_ids(i)\n",
        "\n",
        "    idx=0\n",
        "    while sequence_ids[idx]!=1:\n",
        "      idx+=1\n",
        "    context_start=idx\n",
        "    while sequence_ids[idx]==1:\n",
        "      idx+=1\n",
        "    context_end=idx-1\n",
        "\n",
        "    if offset[context_start][0]> start_char or offset[context_end][1] < end_char:\n",
        "      start_positions.append(0)\n",
        "      end_positions.append(0)\n",
        "    else:\n",
        "      idx=context_start\n",
        "      while idx <= context_end and offset[idx][0] <= start_char:\n",
        "        idx+=1\n",
        "      start_positions.append(idx-1)\n",
        "\n",
        "      idx=context_end\n",
        "      while idx>= context_start and offset[idx][1] >= end_char:\n",
        "        idx-=1\n",
        "      end_positions.append(idx+1)\n",
        "  inputs['start_positions']=start_positions\n",
        "  inputs['end_positions']=end_positions\n",
        "  return inputs"
      ],
      "metadata": {
        "id": "3t5Q-28pOqXY"
      },
      "execution_count": null,
      "outputs": []
    },
    {
      "cell_type": "code",
      "source": [
        "train_dataset=raw_datasets['train'].map(\n",
        "    preprocess_training_example,\n",
        "    batched=True,\n",
        "    remove_columns=raw_datasets['train'].column_names\n",
        ")\n",
        "\n",
        "len(raw_datasets['train']), len(train_dataset)"
      ],
      "metadata": {
        "id": "Jd3zg-dWOqU7"
      },
      "execution_count": null,
      "outputs": []
    },
    {
      "cell_type": "code",
      "source": [
        "def preprocess_validation_example(examples):\n",
        "  questions=[q.strip() for q in examples['question']]\n",
        "  inputs=tokenizer(\n",
        "      questions,\n",
        "      examples['context'],\n",
        "      max_length=max_length,\n",
        "      truncation='only_second',\n",
        "      stride=stride,\n",
        "      return_overflowing_tokens=True,\n",
        "      return_offsets_mapping=True,\n",
        "      padding='max_length'\n",
        "\n",
        "  )\n",
        "  sample_map=inputs.pop('overflow_to_sample_mapping')\n",
        "  example_ids=[]\n",
        "\n",
        "  for i in range(len(inputs['input_ids'])):\n",
        "    sample_idx=sample_map[i]\n",
        "    example_ids.append(examples['id'][sample_idx])\n",
        "\n",
        "    sequence_ids=inputs.sequence_ids(i)\n",
        "    offset=inputs['offset_mapping'][i]\n",
        "    inputs['offset_mapping'][i]= [\n",
        "        o if sequence_ids[k]==1 else None for k,o in enumerate(offset)\n",
        "    ]\n",
        "  inputs['example_id'] = example_ids\n",
        "  return inputs\n"
      ],
      "metadata": {
        "id": "thoO57kTU3eK"
      },
      "execution_count": null,
      "outputs": []
    },
    {
      "cell_type": "code",
      "source": [
        "validation_dataset=raw_datasets['validation'].map(\n",
        "    preprocess_validation_example,\n",
        "    batched=True,\n",
        "    remove_columns=raw_datasets['validation'].column_names\n",
        ")\n",
        "len(raw_datasets['validation']), len(validation_dataset)"
      ],
      "metadata": {
        "id": "Tu5THimZU3a3"
      },
      "execution_count": null,
      "outputs": []
    },
    {
      "cell_type": "code",
      "source": [
        "# we dont do same thing fo train and validation dataset because for validation dataset we dont need to seperate start end position?"
      ],
      "metadata": {
        "id": "2RtU_ca6WwUz"
      },
      "execution_count": null,
      "outputs": []
    },
    {
      "cell_type": "code",
      "source": [
        "validation_dataset"
      ],
      "metadata": {
        "id": "Pa8BfiCmWwRe"
      },
      "execution_count": null,
      "outputs": []
    },
    {
      "cell_type": "code",
      "source": [
        "train_dataset"
      ],
      "metadata": {
        "id": "IjRZrS5BW3Cp"
      },
      "execution_count": null,
      "outputs": []
    },
    {
      "cell_type": "code",
      "source": [
        "small_eval_set=raw_datasets['validation'].select(range(100))\n",
        "trained_checkpoint='distilbert-base-cased-distilled-squad'\n",
        "\n",
        "tokenizer=AutoTokenizer.from_pretrained(trained_checkpoint)\n",
        "eval_set=small_eval_set.map(\n",
        "    preprocess_validation_example,\n",
        "    batched=True,\n",
        "    remove_columns=raw_datasets['validation'].column_names\n",
        ")\n",
        "\n"
      ],
      "metadata": {
        "id": "uR5pPvUWW2_J"
      },
      "execution_count": null,
      "outputs": []
    },
    {
      "cell_type": "code",
      "source": [
        "import torch\n",
        "from transformers import AutoTokenizer,AutoModelForQuestionAnswering\n",
        "\n",
        "\n",
        "eval_set_for_model=eval_set.remove_columns(['example_id','offset_mapping'])\n",
        "eval_set_for_model.set_format('torch')\n",
        "\n",
        "device=torch.device('cuda') if torch.cuda.is_available() else torch.device('cpu')\n",
        "batch={k:eval_set_for_model[k].to(device) for k in eval_set_for_model.column_names}\n",
        "trained_model=AutoModelForQuestionAnswering.from_pretrained(trained_checkpoint).to(device)\n",
        "\n",
        "\n",
        "with torch.no_grad():\n",
        "  outputs=trained_model(**batch)\n"
      ],
      "metadata": {
        "id": "ilNveSQhbEB2"
      },
      "execution_count": null,
      "outputs": []
    },
    {
      "cell_type": "code",
      "source": [
        "start_logits=outputs.start_logits.cpu().numpy()\n",
        "end_logits=outputs.end_logits.cpu().numpy()"
      ],
      "metadata": {
        "id": "vtCFgZ8Fa_R-"
      },
      "execution_count": null,
      "outputs": []
    },
    {
      "cell_type": "code",
      "source": [
        "start_logits"
      ],
      "metadata": {
        "id": "tzCFDmDpa_O3"
      },
      "execution_count": null,
      "outputs": []
    },
    {
      "cell_type": "code",
      "source": [
        "end_logits"
      ],
      "metadata": {
        "id": "_VSZw1vkcPty"
      },
      "execution_count": null,
      "outputs": []
    },
    {
      "cell_type": "code",
      "source": [
        "start_logits.shape, end_logits.shape"
      ],
      "metadata": {
        "id": "4mCmZO4hcSsU"
      },
      "execution_count": null,
      "outputs": []
    },
    {
      "cell_type": "code",
      "source": [
        "outputs"
      ],
      "metadata": {
        "id": "dp5y_ew-cdFr"
      },
      "execution_count": null,
      "outputs": []
    },
    {
      "cell_type": "code",
      "source": [
        "import collections\n",
        "\n",
        "example_to_features=collections.defaultdict(list)\n",
        "for idx, feature in enumerate(eval_set):\n",
        "  example_to_features[feature['example_id']].append(idx)"
      ],
      "metadata": {
        "id": "snUa0AK8dQ-t"
      },
      "execution_count": null,
      "outputs": []
    },
    {
      "cell_type": "code",
      "source": [
        "example_to_features  # id si verilen sualin cavabi bu contextde yerlesir"
      ],
      "metadata": {
        "id": "OcmT9xkPg9Rb"
      },
      "execution_count": null,
      "outputs": []
    },
    {
      "cell_type": "code",
      "source": [
        "# import numpy as np\n",
        "\n",
        "# n_best=20\n",
        "# max_answer_length=30\n",
        "# predicted_answers=[]\n",
        "\n",
        "\n",
        "# for example in small_eval_set:\n",
        "#   example_id=example['id']\n",
        "#   context=example['context']\n",
        "#   answer=[]\n",
        "\n",
        "#   for feature_index in example_to_features[example_id]:\n",
        "#     start_logit=start_logits[feature_index]\n",
        "#     end_logit=end_logits[feature_index]\n",
        "#     offsets=eval_set['offset_mapping'][feature_index]\n",
        "\n",
        "#     start_indexes=np.argsort(start_logit)[-1: -n_best -1:-1].tolist()\n",
        "#     end_indexes=np.argsort(end_logit)[-1: -n_best -1:-1].tolist()\n",
        "#     for start_index in start_indexes:\n",
        "#       for end_index in end_indexes:\n",
        "#         if offsets[start_index] is None or offsets[end_index] is None:\n",
        "#           continue\n",
        "#         if end_index< start_index or end_index- start_index +1> max_answer_length:\n",
        "#           continue\n",
        "\n",
        "#         answers.append({\n",
        "#             'text': context[offsets[start_index][0]: offsets[end_index][1]],\n",
        "#             'logit_score': start_logit[start_index] + end_logit[end_index]\n",
        "#         })\n",
        "#     best_answer=max(answers, key=lambda x: x['logit_score'])\n",
        "#     predicted_answers.append({'id': example_id, 'prediction_text': best_answer['text']})\n",
        "\n"
      ],
      "metadata": {
        "id": "OooOC-kzg9OL"
      },
      "execution_count": null,
      "outputs": []
    },
    {
      "cell_type": "code",
      "source": [
        "import numpy as np\n",
        "\n",
        "n_best = 20\n",
        "max_answer_length = 30\n",
        "predicted_answers = []\n",
        "\n",
        "for example in small_eval_set:\n",
        "    example_id = example['id']\n",
        "    context = example['context']\n",
        "    answers = []\n",
        "\n",
        "    for feature_index in example_to_features[example_id]:\n",
        "        start_logit = start_logits[feature_index]\n",
        "        end_logit = end_logits[feature_index]\n",
        "        offsets = eval_set['offset_mapping'][feature_index]\n",
        "\n",
        "        start_indexes = np.argsort(start_logit)[-1: -n_best - 1: -1].tolist()\n",
        "        end_indexes = np.argsort(end_logit)[-1: -n_best - 1: -1].tolist()\n",
        "        for start_index in start_indexes:\n",
        "            for end_index in end_indexes:\n",
        "                if offsets[start_index] is None or offsets[end_index] is None:\n",
        "                    continue\n",
        "                if end_index < start_index or end_index - start_index + 1 > max_answer_length:\n",
        "                    continue\n",
        "\n",
        "                answers.append({\n",
        "                    'text': context[offsets[start_index][0]: offsets[end_index][1]],\n",
        "                    'logit_score': start_logit[start_index] + end_logit[end_index]\n",
        "                })\n",
        "    if len(answers) == 0:\n",
        "        print(f\"[WARN] No valid spans for example_id={example_id}. Skipping.\")\n",
        "        continue\n",
        "\n",
        "    best_answer = max(answers, key=lambda x: x['logit_score'])\n",
        "    predicted_answers.append({'id': example_id, 'prediction_text': best_answer['text']})\n"
      ],
      "metadata": {
        "id": "QsKwkKhRhVp2"
      },
      "execution_count": null,
      "outputs": []
    },
    {
      "cell_type": "code",
      "source": [
        "!pip install evaluate"
      ],
      "metadata": {
        "id": "W_PcJJQYhVmN"
      },
      "execution_count": null,
      "outputs": []
    },
    {
      "cell_type": "code",
      "source": [
        "import evaluate\n",
        "\n",
        "metric=evaluate.load('squad')"
      ],
      "metadata": {
        "id": "FX0u4x51hVjj"
      },
      "execution_count": null,
      "outputs": []
    },
    {
      "cell_type": "code",
      "source": [
        "predicted_answers"
      ],
      "metadata": {
        "id": "4OIPh4GVlTOz"
      },
      "execution_count": null,
      "outputs": []
    },
    {
      "cell_type": "code",
      "source": [
        "theoretical_answers=[\n",
        "    {'id': ex['id'], 'answers': ex['answers']} for ex in small_eval_set\n",
        "]"
      ],
      "metadata": {
        "id": "aAk9SRvNlTLT"
      },
      "execution_count": null,
      "outputs": []
    },
    {
      "cell_type": "code",
      "source": [
        "print(theoretical_answers[0])\n",
        "print(predicted_answers[0])"
      ],
      "metadata": {
        "id": "qySHYzB-mNbB"
      },
      "execution_count": null,
      "outputs": []
    },
    {
      "cell_type": "code",
      "source": [
        "metric.compute(predictions=predicted_answers, references=theoretical_answers)"
      ],
      "metadata": {
        "id": "N8cnw5H2mQs8"
      },
      "execution_count": null,
      "outputs": []
    },
    {
      "cell_type": "code",
      "source": [
        "from tqdm.auto import tqdm\n",
        "\n",
        "def compute_metrics(start_logits, end_logits, features, examples):\n",
        "    example_to_features = collections.defaultdict(list)\n",
        "    for idx, feature in enumerate(features):\n",
        "        example_to_features[feature['example_id']].append(idx)\n",
        "\n",
        "    predicted_answers = []\n",
        "    for example in tqdm(examples):\n",
        "        example_id = example['id']\n",
        "        context = example['context']\n",
        "        answers = []\n",
        "\n",
        "        for feature_index in example_to_features[example_id]:\n",
        "            start_logit = start_logits[feature_index]\n",
        "            end_logit = end_logits[feature_index]\n",
        "            offsets = features[feature_index]['offset_mapping']\n",
        "\n",
        "            start_indexes = np.argsort(start_logit)[-1:-n_best: -1].tolist()\n",
        "            end_indexes = np.argsort(end_logit)[-1:-n_best: -1].tolist()\n",
        "\n",
        "            for start_index in start_indexes:\n",
        "                for end_index in end_indexes:\n",
        "                    if offsets[start_index] is None or offsets[end_index] is None:\n",
        "                        continue\n",
        "                    if end_index < start_index or end_index - start_index + 1 > max_answer_length:\n",
        "                        continue\n",
        "\n",
        "                    answer = {\n",
        "                        'text': context[offsets[start_index][0]: offsets[end_index][1]],\n",
        "                        'logit_score': start_logit[start_index] + end_logit[end_index]\n",
        "                    }\n",
        "                    answers.append(answer)\n",
        "\n",
        "        if len(answers) > 0:\n",
        "            best_answer = max(answers, key=lambda x: x['logit_score'])\n",
        "            predicted_answers.append({'id': example_id, 'prediction_text': best_answer['text']})\n",
        "        else:\n",
        "            predicted_answers.append({'id': example_id, 'prediction_text': ''})\n",
        "\n",
        "    theoritical_answers = [\n",
        "        {'id': ex['id'], 'answers': ex['answers']} for ex in examples\n",
        "    ]\n",
        "    return metric.compute(predictions=predicted_answers, references=theoritical_answers)\n"
      ],
      "metadata": {
        "id": "dK7YTYa6rAlt"
      },
      "execution_count": null,
      "outputs": []
    },
    {
      "cell_type": "code",
      "source": [
        "compute_metrics(start_logits, end_logits, eval_set, small_eval_set)"
      ],
      "metadata": {
        "id": "bncjRswVmf00"
      },
      "execution_count": null,
      "outputs": []
    },
    {
      "cell_type": "code",
      "source": [
        "model=AutoModelForQuestionAnswering.from_pretrained(trained_checkpoint)"
      ],
      "metadata": {
        "id": "-6vl8V3lmfxp"
      },
      "execution_count": null,
      "outputs": []
    },
    {
      "cell_type": "code",
      "source": [
        "from transformers import TrainingArguments, Trainer\n",
        "\n",
        "args=TrainingArguments(\n",
        "    'bert-finetuned-squad',\n",
        "    eval_strategy='no',\n",
        "    save_strategy='epoch',\n",
        "    learning_rate=2e-5,\n",
        "    num_train_epochs=3,\n",
        "    weight_decay=0.01,\n",
        "    fp16=True\n",
        ")"
      ],
      "metadata": {
        "id": "5MwaAF27mfvY"
      },
      "execution_count": null,
      "outputs": []
    },
    {
      "cell_type": "code",
      "source": [
        "trainer=Trainer(\n",
        "    model=model,\n",
        "    args=args,\n",
        "    train_dataset=train_dataset,\n",
        "    eval_dataset=validation_dataset,\n",
        "    processing_class=tokenizer\n",
        ")\n"
      ],
      "metadata": {
        "id": "_98so0cxrF_1"
      },
      "execution_count": null,
      "outputs": []
    },
    {
      "cell_type": "code",
      "source": [
        "# trainer.train()"
      ],
      "metadata": {
        "id": "JES3OzPVrfM0"
      },
      "execution_count": null,
      "outputs": []
    },
    {
      "cell_type": "code",
      "source": [
        "from torch.utils.data import DataLoader\n",
        "from transformers import default_data_collator\n",
        "\n",
        "\n",
        "train_dataset.set_format('torch')\n",
        "validation_set=validation_dataset.remove_columns(['example_id', \"offset_mapping\"])\n",
        "validation_set.set_format('torch')\n",
        "\n",
        "train_dataloader=DataLoader(\n",
        "    train_dataset,\n",
        "    shuffle=True,\n",
        "    collate_fn=default_data_collator,\n",
        "    batch_size=8\n",
        ")\n",
        "\n",
        "eval_dataloader=DataLoader(\n",
        "    validation_set,\n",
        "    collate_fn=default_data_collator,\n",
        "    batch_size=8\n",
        ")\n",
        "\n",
        "# Data loader ile batchlre ucun train eval ayrilir"
      ],
      "metadata": {
        "id": "i7Oq1LO8rfJW"
      },
      "execution_count": null,
      "outputs": []
    },
    {
      "cell_type": "code",
      "source": [
        "model=AutoModelForQuestionAnswering.from_pretrained(model_checkpoint)"
      ],
      "metadata": {
        "id": "DjeFiujjsb2b"
      },
      "execution_count": null,
      "outputs": []
    },
    {
      "cell_type": "code",
      "source": [
        "from torch.optim import AdamW\n",
        "\n",
        "optimizer=AdamW(model.parameters(), lr=2e-5)"
      ],
      "metadata": {
        "id": "s2r3j_0RsbzX"
      },
      "execution_count": null,
      "outputs": []
    },
    {
      "cell_type": "code",
      "source": [
        "from accelerate import Accelerator\n",
        "\n",
        "accelerator=Accelerator()\n",
        "model,optimizer,train_dataloader,eval_dataloader=accelerator.prepare(\n",
        "    model,optimizer, train_dataloader, eval_dataloader\n",
        ")"
      ],
      "metadata": {
        "id": "_FlrAdxDsbwu"
      },
      "execution_count": null,
      "outputs": []
    },
    {
      "cell_type": "code",
      "source": [
        "from transformers import get_scheduler\n",
        "\n",
        "num_train_epochs=3\n",
        "num_update_steps_per_epoch=len(train_dataloader)\n",
        "num_training_steps=num_train_epochs * num_update_steps_per_epoch\n",
        "\n",
        "lr_scheduler=get_scheduler(\n",
        "    'linear',\n",
        "    optimizer=optimizer,\n",
        "    num_warmup_steps=0,\n",
        "    num_training_steps=num_training_steps\n",
        ")\n"
      ],
      "metadata": {
        "id": "XvP67ieEtZPb"
      },
      "execution_count": null,
      "outputs": []
    },
    {
      "cell_type": "code",
      "source": [
        "from tqdm.auto import tqdm\n",
        "import torch\n",
        "\n",
        "progress_bar=tqdm(range(num_training_steps))\n",
        "\n",
        "for epoch in range(num_training_steps):\n",
        "  model.train()\n",
        "  for step, batch in enumerate(train_dataloader):\n",
        "    outputs=model(**batch)\n",
        "    loss=outputs.loss\n",
        "    accelerator.backward(loss)\n",
        "\n",
        "    optimizer.step()\n",
        "    lr_scheduler.step()\n",
        "    optimizer.zero_grad()\n",
        "    progress_bar.update(1)\n",
        "\n",
        "  model.eval()\n",
        "  start_logits=[]\n",
        "  end_logits=[]\n",
        "  accelerator.print('Evaluation:')\n",
        "  for batch in tqdm(eval_dataloader):\n",
        "    with torch.no_grad():\n",
        "      outputs=model(**batch)\n",
        "\n",
        "    start_logits.append(accelerator.gather(outputs.start_logits).cpu().numpy())\n",
        "    end_logits.append(accelerator.gather(outputs.end_logits).cpu().numpy())\n",
        "\n",
        "\n",
        "  start_logits=np.concatenate(start_logits)\n",
        "  end_logits=np.concatenate(end_logits)\n",
        "  start_logits=start_logits[:len(validation_dataset)]\n",
        "  end_logits=end_logits[:len(validation_dataset)]\n",
        "\n",
        "  metrics=compute_metrics(\n",
        "      start_logits, end_logits, validation_dataset, raw_datasets['validation']\n",
        "  )\n",
        "  print(f\"epoch {epoch}:\", metrics)\n",
        "\n",
        "  accelerator.wait_for_everyone()\n",
        "  unwrapped_model=accelerator.unwrap_model(model)\n",
        "  unwrapped_model.save_pretrained(output_dir, save_function=accelerator.save)\n",
        "\n"
      ],
      "metadata": {
        "id": "z5U6YR4vtZME"
      },
      "execution_count": null,
      "outputs": []
    },
    {
      "cell_type": "code",
      "source": [
        "#train model using accelerator"
      ],
      "metadata": {
        "id": "9c5Po3bJt8iO"
      },
      "execution_count": null,
      "outputs": []
    },
    {
      "cell_type": "code",
      "source": [],
      "metadata": {
        "id": "OWmMF-Gst8e1"
      },
      "execution_count": null,
      "outputs": []
    },
    {
      "cell_type": "code",
      "source": [],
      "metadata": {
        "id": "7bDRMMDRxIs8"
      },
      "execution_count": null,
      "outputs": []
    }
  ]
}