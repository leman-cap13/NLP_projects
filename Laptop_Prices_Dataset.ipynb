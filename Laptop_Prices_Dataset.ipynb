{
  "nbformat": 4,
  "nbformat_minor": 0,
  "metadata": {
    "colab": {
      "provenance": [],
      "authorship_tag": "ABX9TyN/nkDjqPX6iCBAVN/9PuMS",
      "include_colab_link": true
    },
    "kernelspec": {
      "name": "python3",
      "display_name": "Python 3"
    },
    "language_info": {
      "name": "python"
    }
  },
  "cells": [
    {
      "cell_type": "markdown",
      "metadata": {
        "id": "view-in-github",
        "colab_type": "text"
      },
      "source": [
        "<a href=\"https://colab.research.google.com/github/leman-cap13/my_projects/blob/main/Laptop_Prices_Dataset.ipynb\" target=\"_parent\"><img src=\"https://colab.research.google.com/assets/colab-badge.svg\" alt=\"Open In Colab\"/></a>"
      ]
    },
    {
      "cell_type": "code",
      "execution_count": null,
      "metadata": {
        "id": "K1TI7ZvOvqNW"
      },
      "outputs": [],
      "source": [
        "from google.colab import files\n",
        "files.upload()"
      ]
    },
    {
      "cell_type": "code",
      "source": [
        "!mkdir -p ~/.kaggle\n",
        "!cp kaggle.json ~/.kaggle/\n",
        "!chmod 600 ~/.kaggle/kaggle.json"
      ],
      "metadata": {
        "id": "89rOQE-2vzn4"
      },
      "execution_count": null,
      "outputs": []
    },
    {
      "cell_type": "code",
      "source": [
        "!kaggle datasets download anubhavgoyal10/laptop-prices-dataset"
      ],
      "metadata": {
        "id": "cxfs2Tw_v61v"
      },
      "execution_count": null,
      "outputs": []
    },
    {
      "cell_type": "code",
      "source": [
        "import zipfile"
      ],
      "metadata": {
        "id": "t5yfpCsywROK"
      },
      "execution_count": null,
      "outputs": []
    },
    {
      "cell_type": "code",
      "source": [
        "with zipfile.ZipFile('/content/laptop-prices-dataset.zip', 'r') as zip_ref:\n",
        "    zip_ref.extractall()"
      ],
      "metadata": {
        "id": "VxBBZ7x6wPco"
      },
      "execution_count": null,
      "outputs": []
    },
    {
      "cell_type": "code",
      "source": [
        "import pandas as pd\n",
        "import numpy as np\n",
        "import matplotlib.pyplot as plt\n",
        "import seaborn as sns"
      ],
      "metadata": {
        "id": "yeirubNAwBWJ"
      },
      "execution_count": null,
      "outputs": []
    },
    {
      "cell_type": "code",
      "source": [
        "pd.set_option('display.max_columns', None)"
      ],
      "metadata": {
        "id": "Ku16IrvTwIgj"
      },
      "execution_count": null,
      "outputs": []
    },
    {
      "cell_type": "code",
      "source": [
        "df=pd.read_csv('/content/laptopPrice.csv')\n",
        "df"
      ],
      "metadata": {
        "id": "NHjPzoZkwLWf"
      },
      "execution_count": null,
      "outputs": []
    },
    {
      "cell_type": "markdown",
      "source": [
        "#DATA CLEANING AND DATA VISUALIZATION"
      ],
      "metadata": {
        "id": "ypWZcSz7wZZT"
      }
    },
    {
      "cell_type": "code",
      "source": [
        "df.isna().sum()"
      ],
      "metadata": {
        "id": "EdU_5WVwwm9o"
      },
      "execution_count": null,
      "outputs": []
    },
    {
      "cell_type": "code",
      "source": [
        "df.duplicated().sum()"
      ],
      "metadata": {
        "id": "pDUzJtNNwo7X"
      },
      "execution_count": null,
      "outputs": []
    },
    {
      "cell_type": "code",
      "source": [
        "df.drop_duplicates(inplace=True)"
      ],
      "metadata": {
        "id": "oZM4RqmAwrmv"
      },
      "execution_count": null,
      "outputs": []
    },
    {
      "cell_type": "code",
      "source": [
        "df.info()"
      ],
      "metadata": {
        "id": "Jtg0UHctwtw8"
      },
      "execution_count": null,
      "outputs": []
    },
    {
      "cell_type": "code",
      "source": [
        "df.describe()"
      ],
      "metadata": {
        "id": "nq1qLjiuwwKf"
      },
      "execution_count": null,
      "outputs": []
    },
    {
      "cell_type": "code",
      "source": [
        "df.dtypes"
      ],
      "metadata": {
        "id": "jphny2DfwyK0"
      },
      "execution_count": null,
      "outputs": []
    },
    {
      "cell_type": "code",
      "source": [
        "numeric_cols = df.select_dtypes(include=['float64', 'int64']).columns\n",
        "\n",
        "for col in numeric_cols:\n",
        "    Q1 = df[col].quantile(0.25)\n",
        "    Q3 = df[col].quantile(0.75)\n",
        "    IQR = Q3 - Q1\n",
        "    outliers = df[(df[col] < Q1 - 1.5 * IQR) | (df[col] > Q3 + 1.5 * IQR)]\n",
        "    print(f\"{col} üçün outlier sayı: {len(outliers)}\")\n"
      ],
      "metadata": {
        "id": "0VT11iwVxRKs"
      },
      "execution_count": null,
      "outputs": []
    },
    {
      "cell_type": "code",
      "source": [
        "import math\n",
        "\n",
        "\n",
        "numeric_df = df.select_dtypes(include=['float64', 'int64'])\n",
        "cols = numeric_df.columns\n",
        "\n",
        "\n",
        "n = len(cols)\n",
        "rows = math.ceil(n / 3)\n",
        "\n",
        "plt.figure(figsize=(15, rows * 4))\n",
        "\n",
        "for i, col in enumerate(cols, 1):\n",
        "    plt.subplot(rows, 3, i)\n",
        "    sns.boxplot(x=df[col])\n",
        "    plt.title(col)\n",
        "\n",
        "plt.tight_layout()\n",
        "plt.show()\n"
      ],
      "metadata": {
        "id": "0GCkPTAlyVCg"
      },
      "execution_count": null,
      "outputs": []
    },
    {
      "cell_type": "code",
      "source": [
        "def dataplot(col):\n",
        "    plt.figure(figsize= (10,6))\n",
        "    sns.countplot(data = df, x=col, palette = 'plasma')\n",
        "    plt.xticks(rotation = 'vertical')\n",
        "    plt.show()\n",
        "\n",
        "features = ['brand', 'ram_gb', 'processor_name', 'processor_gnrtn', 'os']\n",
        "\n",
        "for col in features:\n",
        "    dataplot(col)"
      ],
      "metadata": {
        "id": "9rfyes4QyVyu"
      },
      "execution_count": null,
      "outputs": []
    },
    {
      "cell_type": "code",
      "source": [
        "plt.figure(figsize=(10,7))\n",
        "unique_brands = df['brand'].unique()\n",
        "palette = sns.color_palette(\"hsv\", len(unique_brands))\n",
        "sns.barplot(x = df['brand'], y=df['Price'], palette=palette)\n",
        "plt.xticks(rotation = 'vertical')\n",
        "plt.show();"
      ],
      "metadata": {
        "id": "8TvkAmmD3K75"
      },
      "execution_count": null,
      "outputs": []
    },
    {
      "cell_type": "code",
      "source": [
        "sns.barplot(x = df['Touchscreen'], y= df['Price'], palette = 'plasma')"
      ],
      "metadata": {
        "id": "ihitMGH43K4X"
      },
      "execution_count": null,
      "outputs": []
    },
    {
      "cell_type": "code",
      "source": [
        "sns.barplot(x='ram_gb', y='Price', hue='ram_gb', data=df, palette='plasma', legend=False)"
      ],
      "metadata": {
        "id": "3xA0xhhM4f2W"
      },
      "execution_count": null,
      "outputs": []
    },
    {
      "cell_type": "code",
      "source": [
        "sns.countplot(x ='os', data=df, hue='os', palette='plasma')"
      ],
      "metadata": {
        "id": "RCGXuZA94lNV"
      },
      "execution_count": null,
      "outputs": []
    },
    {
      "cell_type": "code",
      "source": [
        "sns.barplot(x = df['os'], y= df['Price'], palette='magma')"
      ],
      "metadata": {
        "id": "3aBqA6_Y48wX"
      },
      "execution_count": null,
      "outputs": []
    },
    {
      "cell_type": "code",
      "source": [
        "sns.histplot(df['Price'], kde=True)"
      ],
      "metadata": {
        "id": "dKkvOVpV5YVQ"
      },
      "execution_count": null,
      "outputs": []
    },
    {
      "cell_type": "code",
      "source": [
        "def remove_outliers(df):\n",
        "  numeric_df = df.select_dtypes(include=['float64', 'int64'])\n",
        "  for column in numeric_df.columns:\n",
        "    Q1 = df[column].quantile(0.25)\n",
        "    Q3 = df[column].quantile(0.75)\n",
        "    IQR = Q3 - Q1\n",
        "\n",
        "    lower_bound = Q1 - 1.5 * IQR\n",
        "    upper_bound = Q3 + 1.5 * IQR\n",
        "\n",
        "    df = df[(df[column] >= lower_bound) & (df[column] <= upper_bound)]\n",
        "\n",
        "  return df"
      ],
      "metadata": {
        "id": "K6sNaT2f5d1U"
      },
      "execution_count": null,
      "outputs": []
    },
    {
      "cell_type": "code",
      "source": [
        "df=remove_outliers(df)"
      ],
      "metadata": {
        "id": "OUCqSWGD6mgu"
      },
      "execution_count": null,
      "outputs": []
    },
    {
      "cell_type": "code",
      "source": [
        "df.head()"
      ],
      "metadata": {
        "id": "IKrhofzY6sRe"
      },
      "execution_count": null,
      "outputs": []
    },
    {
      "cell_type": "code",
      "source": [
        "df['hdd']=df['hdd'].str.extract('(\\d+)').astype('int')"
      ],
      "metadata": {
        "id": "BkeelWL060cq"
      },
      "execution_count": null,
      "outputs": []
    },
    {
      "cell_type": "code",
      "source": [
        "df['hdd'].value_counts()"
      ],
      "metadata": {
        "id": "rdBO8Lcr7o6y"
      },
      "execution_count": null,
      "outputs": []
    },
    {
      "cell_type": "code",
      "source": [
        "df['ram_gb']=df['ram_gb'].str.extract('(\\d+)').astype('int')"
      ],
      "metadata": {
        "id": "JDx5L7Ec7psV"
      },
      "execution_count": null,
      "outputs": []
    },
    {
      "cell_type": "code",
      "source": [
        "df['ram_gb'].value_counts()"
      ],
      "metadata": {
        "id": "bAWbm66P71Xr"
      },
      "execution_count": null,
      "outputs": []
    },
    {
      "cell_type": "code",
      "source": [
        "df['ssd']=df['ssd'].str.extract('(\\d+)').astype('int')"
      ],
      "metadata": {
        "id": "o3zKFQwC734n"
      },
      "execution_count": null,
      "outputs": []
    },
    {
      "cell_type": "code",
      "source": [
        "df['ssd'].value_counts()"
      ],
      "metadata": {
        "id": "ZFbZFSyr8Bqs"
      },
      "execution_count": null,
      "outputs": []
    },
    {
      "cell_type": "code",
      "source": [
        "df.columns"
      ],
      "metadata": {
        "id": "JwQ8WjhY8m80"
      },
      "execution_count": null,
      "outputs": []
    },
    {
      "cell_type": "code",
      "source": [
        "df['os_bit']=df['os_bit'].str.extract('(\\d+)').astype('int')"
      ],
      "metadata": {
        "id": "9GXiOjGZ8DWX"
      },
      "execution_count": null,
      "outputs": []
    },
    {
      "cell_type": "code",
      "source": [
        "df['os_bit'].value_counts()"
      ],
      "metadata": {
        "id": "4uoi9L-h8cl7"
      },
      "execution_count": null,
      "outputs": []
    },
    {
      "cell_type": "code",
      "source": [
        "df['graphic_card_gb']=df['graphic_card_gb'].str.extract('(\\d+)').astype('int')\n"
      ],
      "metadata": {
        "id": "DDvE9la28yqf"
      },
      "execution_count": null,
      "outputs": []
    },
    {
      "cell_type": "code",
      "source": [
        "df['graphic_card_gb'].value_counts()"
      ],
      "metadata": {
        "id": "3oNPCXCP86Oh"
      },
      "execution_count": null,
      "outputs": []
    },
    {
      "cell_type": "code",
      "source": [
        "df['rating']=df['rating'].str.extract('(\\d+)').astype('int')"
      ],
      "metadata": {
        "id": "3-AZjlzh874e"
      },
      "execution_count": null,
      "outputs": []
    },
    {
      "cell_type": "code",
      "source": [
        "df['rating'].value_counts()"
      ],
      "metadata": {
        "id": "u7t69_609DIV"
      },
      "execution_count": null,
      "outputs": []
    },
    {
      "cell_type": "code",
      "source": [
        "df['rating'].value_counts().plot(kind='bar')"
      ],
      "metadata": {
        "id": "xboC-Ew49Gul"
      },
      "execution_count": null,
      "outputs": []
    },
    {
      "cell_type": "code",
      "source": [
        "df['processor_gnrtn'].unique()"
      ],
      "metadata": {
        "id": "v9YGBQLg9tV6"
      },
      "execution_count": null,
      "outputs": []
    },
    {
      "cell_type": "code",
      "source": [
        "df['processor_gnrtn'] = df['processor_gnrtn'].str.replace('th', '', regex=False)"
      ],
      "metadata": {
        "id": "WaKbjIGI-BH1"
      },
      "execution_count": null,
      "outputs": []
    },
    {
      "cell_type": "code",
      "source": [
        "df['processor_gnrtn'].dtype"
      ],
      "metadata": {
        "id": "w6_J1vG_-MUx"
      },
      "execution_count": null,
      "outputs": []
    },
    {
      "cell_type": "code",
      "source": [
        "df['processor_gnrtn'].value_counts()"
      ],
      "metadata": {
        "id": "IuNUjGZT-SeA"
      },
      "execution_count": null,
      "outputs": []
    },
    {
      "cell_type": "code",
      "source": [
        "df.head()"
      ],
      "metadata": {
        "id": "kW6mETNy9g9N"
      },
      "execution_count": null,
      "outputs": []
    },
    {
      "cell_type": "code",
      "source": [
        "df.corr(numeric_only=True)"
      ],
      "metadata": {
        "id": "MgF56UgQ9rZL"
      },
      "execution_count": null,
      "outputs": []
    },
    {
      "cell_type": "code",
      "source": [
        "sns.heatmap(df.corr(numeric_only=True), annot=True)"
      ],
      "metadata": {
        "id": "tDI_7NAf-ee8"
      },
      "execution_count": null,
      "outputs": []
    },
    {
      "cell_type": "markdown",
      "source": [
        "#Make Model"
      ],
      "metadata": {
        "id": "-o2qzZJu-sr6"
      }
    },
    {
      "cell_type": "code",
      "source": [
        "from sklearn.model_selection import train_test_split\n",
        "from sklearn.preprocessing import StandardScaler, OneHotEncoder,OrdinalEncoder\n",
        "from sklearn.pipeline import Pipeline\n",
        "from sklearn.impute import SimpleImputer\n",
        "from sklearn.compose import ColumnTransformer\n",
        "from sklearn.linear_model import LinearRegression\n",
        "from sklearn.tree import DecisionTreeRegressor\n",
        "from sklearn.ensemble import RandomForestRegressor\n",
        "from sklearn.metrics import mean_squared_error, r2_score"
      ],
      "metadata": {
        "id": "ZPfhrn6H-yZR"
      },
      "execution_count": null,
      "outputs": []
    },
    {
      "cell_type": "code",
      "source": [
        "#First do X and y  split\n",
        "X=df.drop('Price', axis=1)\n",
        "y=df['Price'].copy()"
      ],
      "metadata": {
        "id": "CuFtmcYJ_Ayo"
      },
      "execution_count": null,
      "outputs": []
    },
    {
      "cell_type": "code",
      "source": [
        "#Second make train_test_split\n",
        "X_train, X_test, y_train, y_test = train_test_split(X, y, test_size=0.2, random_state=42)"
      ],
      "metadata": {
        "id": "VM7bG51G_MtV"
      },
      "execution_count": null,
      "outputs": []
    },
    {
      "cell_type": "code",
      "source": [
        "#split numeric and categorical values\n",
        "num_feature = X_train.select_dtypes(include=[np.number]).columns\n",
        "cat_feature = X_train.select_dtypes(exclude=[np.number]).columns"
      ],
      "metadata": {
        "id": "G-PwEeLM_aRa"
      },
      "execution_count": null,
      "outputs": []
    },
    {
      "cell_type": "code",
      "source": [
        "#make pipeline\n",
        "num_pipeline = Pipeline([\n",
        "    ('imputer', SimpleImputer(strategy='median')),\n",
        "    ('scaler', StandardScaler())\n",
        "])\n",
        "\n",
        "cat_pipeline = Pipeline([\n",
        "    ('imputer', SimpleImputer(strategy='most_frequent', fill_value='missing')),\n",
        "    ('encoder', OneHotEncoder(handle_unknown='ignore', sparse_output=False))\n",
        "])\n",
        "\n",
        "transformer = ColumnTransformer([\n",
        "    ('num', num_pipeline, num_feature),\n",
        "    ('cat', cat_pipeline, cat_feature)\n",
        "])\n",
        "\n",
        "estimator=LinearRegression()\n",
        "\n",
        "full_pipeline = Pipeline([\n",
        "    ('preprocessing', transformer),\n",
        "    ('estimator', estimator)\n",
        "])"
      ],
      "metadata": {
        "id": "xymAf73e_SlU"
      },
      "execution_count": null,
      "outputs": []
    },
    {
      "cell_type": "code",
      "source": [
        "full_pipeline.fit(X_train, y_train)"
      ],
      "metadata": {
        "id": "D_-sBfAsAeuA"
      },
      "execution_count": null,
      "outputs": []
    },
    {
      "cell_type": "code",
      "source": [
        "full_pipeline.score(X_train, y_train), full_pipeline.score(X_test, y_test)"
      ],
      "metadata": {
        "id": "vnUOzz6iAhEO"
      },
      "execution_count": null,
      "outputs": []
    },
    {
      "cell_type": "code",
      "source": [
        "from sklearn.model_selection import cross_val_score\n",
        "cross_val_score(full_pipeline, X_train, y_train, cv=5)"
      ],
      "metadata": {
        "id": "M6XtplAAAlmy"
      },
      "execution_count": null,
      "outputs": []
    },
    {
      "cell_type": "markdown",
      "source": [
        "#Random forest Regressor"
      ],
      "metadata": {
        "id": "xvkp-DNOBQ9B"
      }
    },
    {
      "cell_type": "code",
      "source": [
        "estimator_1=RandomForestRegressor(random_state=42, n_estimators=200, min_samples_split=3,min_samples_leaf=2,max_depth=10)\n",
        "\n",
        "full_pipeline_1 = Pipeline([\n",
        "    ('preprocessing', transformer),\n",
        "    ('estimator_1', estimator_1)\n",
        "])\n",
        "\n",
        "full_pipeline_1.fit(X_train, y_train)"
      ],
      "metadata": {
        "id": "nDLapw7_BbjM"
      },
      "execution_count": null,
      "outputs": []
    },
    {
      "cell_type": "code",
      "source": [
        "full_pipeline_1.score(X_train, y_train), full_pipeline_1.score(X_test, y_test)"
      ],
      "metadata": {
        "id": "ebM1p74pCCzY"
      },
      "execution_count": null,
      "outputs": []
    },
    {
      "cell_type": "code",
      "source": [
        "from sklearn.model_selection import GridSearchCV\n",
        "params={\n",
        "    'estimator_1__n_estimators': [50,100,200],\n",
        "    'estimator_1__max_depth': [ 10, 20, 30],\n",
        "    'estimator_1__min_samples_split': [2, 5, 10],\n",
        "    'estimator_1__min_samples_leaf': [1, 2, 4]\n",
        "}\n",
        "\n",
        "grid_search = GridSearchCV(full_pipeline_1, params, cv=5)\n",
        "grid_search.fit(X_train, y_train)"
      ],
      "metadata": {
        "id": "LCJ8fQvTCHUq"
      },
      "execution_count": null,
      "outputs": []
    },
    {
      "cell_type": "code",
      "source": [
        "grid_search.best_params_"
      ],
      "metadata": {
        "id": "jDN7yKqlCcCl"
      },
      "execution_count": null,
      "outputs": []
    },
    {
      "cell_type": "code",
      "source": [
        "y_pred=full_pipeline_1.predict(X_test)"
      ],
      "metadata": {
        "id": "kQDKvHKVDBYN"
      },
      "execution_count": null,
      "outputs": []
    },
    {
      "cell_type": "code",
      "source": [
        "y_pred[:10]"
      ],
      "metadata": {
        "id": "AEwwy8Y0DEgP"
      },
      "execution_count": null,
      "outputs": []
    },
    {
      "cell_type": "code",
      "source": [
        "y_test[:10]"
      ],
      "metadata": {
        "id": "dRrIi-xrDzaX"
      },
      "execution_count": null,
      "outputs": []
    },
    {
      "cell_type": "code",
      "source": [
        "r2_score(y_test, y_pred)"
      ],
      "metadata": {
        "id": "6Csx0rNID1eE"
      },
      "execution_count": null,
      "outputs": []
    },
    {
      "cell_type": "code",
      "source": [
        "mse = mean_squared_error(y_test, y_pred)\n",
        "mse"
      ],
      "metadata": {
        "id": "IHSRxQAmD9BJ"
      },
      "execution_count": null,
      "outputs": []
    },
    {
      "cell_type": "code",
      "source": [
        "from sklearn.metrics import mean_absolute_error"
      ],
      "metadata": {
        "id": "q5xucL-xEGru"
      },
      "execution_count": null,
      "outputs": []
    },
    {
      "cell_type": "code",
      "source": [
        "mae = mean_absolute_error(y_test, y_pred)\n",
        "mae"
      ],
      "metadata": {
        "id": "CCLkwdAlEDIX"
      },
      "execution_count": null,
      "outputs": []
    },
    {
      "cell_type": "code",
      "source": [
        "sns.kdeplot(y_test, color='red', label='Actual')\n",
        "sns.kdeplot(y_pred, color='green', label='Predicted')\n",
        "plt.legend()\n",
        "plt.show()\n"
      ],
      "metadata": {
        "id": "aLMIipuuGIad"
      },
      "execution_count": null,
      "outputs": []
    },
    {
      "cell_type": "markdown",
      "source": [
        "#Decision tree regressor"
      ],
      "metadata": {
        "id": "j55PXnuIEXWb"
      }
    },
    {
      "cell_type": "code",
      "source": [
        "estimator_2=DecisionTreeRegressor(random_state=42,  min_samples_split=3,min_samples_leaf=5,max_depth=15)\n",
        "\n",
        "full_pipeline_2 = Pipeline([\n",
        "    ('preprocessing', transformer),\n",
        "    ('estimator_2', estimator_2)\n",
        "])\n",
        "\n",
        "full_pipeline_2.fit(X_train, y_train)"
      ],
      "metadata": {
        "id": "NMgRku0YEf_Q"
      },
      "execution_count": null,
      "outputs": []
    },
    {
      "cell_type": "code",
      "source": [
        "full_pipeline_2.score(X_train, y_train), full_pipeline_2.score(X_test, y_test)\n"
      ],
      "metadata": {
        "id": "OQntaf8jEixI"
      },
      "execution_count": null,
      "outputs": []
    },
    {
      "cell_type": "code",
      "source": [
        "y_prediction=full_pipeline_2.predict(X_test)"
      ],
      "metadata": {
        "id": "EozWnkQ4FKO8"
      },
      "execution_count": null,
      "outputs": []
    },
    {
      "cell_type": "code",
      "source": [
        "mae = mean_absolute_error(y_test, y_prediction)\n",
        "mae"
      ],
      "metadata": {
        "id": "8W4NCCW_EmID"
      },
      "execution_count": null,
      "outputs": []
    },
    {
      "cell_type": "code",
      "source": [
        "sns.kdeplot(y_test, color='orange', label='Actual')\n",
        "sns.kdeplot(y_prediction, color='blue', label='Predicted')\n",
        "plt.legend()\n",
        "plt.show()\n"
      ],
      "metadata": {
        "id": "gm2SbVoEFNee"
      },
      "execution_count": null,
      "outputs": []
    },
    {
      "cell_type": "markdown",
      "source": [
        "#Ridge and Lasso Model"
      ],
      "metadata": {
        "id": "GerHWrClGcfq"
      }
    },
    {
      "cell_type": "code",
      "source": [
        "from sklearn.linear_model import Ridge, Lasso\n",
        "estimator_3=Ridge(alpha=0.005)\n",
        "\n",
        "full_pipeline_3 = Pipeline([\n",
        "    ('preprocessing', transformer),\n",
        "    ('estimator_3', estimator_3)\n",
        "])\n",
        "\n",
        "full_pipeline_3.fit(X_train, y_train)"
      ],
      "metadata": {
        "id": "CReUexWJGgrV"
      },
      "execution_count": null,
      "outputs": []
    },
    {
      "cell_type": "code",
      "source": [
        "full_pipeline_3.score(X_train, y_train), full_pipeline_3.score(X_test, y_test)"
      ],
      "metadata": {
        "id": "KUlTPBHiGpcR"
      },
      "execution_count": null,
      "outputs": []
    },
    {
      "cell_type": "code",
      "source": [
        "estimator_4=Lasso(alpha=1)\n",
        "\n",
        "full_pipeline_4 = Pipeline([\n",
        "    ('preprocessing', transformer),\n",
        "    ('estimator_4', estimator_4)\n",
        "])\n",
        "\n",
        "full_pipeline_4.fit(X_train, y_train)"
      ],
      "metadata": {
        "id": "lii4_IqvGrTj"
      },
      "execution_count": null,
      "outputs": []
    },
    {
      "cell_type": "code",
      "source": [
        "full_pipeline_4.score(X_train, y_train), full_pipeline_4.score(X_test, y_test)"
      ],
      "metadata": {
        "id": "ykSxrXRJH-BH"
      },
      "execution_count": null,
      "outputs": []
    },
    {
      "cell_type": "code",
      "source": [
        "y_predd=full_pipeline_4.predict(X_test)"
      ],
      "metadata": {
        "id": "ZRQ4UXIgIHT7"
      },
      "execution_count": null,
      "outputs": []
    },
    {
      "cell_type": "code",
      "source": [
        "r2_score(y_test, y_predd)"
      ],
      "metadata": {
        "id": "o-EcNPopH_Se"
      },
      "execution_count": null,
      "outputs": []
    },
    {
      "cell_type": "code",
      "source": [
        "sns.kdeplot(y_test, color='purple', label='Actual')\n",
        "sns.kdeplot(y_predd, color='black', label='Predicted')\n",
        "plt.legend()\n",
        "plt.show()"
      ],
      "metadata": {
        "id": "X10hGb3MIL9F"
      },
      "execution_count": null,
      "outputs": []
    },
    {
      "cell_type": "markdown",
      "source": [
        "# GradientBoostingRegressor Model"
      ],
      "metadata": {
        "id": "mmq_VdnRIRjX"
      }
    },
    {
      "cell_type": "code",
      "source": [
        "from sklearn.ensemble import GradientBoostingRegressor"
      ],
      "metadata": {
        "id": "EAD5iVUlIumi"
      },
      "execution_count": null,
      "outputs": []
    },
    {
      "cell_type": "code",
      "source": [
        "estimator_5 = GradientBoostingRegressor(n_estimators=100, learning_rate=0.1, max_depth=3, random_state=42)\n",
        "full_pipeline_5 = Pipeline([\n",
        "    ('preprocessing', transformer),\n",
        "    ('estimator_5', estimator_5)\n",
        "])\n",
        "full_pipeline_5.fit(X_train, y_train)"
      ],
      "metadata": {
        "id": "iHxQxlduIvZ5"
      },
      "execution_count": null,
      "outputs": []
    },
    {
      "cell_type": "code",
      "source": [
        "y_pre = full_pipeline_5.predict(X_test)\n",
        "mse = mean_squared_error(y_test, y_pre)\n",
        "print(\"Mean Squared Error:\", mse)"
      ],
      "metadata": {
        "id": "4wj7fKQiI5Lo"
      },
      "execution_count": null,
      "outputs": []
    },
    {
      "cell_type": "code",
      "source": [
        "mae = mean_absolute_error(y_test, y_pre)\n",
        "mae"
      ],
      "metadata": {
        "id": "xOc2tDKBJIud"
      },
      "execution_count": null,
      "outputs": []
    },
    {
      "cell_type": "code",
      "source": [
        "r2_score(y_test, y_pre)"
      ],
      "metadata": {
        "id": "9JmZrk7IJLSG"
      },
      "execution_count": null,
      "outputs": []
    },
    {
      "cell_type": "code",
      "source": [
        "full_pipeline_5.score(X_train, y_train), full_pipeline_5.score(X_test, y_test)"
      ],
      "metadata": {
        "id": "xGDyDIbPJMvD"
      },
      "execution_count": null,
      "outputs": []
    },
    {
      "cell_type": "code",
      "source": [
        "sns.kdeplot(y_test, color='purple', label='Actual')\n",
        "sns.kdeplot(y_pre, color='black', label='Predicted')\n",
        "plt.legend()\n",
        "plt.show()\n",
        "#"
      ],
      "metadata": {
        "id": "7EyujR5FJOhF"
      },
      "execution_count": null,
      "outputs": []
    }
  ]
}