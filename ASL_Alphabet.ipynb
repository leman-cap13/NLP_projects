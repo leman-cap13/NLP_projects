{
  "cells": [
    {
      "cell_type": "markdown",
      "metadata": {
        "id": "view-in-github",
        "colab_type": "text"
      },
      "source": [
        "<a href=\"https://colab.research.google.com/github/leman-cap13/my_projects/blob/main/ASL_Alphabet.ipynb\" target=\"_parent\"><img src=\"https://colab.research.google.com/assets/colab-badge.svg\" alt=\"Open In Colab\"/></a>"
      ]
    },
    {
      "cell_type": "code",
      "execution_count": null,
      "metadata": {
        "id": "pSAVLSY6EV9L"
      },
      "outputs": [],
      "source": [
        "from google.colab import files\n",
        "files.upload()\n",
        "\n"
      ]
    },
    {
      "cell_type": "code",
      "execution_count": null,
      "metadata": {
        "id": "AWvmU1A3dMlg"
      },
      "outputs": [],
      "source": [
        "!mkdir -p ~/.kaggle\n",
        "!mv kaggle.json ~/.kaggle/\n",
        "!chmod 600 ~/.kaggle/kaggle.json"
      ]
    },
    {
      "cell_type": "code",
      "execution_count": null,
      "metadata": {
        "id": "3HPFrR5peBkM"
      },
      "outputs": [],
      "source": [
        "!kaggle datasets download -d grassknoted/asl-alphabet"
      ]
    },
    {
      "cell_type": "code",
      "execution_count": null,
      "metadata": {
        "id": "u48k8-kYg9DW"
      },
      "outputs": [],
      "source": [
        "!unzip -q /content/asl-alphabet.zip -d /content/custom_data"
      ]
    },
    {
      "cell_type": "code",
      "execution_count": null,
      "metadata": {
        "id": "9ramji5geZZP"
      },
      "outputs": [],
      "source": [
        "# import zipfile"
      ]
    },
    {
      "cell_type": "code",
      "execution_count": null,
      "metadata": {
        "id": "1cLLxLLzenD0"
      },
      "outputs": [],
      "source": [
        "# with zipfile.ZipFile('/content/asl-alphabet.zip') as zip_asl:\n",
        "#   zip_asl.extractall()"
      ]
    },
    {
      "cell_type": "code",
      "execution_count": null,
      "metadata": {
        "id": "JM3dtO7CfON_"
      },
      "outputs": [],
      "source": [
        "!pip install ultralytics"
      ]
    },
    {
      "cell_type": "code",
      "execution_count": null,
      "metadata": {
        "id": "j8EO3u16MqQd"
      },
      "outputs": [],
      "source": [
        "!echo -e \"A\\nB\\nC\\nD\\nE\\nF\\nG\\nH\\nI\\nJ\\nK\\nL\\nM\\nN\\nO\\nP\\nQ\\nR\\nS\\nT\\nU\\nV\\nW\\nX\\nY\\nZ\\ndel\\nnothing\\nspace\" > /content/custom_data/classes.txt\n"
      ]
    },
    {
      "cell_type": "code",
      "execution_count": null,
      "metadata": {
        "id": "_YDx3gi8jU2V"
      },
      "outputs": [],
      "source": [
        "# yaml_content = \"\"\"\n",
        "# path: \"/content/custom_data\"\n",
        "# train: \"/content/custom_data/asl_alphabet_train\"\n",
        "# val:  \"/content/custom_data/asl_alphabet_test\"\n",
        "# nc: 29\n",
        "# names: ['A', 'B', 'C', 'D', 'E', 'F', 'G', 'H', 'I', 'J', 'K', 'L', 'M', 'N', 'O',\n",
        "#         'P', 'Q', 'R', 'S', 'T', 'U', 'V', 'W', 'X', 'Y', 'Z', 'space', 'nothing', 'delete']\n",
        "# \"\"\"\n",
        "\n",
        "\n",
        "# with open('/content/custom_data/data.yaml', 'w') as file:\n",
        "#     file.write(yaml_content)\n",
        "\n",
        "# print(\"data.yaml faylı yaradıldı!\")\n"
      ]
    },
    {
      "cell_type": "code",
      "execution_count": null,
      "metadata": {
        "id": "elH9z9IDNayf"
      },
      "outputs": [],
      "source": [
        "import yaml\n",
        "import os\n",
        "\n",
        "def create_data_yaml(path_to_classes_txt, path_to_data_yaml):\n",
        "    if not os.path.exists(path_to_classes_txt):\n",
        "        print(f'classes.txt file not found! Please create a classes.txt labelmap and move it to {path_to_classes_txt}')\n",
        "        return\n",
        "    with open(path_to_classes_txt, 'r') as f:\n",
        "        classes = [line.strip() for line in f if line.strip()]\n",
        "    number_of_classes = len(classes)\n",
        "\n",
        "    data = {\n",
        "        'path': \"/content/custom_data\",\n",
        "        'train': \"/content/custom_data/asl_alphabet_train\",\n",
        "        'val': \"/content/custom_data/asl_alphabet_test\",\n",
        "        'nc': number_of_classes,\n",
        "        'names': classes\n",
        "    }\n",
        "\n",
        "    with open(path_to_data_yaml, 'w') as f:\n",
        "        yaml.dump(data, f, sort_keys=False)\n",
        "\n",
        "    print(f'✅ data.yaml faylı uğurla yaradıldı: {path_to_data_yaml}')\n",
        "\n",
        "path_to_classes_txt = '/content/custom_data/classes.txt'\n",
        "path_to_data_yaml = '/content/custom_data/data.yaml'\n",
        "\n",
        "create_data_yaml(path_to_classes_txt, path_to_data_yaml)\n"
      ]
    },
    {
      "cell_type": "code",
      "execution_count": null,
      "metadata": {
        "id": "lcn5Mtq1OtJ7"
      },
      "outputs": [],
      "source": []
    },
    {
      "cell_type": "code",
      "execution_count": null,
      "metadata": {
        "id": "eXtf6h1wNJjX"
      },
      "outputs": [],
      "source": [
        "import os\n",
        "\n",
        "if os.path.exists('/content/custom_data/data.yaml'):\n",
        "    print(\"✅ data.yaml faylı mövcuddur!\")\n",
        "else:\n",
        "    print(\"❌ data.yaml tapılmadı!\")\n"
      ]
    },
    {
      "cell_type": "code",
      "execution_count": null,
      "metadata": {
        "id": "q4S45p-amHLl"
      },
      "outputs": [],
      "source": [
        "!yolo detect train data=/content/custom_data/data.yaml model=yolov8s.pt epochs=2 imgsz=640\n"
      ]
    },
    {
      "cell_type": "code",
      "execution_count": null,
      "metadata": {
        "id": "_SSZUsjFsyDN"
      },
      "outputs": [],
      "source": [
        "!yolo detect train data=/content/custom_data/data.yaml model=yolov8s.pt epochs=2 imgsz=640 batch=16\n"
      ]
    },
    {
      "cell_type": "code",
      "execution_count": null,
      "metadata": {
        "id": "fy5Qk0iOj2my"
      },
      "outputs": [],
      "source": [
        "!yolo detect predict model=runs/detect/train/weights/best.pt source=data/validation/images save=True"
      ]
    },
    {
      "cell_type": "code",
      "execution_count": null,
      "metadata": {
        "id": "1LNLW2zEuNyQ"
      },
      "outputs": [],
      "source": []
    },
    {
      "cell_type": "code",
      "execution_count": null,
      "metadata": {
        "id": "AwkyoJyBuNuv"
      },
      "outputs": [],
      "source": []
    },
    {
      "cell_type": "code",
      "execution_count": null,
      "metadata": {
        "id": "TUpySZ1UuNsh"
      },
      "outputs": [],
      "source": []
    },
    {
      "cell_type": "code",
      "execution_count": null,
      "metadata": {
        "id": "_ui6haB-uNp9"
      },
      "outputs": [],
      "source": []
    }
  ],
  "metadata": {
    "colab": {
      "provenance": [],
      "authorship_tag": "ABX9TyNhuL7bAJgLQRV5zPusLJHj",
      "include_colab_link": true
    },
    "kernelspec": {
      "display_name": "Python 3",
      "name": "python3"
    },
    "language_info": {
      "name": "python"
    }
  },
  "nbformat": 4,
  "nbformat_minor": 0
}