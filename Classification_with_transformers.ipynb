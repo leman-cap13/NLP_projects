{
  "nbformat": 4,
  "nbformat_minor": 0,
  "metadata": {
    "colab": {
      "provenance": [],
      "gpuType": "T4",
      "authorship_tag": "ABX9TyP23qtVhxlZlGf7cMIYPGxW",
      "include_colab_link": true
    },
    "kernelspec": {
      "name": "python3",
      "display_name": "Python 3"
    },
    "language_info": {
      "name": "python"
    },
    "accelerator": "GPU"
  },
  "cells": [
    {
      "cell_type": "markdown",
      "metadata": {
        "id": "view-in-github",
        "colab_type": "text"
      },
      "source": [
        "<a href=\"https://colab.research.google.com/github/leman-cap13/my_projects/blob/main/Classification_with_transformers.ipynb\" target=\"_parent\"><img src=\"https://colab.research.google.com/assets/colab-badge.svg\" alt=\"Open In Colab\"/></a>"
      ]
    },
    {
      "cell_type": "code",
      "execution_count": null,
      "metadata": {
        "id": "TNuZEzH3aiAY"
      },
      "outputs": [],
      "source": [
        "!pip install datasets"
      ]
    },
    {
      "cell_type": "code",
      "source": [
        "from huggingface_hub import list_datasets\n",
        "\n",
        "all_dataset=list(list_datasets())  # convert generator to list\n",
        "print(f\"Total number of datasets: {len(all_dataset)}\")\n",
        "print(f\"First 10 datasets: {all_dataset[:10]}\")"
      ],
      "metadata": {
        "id": "TrarvH0da3RC"
      },
      "execution_count": null,
      "outputs": []
    },
    {
      "cell_type": "code",
      "source": [
        "!pip install -U datasets"
      ],
      "metadata": {
        "id": "My25XtOra3Nl"
      },
      "execution_count": null,
      "outputs": []
    },
    {
      "cell_type": "code",
      "source": [
        "from datasets import load_dataset # not load_dataset\n",
        "\n",
        "emotions=load_dataset('emotion')\n",
        "print(emotions)"
      ],
      "metadata": {
        "id": "93mFdJjRbln2"
      },
      "execution_count": null,
      "outputs": []
    },
    {
      "cell_type": "code",
      "source": [
        "train_ds=emotions['train']\n",
        "train_ds"
      ],
      "metadata": {
        "id": "fNHWa3iHbj6M"
      },
      "execution_count": null,
      "outputs": []
    },
    {
      "cell_type": "code",
      "source": [
        "test_ds=emotions['test']\n",
        "test_ds"
      ],
      "metadata": {
        "id": "u_3-B0YcdCiC"
      },
      "execution_count": null,
      "outputs": []
    },
    {
      "cell_type": "code",
      "source": [
        "len(train_ds)"
      ],
      "metadata": {
        "id": "bytTYaUSdIOk"
      },
      "execution_count": null,
      "outputs": []
    },
    {
      "cell_type": "code",
      "source": [
        "train_ds[0]"
      ],
      "metadata": {
        "id": "0R5y5QosdILL"
      },
      "execution_count": null,
      "outputs": []
    },
    {
      "cell_type": "code",
      "source": [
        "train_ds[13]"
      ],
      "metadata": {
        "id": "yHQxy5qRdIIZ"
      },
      "execution_count": null,
      "outputs": []
    },
    {
      "cell_type": "code",
      "source": [
        "train_ds[10]"
      ],
      "metadata": {
        "id": "C6UG8uBvdRgV"
      },
      "execution_count": null,
      "outputs": []
    },
    {
      "cell_type": "code",
      "source": [
        "train_ds.column_names"
      ],
      "metadata": {
        "id": "JpkhlX4MdVTN"
      },
      "execution_count": null,
      "outputs": []
    },
    {
      "cell_type": "code",
      "source": [
        "print(train_ds.features)"
      ],
      "metadata": {
        "id": "3PApP5I8dVPr"
      },
      "execution_count": null,
      "outputs": []
    },
    {
      "cell_type": "code",
      "source": [
        "train_ds[:3]"
      ],
      "metadata": {
        "id": "KwijKm5TdVNi"
      },
      "execution_count": null,
      "outputs": []
    },
    {
      "cell_type": "code",
      "source": [
        "train_ds['text'][:3]"
      ],
      "metadata": {
        "id": "c1dBv2OJdiug"
      },
      "execution_count": null,
      "outputs": []
    },
    {
      "cell_type": "markdown",
      "source": [
        "# What if my dataset is not on the hub"
      ],
      "metadata": {
        "id": "BpVCp4Aud1F_"
      }
    },
    {
      "cell_type": "code",
      "source": [
        "dataset_url=\"https://huggingface.co/datasets/transformersbook/emotion-train-split/raw/main/train.txt\"\n",
        "!wget {dataset_url}"
      ],
      "metadata": {
        "id": "2hvff-wmd1Ci"
      },
      "execution_count": null,
      "outputs": []
    },
    {
      "cell_type": "code",
      "source": [
        "# ilk  3 setri oxumaq ucun 3 yazilib 10 olsa ilk 10 setri yazacaq -n means number"
      ],
      "metadata": {
        "id": "kNMpfhG1eav7"
      },
      "execution_count": null,
      "outputs": []
    },
    {
      "cell_type": "code",
      "source": [
        "!head -n 3 train.txt"
      ],
      "metadata": {
        "id": "Fq4jEaz8eQvx"
      },
      "execution_count": null,
      "outputs": []
    },
    {
      "cell_type": "markdown",
      "source": [
        "data_files yerinde link de yazzaq isleyecek"
      ],
      "metadata": {
        "id": "jNb_Tt8Ufa9s"
      }
    },
    {
      "cell_type": "code",
      "source": [
        "emotions_local=load_dataset('csv',data_files='train.txt', sep=';',names=['text', 'label'])"
      ],
      "metadata": {
        "id": "qsGu_k0sex1y"
      },
      "execution_count": null,
      "outputs": []
    },
    {
      "cell_type": "markdown",
      "source": [
        "#From datasets to DataFrame"
      ],
      "metadata": {
        "id": "SjQGu_4ifOaX"
      }
    },
    {
      "cell_type": "code",
      "source": [
        "import pandas as pd\n",
        "\n",
        "emotions.set_format(type='pandas')\n",
        "df=emotions['train'][:]\n",
        "df.head()"
      ],
      "metadata": {
        "id": "HDqbGcSbfOW9"
      },
      "execution_count": null,
      "outputs": []
    },
    {
      "cell_type": "code",
      "source": [
        "def label_int2str(row):\n",
        "  return emotions['train'].features['label'].int2str(row)\n",
        "\n",
        "df['label_name']=df['label'].apply(label_int2str)\n",
        "df.head()\n"
      ],
      "metadata": {
        "id": "O97AdSV7f4gk"
      },
      "execution_count": null,
      "outputs": []
    },
    {
      "cell_type": "code",
      "source": [
        "import matplotlib.pyplot as plt\n",
        "\n",
        "df['label_name'].value_counts().plot.barh()\n",
        "plt.title('Frequency of emotions')\n",
        "plt.show()"
      ],
      "metadata": {
        "id": "UiMTvy20hDkA"
      },
      "execution_count": null,
      "outputs": []
    },
    {
      "cell_type": "code",
      "source": [
        "df['Words per tweet']=df['text'].str.split().apply(len)\n",
        "\n",
        "df.boxplot('Words per tweet', by ='label_name', grid=False, showfliers=False, color='black')\n",
        "plt.suptitle('')\n",
        "plt.show()"
      ],
      "metadata": {
        "id": "xxhIzFgKhmTf"
      },
      "execution_count": null,
      "outputs": []
    },
    {
      "cell_type": "code",
      "source": [
        "df['Words per tweet']"
      ],
      "metadata": {
        "id": "YJP0ww1NhmP9"
      },
      "execution_count": null,
      "outputs": []
    },
    {
      "cell_type": "code",
      "source": [
        "emotions.reset_format()"
      ],
      "metadata": {
        "id": "b1GCc12ci_SL"
      },
      "execution_count": null,
      "outputs": []
    },
    {
      "cell_type": "markdown",
      "source": [
        "pandaslaa isimiz bitde deye evvelki formata qaytar"
      ],
      "metadata": {
        "id": "4CtHLfvFjDPe"
      }
    },
    {
      "cell_type": "markdown",
      "source": [
        "# From text to tokens"
      ],
      "metadata": {
        "id": "KQWGTUwyi6FV"
      }
    },
    {
      "cell_type": "markdown",
      "source": [
        "#Character tokenization"
      ],
      "metadata": {
        "id": "2CGNUTKLi6B3"
      }
    },
    {
      "cell_type": "code",
      "source": [
        "text='Tokenization text  is a core task of NLP.'\n",
        "tokenized_text=list(text)\n",
        "print(tokenized_text)"
      ],
      "metadata": {
        "id": "K2unZg25jNSp"
      },
      "execution_count": null,
      "outputs": []
    },
    {
      "cell_type": "code",
      "source": [
        "token2idx={ch : idx for idx, ch in enumerate(sorted(set(tokenized_text)))}\n",
        "print(token2idx)"
      ],
      "metadata": {
        "id": "bseF1lTRj5Em"
      },
      "execution_count": null,
      "outputs": []
    },
    {
      "cell_type": "code",
      "source": [
        "input_ids=[token2idx[token] for token in tokenized_text]\n",
        "print(input_ids)"
      ],
      "metadata": {
        "id": "KFMimOk1kRQ9"
      },
      "execution_count": null,
      "outputs": []
    },
    {
      "cell_type": "code",
      "source": [
        "import tensorflow as tf\n",
        "\n",
        "input_ids=tf.constant(input_ids)\n",
        "one_hot_encodings=tf.one_hot(input_ids, len(token2idx))\n",
        "print(one_hot_encodings.shape)"
      ],
      "metadata": {
        "id": "rjzmOw4TkRNk"
      },
      "execution_count": null,
      "outputs": []
    },
    {
      "cell_type": "code",
      "source": [
        "print(f\"Token: {tokenized_text[0]}\")\n",
        "print(f\"token index: {input_ids[0]}\")\n",
        "print(f'One-Hot: {one_hot_encodings[0]}')"
      ],
      "metadata": {
        "id": "hm66ljRgmcMs"
      },
      "execution_count": null,
      "outputs": []
    },
    {
      "cell_type": "markdown",
      "source": [
        "#Word tokenizarion"
      ],
      "metadata": {
        "id": "zoxK4DNOmcJO"
      }
    },
    {
      "cell_type": "code",
      "source": [
        "tokenized_text=text.split()\n",
        "print(tokenized_text)"
      ],
      "metadata": {
        "id": "ynkWWeW5nCs7"
      },
      "execution_count": null,
      "outputs": []
    },
    {
      "cell_type": "code",
      "source": [
        "#nadir sozleri yadda saxlamaqda cetinlik cekir\n",
        "#word level olsa herf sehvi nezere alinir"
      ],
      "metadata": {
        "id": "aUc-95HYnQQv"
      },
      "execution_count": null,
      "outputs": []
    },
    {
      "cell_type": "markdown",
      "source": [
        "#Subword Tokenization"
      ],
      "metadata": {
        "id": "CzgihxxFnCpc"
      }
    },
    {
      "cell_type": "code",
      "source": [
        "from transformers import AutoTokenizer\n",
        "\n",
        "model_ckpt='distilbert-base-uncased'\n",
        "tokenizer=AutoTokenizer.from_pretrained(model_ckpt)\n"
      ],
      "metadata": {
        "id": "vW8O6ct2nPDG"
      },
      "execution_count": null,
      "outputs": []
    },
    {
      "cell_type": "code",
      "source": [
        "#Same but more specific\n",
        "from transformers import DistilBertTokenizer\n",
        "distilbert_tokenizer=DistilBertTokenizer.from_pretrained(model_ckpt)"
      ],
      "metadata": {
        "id": "rM4vBfDrnO_u"
      },
      "execution_count": null,
      "outputs": []
    },
    {
      "cell_type": "code",
      "source": [
        "encoded_text=tokenizer(text)\n",
        "print(encoded_text)"
      ],
      "metadata": {
        "id": "LB2Z-SU6pKYk"
      },
      "execution_count": null,
      "outputs": []
    },
    {
      "cell_type": "code",
      "source": [
        "tokens=tokenizer.convert_ids_to_tokens(encoded_text.input_ids)\n",
        "print(tokens)"
      ],
      "metadata": {
        "id": "0LvsamdQpKU_"
      },
      "execution_count": null,
      "outputs": []
    },
    {
      "cell_type": "code",
      "source": [
        "tokenizer.convert_tokens_to_string(tokens)"
      ],
      "metadata": {
        "id": "39Fz9zT6uLj4"
      },
      "execution_count": null,
      "outputs": []
    },
    {
      "cell_type": "code",
      "source": [
        "tokenizer.vocab_size"
      ],
      "metadata": {
        "id": "6IGP9pdwuLgj"
      },
      "execution_count": null,
      "outputs": []
    },
    {
      "cell_type": "code",
      "source": [
        "tokenizer.model_max_length"
      ],
      "metadata": {
        "id": "tuw3deX5uN8Q"
      },
      "execution_count": null,
      "outputs": []
    },
    {
      "cell_type": "code",
      "source": [
        "tokenizer.model_input_names"
      ],
      "metadata": {
        "id": "S0zQNtjzvPl_"
      },
      "execution_count": null,
      "outputs": []
    },
    {
      "cell_type": "markdown",
      "source": [
        "#Tokenizing the whole dataset"
      ],
      "metadata": {
        "id": "YepEfBsIvPil"
      }
    },
    {
      "cell_type": "code",
      "source": [
        "def tokenize(batch):\n",
        "  return tokenizer(batch['text'], padding=True, truncation=True)\n"
      ],
      "metadata": {
        "id": "TGDJEFhrvPgY"
      },
      "execution_count": null,
      "outputs": []
    },
    {
      "cell_type": "code",
      "source": [
        "print(tokenize(emotions['train'][:2]))"
      ],
      "metadata": {
        "id": "8dj2nJGvv5dy"
      },
      "execution_count": null,
      "outputs": []
    },
    {
      "cell_type": "code",
      "source": [
        "tokenizer.all_special_tokens, tokenizer.all_special_ids"
      ],
      "metadata": {
        "id": "QV50wsGNwLiK"
      },
      "execution_count": null,
      "outputs": []
    },
    {
      "cell_type": "code",
      "source": [
        "#batch_size=None butun bir vatch kimi gotur dataseti"
      ],
      "metadata": {
        "id": "iyvK74l3yRz9"
      },
      "execution_count": null,
      "outputs": []
    },
    {
      "cell_type": "code",
      "source": [
        "emotions_encoded=emotions.map(tokenize, batched=True, batch_size=None)"
      ],
      "metadata": {
        "id": "D-pFJ20_wLeo"
      },
      "execution_count": null,
      "outputs": []
    },
    {
      "cell_type": "markdown",
      "source": [
        "# Transformers as Feature Extractors"
      ],
      "metadata": {
        "id": "WOsg9t1QwLcL"
      }
    },
    {
      "cell_type": "code",
      "source": [
        "from transformers import AutoModel\n",
        "import torch\n",
        "\n",
        "model_ckpt='distilbert-base-uncased'\n",
        "device=torch.device('cuda' if torch.cuda.is_available() else 'cpu')\n",
        "model=AutoModel.from_pretrained(model_ckpt).to(device)"
      ],
      "metadata": {
        "id": "K1N7QYPsydEl"
      },
      "execution_count": null,
      "outputs": []
    },
    {
      "cell_type": "markdown",
      "source": [
        "pt = pytorch tensorlarindan istifade et"
      ],
      "metadata": {
        "id": "H_FfPRLxz2cc"
      }
    },
    {
      "cell_type": "code",
      "source": [
        "text='this is a test'\n",
        "inputs=tokenizer(text,return_tensors='pt')\n",
        "print(inputs)"
      ],
      "metadata": {
        "id": "bUSWRRAuydBN"
      },
      "execution_count": null,
      "outputs": []
    },
    {
      "cell_type": "code",
      "source": [
        "inputs={k : v.to(device) for k, v in inputs.items()}\n",
        "with torch.no_grad():\n",
        "  outputs=model(**inputs)\n",
        "\n",
        "print(outputs.last_hidden_state.size())"
      ],
      "metadata": {
        "id": "tv3SGhVdzejv"
      },
      "execution_count": null,
      "outputs": []
    },
    {
      "cell_type": "markdown",
      "source": [
        "4 soz var ama + cls ve sep elave olunur ona gore shape 6"
      ],
      "metadata": {
        "id": "wzCUs3fg03Xu"
      }
    },
    {
      "cell_type": "code",
      "source": [
        "outputs.last_hidden_state[:,0].shape"
      ],
      "metadata": {
        "id": "0r1camX7zegJ"
      },
      "execution_count": null,
      "outputs": []
    },
    {
      "cell_type": "code",
      "source": [
        "tokenizer.convert_ids_to_tokens(inputs['input_ids'][0])"
      ],
      "metadata": {
        "id": "HjS9PnZu1GFd"
      },
      "execution_count": null,
      "outputs": []
    },
    {
      "cell_type": "code",
      "source": [
        "def extract_hidden_states(batch):\n",
        "  inputs={k: v.to(device) for k , v in batch.items() if k in tokenizer.model_input_names}\n",
        "  with torch.no_grad():\n",
        "    last_hidden_state=model(**inputs).last_hidden_state\n",
        "  return {'hidden_state' : last_hidden_state[:,0].cpu().numpy()}"
      ],
      "metadata": {
        "id": "ZBKH0A4Y1P5y"
      },
      "execution_count": null,
      "outputs": []
    },
    {
      "cell_type": "code",
      "source": [
        "emotions_encoded.set_format('torch', columns=['input_ids', 'attention_mask', 'label'])"
      ],
      "metadata": {
        "id": "FZ2EKoS21gXU"
      },
      "execution_count": null,
      "outputs": []
    },
    {
      "cell_type": "code",
      "source": [
        "emotions_hidden=emotions_encoded.map(extract_hidden_states,batched=True)"
      ],
      "metadata": {
        "id": "OW1HqLcc1gUO"
      },
      "execution_count": null,
      "outputs": []
    },
    {
      "cell_type": "code",
      "source": [
        "emotions_hidden"
      ],
      "metadata": {
        "id": "n-utbrjT1gRt"
      },
      "execution_count": null,
      "outputs": []
    },
    {
      "cell_type": "code",
      "source": [
        "import numpy as np"
      ],
      "metadata": {
        "id": "lg7Yp6_f3mgn"
      },
      "execution_count": null,
      "outputs": []
    },
    {
      "cell_type": "code",
      "source": [
        "X_train=np.array(emotions_hidden['train']['hidden_state'])\n",
        "X_valid=np.array(emotions_hidden['validation']['hidden_state'])\n",
        "y_train=np.array(emotions_hidden['train']['label'])\n",
        "y_valid=np.array(emotions_hidden['validation']['label'])"
      ],
      "metadata": {
        "id": "o3dKTmvJ3uP9"
      },
      "execution_count": null,
      "outputs": []
    },
    {
      "cell_type": "markdown",
      "source": [
        "#Visualization the train dataset"
      ],
      "metadata": {
        "id": "xYHj5JsR4UNy"
      }
    },
    {
      "cell_type": "code",
      "source": [
        "import matplotlib.pyplot as plt\n",
        "from umap import UMAP\n",
        "from sklearn.preprocessing import MinMaxScaler\n",
        "\n",
        "X_scaled=MinMaxScaler().fit_transform(X_train)\n",
        "mapper=UMAP(n_components=2, metric='cosine').fit(X_scaled)\n",
        "df_emb=pd.DataFrame(mapper.embedding_, columns=['X', 'Y'])\n",
        "df_emb['label']=y_train\n",
        "df_emb.head()"
      ],
      "metadata": {
        "id": "54ayiWE345AA"
      },
      "execution_count": null,
      "outputs": []
    },
    {
      "cell_type": "code",
      "source": [
        "fig, ax=plt.subplots(2,3, figsize=(7,5))\n",
        "ax=ax.flatten()\n",
        "cmaps=['Greys', 'Blues', 'Purples', 'Greens', 'Oranges', 'Reds']\n",
        "labels=emotions['train'].features['label']\n",
        "for i , (label, cmap) in enumerate(zip(labels.names, cmaps)):\n",
        "  df_emb_sub=df_emb.query(f'label=={i}')\n",
        "  ax[i].hexbin(df_emb_sub['X'], df_emb_sub['Y'], cmap=cmap, gridsize=20, linewidths=(0,))\n",
        "  ax[i].set_title(label)\n",
        "  ax[i].set_xticks([]), ax[i].set_yticks([])\n",
        "\n",
        "plt.tight_layout()\n",
        "plt.show()\n"
      ],
      "metadata": {
        "id": "NbU1Wc-O448i"
      },
      "execution_count": null,
      "outputs": []
    },
    {
      "cell_type": "markdown",
      "source": [
        "#Training simple classification  model"
      ],
      "metadata": {
        "id": "Us-fH9qo5uIp"
      }
    },
    {
      "cell_type": "code",
      "source": [
        "from sklearn.linear_model import LogisticRegression\n",
        "lr_clf=LogisticRegression(max_iter=3000)\n",
        "lr_clf.fit(X_train, y_train)"
      ],
      "metadata": {
        "id": "Jjge2tvU5uFR"
      },
      "execution_count": null,
      "outputs": []
    },
    {
      "cell_type": "code",
      "source": [
        "lr_clf.score(X_valid, y_valid)"
      ],
      "metadata": {
        "id": "E6DtDFMu8mQa"
      },
      "execution_count": null,
      "outputs": []
    },
    {
      "cell_type": "code",
      "source": [
        "from sklearn.dummy import DummyClassifier\n",
        "\n",
        "dummy_clf=DummyClassifier(strategy='most_frequent')\n",
        "dummy_clf.fit(X_train, y_train)\n",
        "dummy_clf.score(X_valid, y_valid)"
      ],
      "metadata": {
        "id": "WCuik1_U8mNC"
      },
      "execution_count": null,
      "outputs": []
    },
    {
      "cell_type": "code",
      "source": [
        "from sklearn.metrics import ConfusionMatrixDisplay, confusion_matrix\n",
        "\n",
        "def plot_confusion_matrix(y_preds, y_true, labels):\n",
        "  cm=confusion_matrix(y_true, y_preds, normalize='true')\n",
        "  fig,ax=plt.subplots(figsize=(6,6))\n",
        "  disp=ConfusionMatrixDisplay(confusion_matrix=cm, display_labels=labels)\n",
        "  disp.plot(cmap='Blues', values_format='.2f', ax=ax, colorbar=False)\n",
        "  plt.title('Normalized confusion matrix')\n",
        "  plt.show()\n",
        "y_preds=lr_clf.predict(X_valid)\n",
        "plot_confusion_matrix(y_preds,y_valid,labels.names)"
      ],
      "metadata": {
        "id": "nWlv_pGA9fXX"
      },
      "execution_count": null,
      "outputs": []
    },
    {
      "cell_type": "markdown",
      "source": [
        "#Fine Tuning Transformers"
      ],
      "metadata": {
        "id": "NHkleL-wJ4xH"
      }
    },
    {
      "cell_type": "code",
      "source": [
        "from transformers import AutoModelForSequenceClassification\n",
        "\n",
        "model_ckpt='distilbert-base-uncased'\n",
        "num_labels=6\n",
        "model=AutoModelForSequenceClassification.from_pretrained(model_ckpt, num_labels=num_labels).to(device)\n"
      ],
      "metadata": {
        "id": "YHI3I1TTJ4t7"
      },
      "execution_count": null,
      "outputs": []
    },
    {
      "cell_type": "code",
      "source": [
        "from sklearn.metrics import accuracy_score, f1_score\n",
        "\n",
        "def compute_metrics(pred):\n",
        "  labels=pred.label_ids\n",
        "  preds=pred.predictions.argmax(-1)\n",
        "  f1=f1_score(labels, preds,average='weighted')\n",
        "  acc=accuracy_score(labels,preds)\n",
        "  return {'accuracy' : acc, 'f1' : f1}"
      ],
      "metadata": {
        "id": "ynTMSH26LMfr"
      },
      "execution_count": null,
      "outputs": []
    },
    {
      "cell_type": "markdown",
      "source": [
        "#Training the model"
      ],
      "metadata": {
        "id": "UuR3sp7bNCVV"
      }
    },
    {
      "cell_type": "code",
      "source": [
        "from huggingface_hub import notebook_login\n",
        "notebook_login()"
      ],
      "metadata": {
        "id": "p_NOzE6FNCR6"
      },
      "execution_count": null,
      "outputs": []
    },
    {
      "cell_type": "code",
      "source": [
        "from transformers import TrainingArguments\n",
        "\n",
        "batch_size=64\n",
        "logging_steps=len(emotions_encoded['train'])// batch_size\n",
        "model_name=f'{model_ckpt}-finetuned-emotion'\n",
        "training_args=TrainingArguments(\n",
        "    output_dir=model_name,  #main\n",
        "    num_train_epochs=2,  #main\n",
        "    learning_rate=2e-5,   #main\n",
        "    per_device_train_batch_size=batch_size,\n",
        "    per_device_eval_batch_size=batch_size,\n",
        "    weight_decay=0.01,\n",
        "    eval_strategy='epoch',\n",
        "    disable_tqdm=False,\n",
        "    logging_steps=logging_steps,\n",
        "    push_to_hub=True,\n",
        "    log_level='error'\n",
        ")"
      ],
      "metadata": {
        "id": "0giQgoBPOuQZ"
      },
      "execution_count": null,
      "outputs": []
    },
    {
      "cell_type": "code",
      "source": [
        "from transformers import Trainer\n",
        "\n",
        "trainer=Trainer(\n",
        "    model=model,\n",
        "    args=training_args,\n",
        "    compute_metrics=compute_metrics,\n",
        "    train_dataset=emotions_encoded['train'],\n",
        "    eval_dataset=emotions_encoded['validation'],\n",
        "    tokenizer=tokenizer\n",
        ")\n"
      ],
      "metadata": {
        "id": "7ZZs_aDjOuNC"
      },
      "execution_count": null,
      "outputs": []
    },
    {
      "cell_type": "code",
      "source": [
        "trainer.train()"
      ],
      "metadata": {
        "id": "6TNNPSKAOuKs"
      },
      "execution_count": null,
      "outputs": []
    },
    {
      "cell_type": "code",
      "source": [
        "preds_output=trainer.predict(emotions_encoded['validation'])"
      ],
      "metadata": {
        "id": "uoQr7b_PTX-M"
      },
      "execution_count": null,
      "outputs": []
    },
    {
      "cell_type": "code",
      "source": [
        "preds_output"
      ],
      "metadata": {
        "id": "Ll-c0VXlTX61"
      },
      "execution_count": null,
      "outputs": []
    },
    {
      "cell_type": "code",
      "source": [
        "preds_output.metrics"
      ],
      "metadata": {
        "id": "8xE3et7BTp2m"
      },
      "execution_count": null,
      "outputs": []
    },
    {
      "cell_type": "code",
      "source": [
        "y_preds=np.argmax(preds_output.predictions, axis=1)"
      ],
      "metadata": {
        "id": "JuBc8kopTsS6"
      },
      "execution_count": null,
      "outputs": []
    },
    {
      "cell_type": "code",
      "source": [
        "y_preds"
      ],
      "metadata": {
        "id": "wVp0rPcQT5Fe"
      },
      "execution_count": null,
      "outputs": []
    },
    {
      "cell_type": "code",
      "source": [
        "plot_confusion_matrix(y_preds, y_valid,labels.names)"
      ],
      "metadata": {
        "id": "WFmz1owgT5em"
      },
      "execution_count": null,
      "outputs": []
    },
    {
      "cell_type": "markdown",
      "source": [
        "#Fine Tuning With Keras"
      ],
      "metadata": {
        "id": "ahPRI1l3UGHa"
      }
    },
    {
      "cell_type": "code",
      "source": [
        "from transformers import TFAutoModelForSequenceClassification\n",
        "\n",
        "tf_model=(TFAutoModelForSequenceClassification.from_pretrained(model_ckpt, num_labels=num_labels))"
      ],
      "metadata": {
        "id": "ZqZzmX70Um1b"
      },
      "execution_count": null,
      "outputs": []
    },
    {
      "cell_type": "code",
      "source": [
        "tokenizer_columns=tokenizer.model_input_names\n",
        "\n",
        "tf_train_dataset=emotions_encoded['train'].to_tf_dataset(\n",
        "    columns=tokenizer_columns, label_cols=['label'], shuffle=True, batch_size=batch_size)\n",
        "\n",
        "tf_eval_dataset=emotions_encoded['validation'].to_tf_dataset(\n",
        "    columns=tokenizer_columns, label_cols=['label'], shuffle=False, batch_size=batch_size)"
      ],
      "metadata": {
        "id": "iQP3Gbv0UmyJ"
      },
      "execution_count": null,
      "outputs": []
    },
    {
      "cell_type": "code",
      "source": [
        "import tensorflow as tf\n",
        "\n",
        "tf_model.compile(\n",
        "    optimizer=tf.keras.optimizers.Adam(learning_rate=5e-5),\n",
        "    loss=tf.keras.losses.SparseCategoricalCrossentropy(from_logits=True),\n",
        "    metrics=tf.metrics.SparseCategoricalAccuracy()\n",
        ")\n",
        "\n",
        "tf_model.fit(tf_train_dataset, validation_data=tf_eval_dataset,epochs=2)"
      ],
      "metadata": {
        "id": "l4MckNFfUmwb"
      },
      "execution_count": null,
      "outputs": []
    },
    {
      "cell_type": "markdown",
      "source": [
        "#Error Analysis"
      ],
      "metadata": {
        "id": "3wb5_u8HVfEq"
      }
    },
    {
      "cell_type": "code",
      "source": [
        "from torch.nn.functional import cross_entropy\n",
        "\n",
        "def forward_pass_with_labels(batch):\n",
        "  inputs={ k :v.to(device) for k, v in batch.items() if k in tokenizer.model_input_names}\n",
        "  with torch.no_grad():\n",
        "    output=model(**inputs)\n",
        "    pred_label=torch.argmax(output.logits, axis=-1)\n",
        "    loss=cross_entropy(output.logits, batch['label'].to(device),\n",
        "                       reduction='none')\n",
        "\n",
        "    return { 'loss': loss.cpu().numpy(),\n",
        "            'predicted_label': pred_label.cpu().numpy()}"
      ],
      "metadata": {
        "id": "Kf28BUlIVfBI"
      },
      "execution_count": null,
      "outputs": []
    },
    {
      "cell_type": "code",
      "source": [
        "emotions_encoded.set_format('torch', columns=['input_ids', 'attention_mask','label'])\n",
        "\n",
        "emotions_encoded['validation']= emotions_encoded['validation'].map(\n",
        "    forward_pass_with_labels, batched=True,batch_size=16\n",
        ")"
      ],
      "metadata": {
        "id": "uqUUm2gPX2AO"
      },
      "execution_count": null,
      "outputs": []
    },
    {
      "cell_type": "code",
      "source": [
        "emotions_encoded"
      ],
      "metadata": {
        "id": "I4n2KGEvX180"
      },
      "execution_count": null,
      "outputs": []
    },
    {
      "cell_type": "code",
      "source": [
        "emotions_encoded.set_format('pandas')\n",
        "cols=['text', 'label', 'predicted_label', 'loss']\n",
        "df_test=emotions_encoded['validation'][:][cols]\n",
        "df_test['label']=df_test['label'].apply(label_int2str)\n",
        "df_test['predicted_label']=df_test['predicted_label'].apply(label_int2str)"
      ],
      "metadata": {
        "id": "vFt76NmiZf7I"
      },
      "execution_count": null,
      "outputs": []
    },
    {
      "cell_type": "code",
      "source": [
        "df_test.sort_values('loss', ascending=False).head(10)"
      ],
      "metadata": {
        "id": "VJ90sHhhZf3n"
      },
      "execution_count": null,
      "outputs": []
    },
    {
      "cell_type": "code",
      "source": [
        "df_test.sort_values('loss', ascending=False)['text'].iloc[1]"
      ],
      "metadata": {
        "id": "dDUpYrmFZf0_"
      },
      "execution_count": null,
      "outputs": []
    },
    {
      "cell_type": "code",
      "source": [
        "#Modelin en cox emin olduglarin baxa bilereik\n",
        "df_test.sort_values('loss', ascending=True).head(10)"
      ],
      "metadata": {
        "id": "Zq8wQS_8bVu6"
      },
      "execution_count": null,
      "outputs": []
    },
    {
      "cell_type": "markdown",
      "source": [
        "# Saving and Sharing Model"
      ],
      "metadata": {
        "id": "QXH2j7rAbWhU"
      }
    },
    {
      "cell_type": "code",
      "source": [
        "trainer.push_to_hub(commit_message='Training completed')"
      ],
      "metadata": {
        "id": "Qh0Ot-8EbrSh"
      },
      "execution_count": null,
      "outputs": []
    },
    {
      "cell_type": "code",
      "source": [
        "from transformers import pipeline\n",
        "\n",
        "model_id='lilas12/distilbert-base-uncased-finetuned-emotion'\n",
        "classifier=pipeline('text-classification', model=model_id)"
      ],
      "metadata": {
        "id": "zbc36LalbrPO"
      },
      "execution_count": null,
      "outputs": []
    },
    {
      "cell_type": "code",
      "source": [
        "custom_tweet='I saw a movie today and i was really good'\n",
        "preds=classifier(custom_tweet, top_k=6)\n",
        "preds"
      ],
      "metadata": {
        "id": "075DhUwIcW5C"
      },
      "execution_count": null,
      "outputs": []
    },
    {
      "cell_type": "code",
      "source": [
        "labels.names"
      ],
      "metadata": {
        "id": "lsBTiYExek4B"
      },
      "execution_count": null,
      "outputs": []
    },
    {
      "cell_type": "code",
      "source": [
        "preds_df=pd.DataFrame(preds)\n",
        "preds_df_sorted=preds_df.sort_values('label', ascending=True)\n",
        "plt.bar(labels.names, 100* preds_df_sorted['score'])\n",
        "plt.title(f' \"{custom_tweet}\" ')\n",
        "plt.ylabel('prediction probability (%)')\n",
        "plt.show()"
      ],
      "metadata": {
        "id": "hMv7eo1jc_DD"
      },
      "execution_count": null,
      "outputs": []
    },
    {
      "cell_type": "code",
      "source": [],
      "metadata": {
        "id": "hRjaHIr-c-_v"
      },
      "execution_count": null,
      "outputs": []
    }
  ]
}