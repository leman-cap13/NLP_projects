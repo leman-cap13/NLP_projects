{
  "nbformat": 4,
  "nbformat_minor": 0,
  "metadata": {
    "colab": {
      "provenance": [],
      "gpuType": "T4",
      "authorship_tag": "ABX9TyMzy3DCD/WMu91Ys2lUA7S8",
      "include_colab_link": true
    },
    "kernelspec": {
      "name": "python3",
      "display_name": "Python 3"
    },
    "language_info": {
      "name": "python"
    },
    "accelerator": "GPU"
  },
  "cells": [
    {
      "cell_type": "markdown",
      "metadata": {
        "id": "view-in-github",
        "colab_type": "text"
      },
      "source": [
        "<a href=\"https://colab.research.google.com/github/leman-cap13/my_projects/blob/main/Semed_Vurgun.ipynb\" target=\"_parent\"><img src=\"https://colab.research.google.com/assets/colab-badge.svg\" alt=\"Open In Colab\"/></a>"
      ]
    },
    {
      "cell_type": "code",
      "execution_count": null,
      "metadata": {
        "id": "L1ipfWO-50Yd"
      },
      "outputs": [],
      "source": [
        "import tensorflow as tf"
      ]
    },
    {
      "cell_type": "code",
      "source": [
        "from google.colab import files\n",
        "files.upload()\n"
      ],
      "metadata": {
        "id": "l_LDJvGK57AI"
      },
      "execution_count": null,
      "outputs": []
    },
    {
      "cell_type": "code",
      "source": [
        "with open('/content/Semed_Vurgun_seirleri.txt', 'r', encoding='utf-8') as file:\n",
        "    text = file.read()"
      ],
      "metadata": {
        "id": "Zq_xiO8w6kLK"
      },
      "execution_count": null,
      "outputs": []
    },
    {
      "cell_type": "code",
      "source": [
        "text[:100]"
      ],
      "metadata": {
        "id": "3l3Bd0jh63JD"
      },
      "execution_count": null,
      "outputs": []
    },
    {
      "cell_type": "code",
      "source": [
        "#Unikal simvollari tapiriq\n",
        "''.join(sorted(set(text)))"
      ],
      "metadata": {
        "id": "grAlPrc7Dp78"
      },
      "execution_count": null,
      "outputs": []
    },
    {
      "cell_type": "code",
      "source": [
        "# lower edirik herfleri\n",
        "''.join(sorted(set(text.lower())))"
      ],
      "metadata": {
        "id": "I5jC2Z0cECSU"
      },
      "execution_count": null,
      "outputs": []
    },
    {
      "cell_type": "code",
      "source": [
        "#Tokenlere cevirek\n",
        "text_vector_layer=tf.keras.layers.TextVectorization(split='character', standardize='lower')\n",
        "text_vector_layer.adapt([text])\n",
        "text_vector_layer.get_vocabulary()"
      ],
      "metadata": {
        "id": "9Odcq8aVEYoi"
      },
      "execution_count": null,
      "outputs": []
    },
    {
      "cell_type": "code",
      "source": [
        "#encode edirik\n",
        "encode=text_vector_layer([text][0])"
      ],
      "metadata": {
        "id": "amvG9DwtFCi5"
      },
      "execution_count": null,
      "outputs": []
    },
    {
      "cell_type": "code",
      "source": [
        "encode"
      ],
      "metadata": {
        "id": "YWPXuGVZFSjY"
      },
      "execution_count": null,
      "outputs": []
    },
    {
      "cell_type": "code",
      "source": [
        "encode-=2"
      ],
      "metadata": {
        "id": "GmlrIBlVpmx0"
      },
      "execution_count": null,
      "outputs": []
    },
    {
      "cell_type": "code",
      "source": [
        "# vocabulary size ve dataset size tap\n",
        "vocab_size=text_vector_layer.vocabulary_size()-2\n",
        "dataset_size=len(encode)"
      ],
      "metadata": {
        "id": "g5yhitX8FZRF"
      },
      "execution_count": null,
      "outputs": []
    },
    {
      "cell_type": "code",
      "source": [
        "print(\"vocab_size:\", vocab_size)\n",
        "print(\"max index in encode:\", encode.numpy().max())\n"
      ],
      "metadata": {
        "id": "W6rM52VUoOgw"
      },
      "execution_count": null,
      "outputs": []
    },
    {
      "cell_type": "code",
      "source": [
        "dataset_size"
      ],
      "metadata": {
        "id": "yY2oUxIzF6iB"
      },
      "execution_count": null,
      "outputs": []
    },
    {
      "cell_type": "code",
      "source": [
        "vocab_size"
      ],
      "metadata": {
        "id": "wO6TrzNrF8SA"
      },
      "execution_count": null,
      "outputs": []
    },
    {
      "cell_type": "code",
      "source": [
        "#make api function\n",
        "def to_dataset(sequence,length,shuffle=True, seed=None, batch_size=32):\n",
        "  ds=tf.data.Dataset.from_tensor_slices(sequence)\n",
        "  ds=ds.window(length+1,shift=1,drop_remainder=True)\n",
        "  ds=ds.flat_map(lambda window_ds: window_ds.batch(length+1))\n",
        "  if shuffle:\n",
        "    ds=ds.shuffle(100_000, seed=seed)\n",
        "  ds=ds.batch(batch_size)\n",
        "  return ds.map(lambda window : (window[:,:-1], window[:,1 :])).prefetch(1)\n",
        "\n"
      ],
      "metadata": {
        "id": "RROjGB3VGe5p"
      },
      "execution_count": null,
      "outputs": []
    },
    {
      "cell_type": "code",
      "source": [
        "#train test ayir\n",
        "length=100\n",
        "tf.random.set_seed(42)\n",
        "train_data=to_dataset(encode[:100_000],shuffle=True,length=length,seed=42)\n",
        "valid_data=to_dataset(encode[100_000:150_000],shuffle=False,length=length)\n",
        "test_data=to_dataset(encode[150_000:],shuffle=False,length=length)"
      ],
      "metadata": {
        "id": "fWt0CboVllhc"
      },
      "execution_count": null,
      "outputs": []
    },
    {
      "cell_type": "code",
      "source": [
        "#Model qurmaliyiq\n",
        "model=tf.keras.models.Sequential([\n",
        "    tf.keras.layers.Embedding(input_dim=vocab_size,output_dim=64),\n",
        "    tf.keras.layers.GRU(128, return_sequences=True),\n",
        "    tf.keras.layers.Dense(vocab_size, activation='softmax')\n",
        "])\n",
        "model.compile(loss='sparse_categorical_crossentropy', optimizer=tf.keras.optimizers.Adam(learning_rate=0.001), metrics=['accuracy'])\n",
        "\n",
        "model.fit(train_data, epochs=3, validation_data=valid_data)"
      ],
      "metadata": {
        "id": "BY6UoQNCj8UC"
      },
      "execution_count": null,
      "outputs": []
    },
    {
      "cell_type": "code",
      "source": [
        "#Semed vurgun model\n",
        "Semed_Vurgun_model=tf.keras.Sequential([\n",
        "    text_vector_layer,\n",
        "    tf.keras.layers.Lambda(lambda x: x-2),\n",
        "    model\n",
        "])\n",
        "\n",
        "\n"
      ],
      "metadata": {
        "id": "XBE7zumHmdar"
      },
      "execution_count": null,
      "outputs": []
    },
    {
      "cell_type": "code",
      "source": [
        "def next_char(text, temperature=1.0):\n",
        "    text = tf.constant([text])  # Daxil edilən mətni Tensor'a çeviririk\n",
        "    y_proba = Semed_Vurgun_model.predict(text)[0, -1:]  # Modeli işlədərək növbəti simvolu alırıq\n",
        "    rescaled_logits = tf.math.log(y_proba) / temperature  # Temperatur tənzimlənməsi\n",
        "    char_id = tf.random.categorical(rescaled_logits, num_samples=1)[0, 0]  # Növbəti simvolu təxmin edirik\n",
        "    return text_vector_layer.get_vocabulary()[char_id + 2]  # Təsadüfi simvolu seçirik\n",
        "\n",
        "# Şeiri uzatma funksiyası\n",
        "def extend_text(text, chars=50, temperature=1.0):\n",
        "    for _ in range(chars):\n",
        "        text += next_char(text, temperature)  # Hər dəfə növbəti simvolu əlavə edirik\n",
        "    return text\n",
        "\n",
        "# Başlanğıc mətni veririk\n",
        "start_text = \"Yenə qılıncını çəkdi üstümə,Qurbanı olduğum o ala gözlər\"\n",
        "\n",
        "# Şeir yaratmaq\n",
        "generated_text = extend_text(start_text, chars=100, temperature=0.8)\n",
        "\n",
        "print(generated_text)"
      ],
      "metadata": {
        "id": "aOn-vMwJvD0z"
      },
      "execution_count": null,
      "outputs": []
    }
  ]
}